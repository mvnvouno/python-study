{
 "cells": [
  {
   "cell_type": "code",
   "execution_count": null,
   "id": "b190fbfe",
   "metadata": {},
   "outputs": [],
   "source": [
    "def solution(price):\n",
    "    if price >= 500000:\n",
    "        answer = int(0.8 * price)\n",
    "    elif price >= 300000:\n",
    "        answer = int(0.9 * price)\n",
    "    elif price >= 100000:\n",
    "        answer = int(0.95 * price)\n",
    "    return answer"
   ]
  },
  {
   "cell_type": "code",
   "execution_count": null,
   "id": "b0eaf77d",
   "metadata": {},
   "outputs": [],
   "source": [
    "    # < window 단축키 모음 >\n",
    "        # home: 그 행 맨 앞으로\n",
    "        # end: 그 행 맨 뒤로\n",
    "        # ctrl + home: 해당 블록 맨 앞으로\n",
    "        # ctrl + end: 해당 블록 맨 뒤로\n",
    "        # ctrl + shift + 방향키: 단어 단위로 이동함!\n",
    "        # alt + f4: 켜져있는 모든 프로그램 종료\n",
    "        # winkey + e: 파일검색\n",
    "\n",
    "    # debugging 방법: 코드 줄당 실행 가능!\n",
    "        # f5: 해당 줄이 실행 될 차례라는 뜻!\n",
    "        # shift + f5: stop debugging (or 상단 bar에서 '중단' button)\n",
    "        # f9: 해당 줄에 디버그 stop점 (break point) 설정 / 해제\n",
    "        # f10: 해당 줄 코드 실행하고 다음 줄로 이동 후 대기\n",
    "            # 대기하는 줄에서는 실행 전임!\n",
    "        # f11: 함수 내부로 들어가서 줄 코드 실행\n",
    "        # shift + f11: 현재 함수를 빠져나가서 다음 코드로 이동\n",
    "        # f12: 함수 정의로 이동\n",
    "        # 재시작 button: 해당 블록 출력을 지우는 버튼\n",
    "        # f5: → '블록 전체 debugging\"\n",
    "        # debugging 중엔 \n",
    "            # jupiter variables 버튼 누르면: \n",
    "            # 변수 type, size, value 표시됨"
   ]
  },
  {
   "cell_type": "code",
   "execution_count": null,
   "id": "53daf4c9",
   "metadata": {},
   "outputs": [],
   "source": [
    "# Lab 03 - 프로그램 흐름제어\n",
    "\n",
    "## 1. 프로그램 흐름제어\n",
    "    # 조건문과 반복문(blocks) 조합함\n",
    "    # block 안에 block 넣을 수 있음\n",
    "    # ex) \"if - for\", \"for - if\", \"for - for\"\n",
    "\n",
    "# for과 while 쓸 때 수의 '합'을 구하려면 \n",
    "    # 조건문 드가기 전에 기본값 변수 = 0 기입 필수!\n",
    "\n",
    "# for문은 range(1, n) 까지라고 하면\n",
    "#   1부터 \"n-1\"까지만 경우 카운트 하니까\n",
    "    # for a in range(1, 'number + 1') 라고\n",
    "#   n 자리에 'number + 1' 쓰기!"
   ]
  },
  {
   "cell_type": "code",
   "execution_count": null,
   "id": "05930bf9",
   "metadata": {},
   "outputs": [],
   "source": [
    "# 실습\n",
    "\n",
    "point = int(input(\" \"))\n",
    "\n",
    "if point > 70:\n",
    "    print(\"passed\")\n",
    "\n",
    "    if point > 90:\n",
    "        print(\"grade A\")\n",
    "    elif point > 80:\n",
    "        print(\"grade B\")\n",
    "    else:\n",
    "        print(\"grade C\")\n",
    "\n",
    "else:\n",
    "    print(\"failed\")\n",
    "              "
   ]
  },
  {
   "cell_type": "code",
   "execution_count": null,
   "id": "e0e700bb",
   "metadata": {},
   "outputs": [],
   "source": [
    "#짝홀의 합\n",
    "x = 0\n",
    "y = 0 #sum을 위해서는 기본값 0 필요\n",
    "\n",
    "for i in range(1, 11):\n",
    "    if i % 2 == 0:\n",
    "        print(i, \"→ even number\")\n",
    "        x = x + i\n",
    "    else:\n",
    "        print(i, \"→ odd number\")\n",
    "        y = y + i\n",
    "\n",
    "print(\"sum of even numbers:\", x)\n",
    "print(\"sum of odd numbers:\", y)"
   ]
  },
  {
   "cell_type": "code",
   "execution_count": null,
   "id": "299bc440",
   "metadata": {},
   "outputs": [],
   "source": [
    "for i in range(0,5):\n",
    "    print(i)\n",
    "    if i + 1 < 5:\n",
    "        print(\"===\")"
   ]
  },
  {
   "cell_type": "code",
   "execution_count": null,
   "id": "79d6e132",
   "metadata": {},
   "outputs": [],
   "source": [
    "x = 3\n",
    "y = 5\n",
    "for i in range(1, 101):\n",
    "    if i % x == 0 and i % y == 0:\n",
    "        print(i)"
   ]
  },
  {
   "cell_type": "code",
   "execution_count": null,
   "id": "d910d127",
   "metadata": {},
   "outputs": [],
   "source": [
    "print(\"======================\")\n",
    "\n",
    "for i in range(0, 3):\n",
    "    print(\"i에 대한 반복 수행 시작: i =\", i, \":\")\n",
    "\n",
    "    for j in range(0,5):\n",
    "        print(\"::: i=\", j, i, \", j=\", j)\n",
    "    \n",
    "    print(\"i에 대한 반복 수행 종료\")\n",
    "\n",
    "    if i + 1 <= 3:\n",
    "        print(\"======================\")"
   ]
  },
  {
   "cell_type": "code",
   "execution_count": null,
   "id": "e66e3d4b",
   "metadata": {},
   "outputs": [],
   "source": [
    "for i in range(0,5):\n",
    "    star = \"\"\n",
    "\n",
    "    for j in range(0, i+1):\n",
    "        star = star + \"*\"\n",
    "\n",
    "    print(star)        "
   ]
  },
  {
   "cell_type": "code",
   "execution_count": null,
   "id": "6bfe404f",
   "metadata": {},
   "outputs": [],
   "source": [
    "# 무한루프에서 벗어나는 법 in 반복문(for, while): \n",
    "    # (범위지정) \n",
    "    # → break, continue 이용!!\n",
    "    # (while 대신 for문 쓰기)\n",
    "\n",
    "y = 0       # 초기값 (초기 변수 지정)\n",
    "\n",
    "while True:     # 조건식\n",
    "    y = y + 1        # 증감식\n",
    "\n",
    "    if y % 2 == 0:\n",
    "        continue     # 조건식을 강제로 반복문으로 이동\n",
    "    if y < 10:\n",
    "        print(\"Hello Python ::\", y)\n",
    "\n",
    "    if y >= 10:\n",
    "        break        # 반복문 강제 종료."
   ]
  },
  {
   "cell_type": "code",
   "execution_count": null,
   "id": "11b51a86",
   "metadata": {},
   "outputs": [],
   "source": [
    "# 두 개의 주사위 던질 때 두 눈의 합이 6이 되는 모든 경우의 수 출력법\n",
    "\n",
    "    # 주사위1 = i, 주사위2 = j      -> 초기값\n",
    "    # i + j = 6 성립               -> 조건식\n",
    "    # -> 증감식?\n",
    "count = 0\n",
    "\n",
    "for i in range(1,7):\n",
    "    for j in range(1,7):\n",
    "        if i + j ==6:\n",
    "            print(i, j)\n",
    "            count = count + 1\n",
    "print(\"경우의 수:\", count)"
   ]
  },
  {
   "cell_type": "code",
   "execution_count": null,
   "id": "c72d01b2",
   "metadata": {},
   "outputs": [],
   "source": [
    "# 02. 리스트 \n",
    "    # 리스트는 변수 배열 하는 것\n",
    "    # numoy\n",
    "    # 함수식: \"리스트이름 = [값1, 값2, 값3, ...]\"\n",
    "    # 출력형태: [  ,  ,  , ...]\n",
    "    # 리스트의 인덱스: 값 = 칸 마다 \"0부터 일련번호\"가 자동 지정되는 것\n",
    "    \n",
    "    # 리스트의 성격\n",
    "        # 리스트 + 리스트: 리스트의 열이 증가\n",
    "            # ex) [1, 2, 3] + [4, 5] = [1, 2, 3, 4, 5]\n",
    "        # 리스트 * 리스트: 리스트 안의 값이 곱해짐\n",
    "            # ex) 3 * [1, 2, 3] = [1, 2, 3, 1, 2, 3, 1, 2, 3]\n",
    "        # 리스트는 +랑 *정수 연산밖에 못함!\n",
    "    \n",
    "    # 2차원 리스트 (=행렬) \n",
    "        # 2차원 리스트 안에서는 줄 바꿈 허용함\n",
    "        # 가변리스트:\n",
    "            # 2차원 리스트 안의 개별 리스트 끼리는 열의 갯수가 다를 수 있음!"
   ]
  },
  {
   "cell_type": "code",
   "execution_count": null,
   "id": "8c694250",
   "metadata": {},
   "outputs": [],
   "source": [
    "list1 = [10, 20, 30]\n",
    "list2 = [40, 50, 60]\n",
    "\n",
    "print(list1)\n",
    "print(list2)\n",
    "\n",
    "print(list1[0] + list1[1] + list1[2])"
   ]
  },
  {
   "cell_type": "code",
   "execution_count": null,
   "id": "3a79f225",
   "metadata": {},
   "outputs": [],
   "source": [
    "list3 = list1 + list2\n",
    "print(list3)"
   ]
  },
  {
   "cell_type": "code",
   "execution_count": null,
   "id": "a2ed4f41",
   "metadata": {},
   "outputs": [],
   "source": [
    "list4 = list1 * 5\n",
    "print(list4)"
   ]
  },
  {
   "cell_type": "code",
   "execution_count": null,
   "id": "0af9db60",
   "metadata": {},
   "outputs": [],
   "source": [
    "stud1 = [\"철수\", 98]\n",
    "stud2 = [\"영희\", 82]\n",
    "stud3 = [\"나영\", 73]\n",
    "\n",
    "studGrp = [stud1, stud2, stud3]\n",
    "print(studGrp)\n"
   ]
  },
  {
   "cell_type": "code",
   "execution_count": null,
   "id": "82dd4675",
   "metadata": {},
   "outputs": [],
   "source": [
    "print(studGrp[2]) #2차원 리스트의 '행'에 접근하기"
   ]
  },
  {
   "cell_type": "code",
   "execution_count": null,
   "id": "d6c5e5b2",
   "metadata": {},
   "outputs": [],
   "source": [
    "print(studGrp[2][1]) # 2차원 리스트의 '열'에 접근하기"
   ]
  },
  {
   "cell_type": "code",
   "execution_count": null,
   "id": "f7448145",
   "metadata": {},
   "outputs": [],
   "source": [
    "학생행렬 = [\n",
    "    [\"가영\", 19, 165], \n",
    "    [\"나영\", 20, 170], \n",
    "    [\"다영\", 21, 175]\n",
    "    ]\n",
    "\n",
    "print(\n",
    "    \"이름:\", 학생행렬[0][0], \n",
    "    \", 나이:\", 학생행렬[0][1], \"살,\", \n",
    "    \"키:\", 학생행렬[0][2], \"cm\"\n",
    "    )"
   ]
  },
  {
   "cell_type": "markdown",
   "id": "e8545516",
   "metadata": {},
   "source": [
    "3. 인덱싱과 슬라이싱"
   ]
  },
  {
   "cell_type": "code",
   "execution_count": null,
   "id": "82334744",
   "metadata": {},
   "outputs": [],
   "source": [
    "# print(list[a:b]) 에서\n",
    "    \n",
    "    # a 번째 열 부터 b 번째 '왼쪽'!!열까지의 리스트를 출력해라는 뜻인데\n",
    "        # 정방향으로 원소 순서 셀 때는 0부터 시작하지만\n",
    "            # : [0, 1, 2, 3, ..]\n",
    "        # 역방향으로 원소 순서 셀 때는 '-1'부터 시작한다!\n",
    "            # : [-n, -(n-1), ..., -3, -2, -1]\n",
    "                # (∵) 컴터가 0과 -0을 구분 못하기 때문임 (i.e. 0 = -0)\n",
    "\n",
    "    # a, b 둘 다 생략 가능!\n",
    "        # [: 특정지점]: '처음'부터 특정 지점 왼쪽까지\n",
    "        # [특정지점:]: 특정 지점부터 끝까지\n",
    "        # [:]: 처음부터 끝까지\n",
    "    \n",
    "    # if list[n0, n1, n2, ..., nn]이 존재할 때\n",
    "        # 1번째 원소 == n0\n",
    "        # -2번째 원소 == n(n-1) 주의)\n",
    "        # print(list[a:b]): \n",
    "        # n(a-1) 원소 ~ n(b-1) 원소까지의 리스트를 뜻함!  \n",
    "\n",
    "    # 슬라이싱 기능 활용법\n",
    "        # 형태: list[int1:int2] = [int3:int4]\n",
    "              # print(list)    \n",
    "            # 교체: 슬라이싱 범위 길이 = 선택 범위 길이 \n",
    "            # 삭제: 슬라이싱 범위 길이 = 0\n",
    "                # ex) list[c:d] = []\n",
    "                    # print(list)\n",
    "            # 확장: 슬라이싱 범위 길이 > 선택 범위 길이 \n",
    "            # 축소: 슬라이싱 범위 길이 < 선택 범위 길이 "
   ]
  },
  {
   "cell_type": "code",
   "execution_count": null,
   "id": "a56227c1",
   "metadata": {},
   "outputs": [],
   "source": [
    "mylist = [10, 20, 30]\n",
    "print(mylist[1])\n",
    "print(mylist[-1])"
   ]
  },
  {
   "cell_type": "code",
   "execution_count": null,
   "id": "d94f383f",
   "metadata": {},
   "outputs": [],
   "source": [
    "first = mylist[0]\n",
    "print(first)"
   ]
  },
  {
   "cell_type": "code",
   "execution_count": null,
   "id": "3a5a780c",
   "metadata": {},
   "outputs": [],
   "source": [
    "mylist[1] = 200\n",
    "print(mylist[1])"
   ]
  },
  {
   "cell_type": "code",
   "execution_count": null,
   "id": "1df355c5",
   "metadata": {},
   "outputs": [],
   "source": [
    "print(mylist)"
   ]
  },
  {
   "cell_type": "code",
   "execution_count": null,
   "id": "f6bdd445",
   "metadata": {},
   "outputs": [],
   "source": [
    "print(mylist[:])"
   ]
  },
  {
   "cell_type": "code",
   "execution_count": null,
   "id": "a70ccba1",
   "metadata": {},
   "outputs": [],
   "source": [
    "mylist = [60, 70, 80, 90, 100]\n",
    "print(mylist)"
   ]
  },
  {
   "cell_type": "code",
   "execution_count": null,
   "id": "14277823",
   "metadata": {},
   "outputs": [],
   "source": [
    "print(mylist[2:4])"
   ]
  },
  {
   "cell_type": "code",
   "execution_count": null,
   "id": "728474cb",
   "metadata": {},
   "outputs": [],
   "source": [
    "print(mylist[1:-3])"
   ]
  },
  {
   "cell_type": "code",
   "execution_count": null,
   "id": "55a375f6",
   "metadata": {},
   "outputs": [],
   "source": [
    "print(mylist[1:-1])"
   ]
  },
  {
   "cell_type": "code",
   "execution_count": null,
   "id": "db85e27e",
   "metadata": {},
   "outputs": [],
   "source": [
    "print(mylist[:3])\n",
    "print(mylist[-4:4])\n",
    "print(mylist[-2:])\n",
    "print(mylist[:])"
   ]
  },
  {
   "cell_type": "code",
   "execution_count": null,
   "id": "264d603e",
   "metadata": {},
   "outputs": [],
   "source": [
    "mylist[1:2] = []\n",
    "print(mylist)"
   ]
  },
  {
   "cell_type": "code",
   "execution_count": null,
   "id": "f45f8235",
   "metadata": {},
   "outputs": [],
   "source": [
    "mylist[1:3] = [1, 2, 3, 4, 5, 6]\n",
    "print(mylist)"
   ]
  },
  {
   "cell_type": "markdown",
   "id": "bb449e31",
   "metadata": {},
   "source": [
    "4. 리스트의 원소 복사"
   ]
  },
  {
   "cell_type": "code",
   "execution_count": null,
   "id": "3de40dbf",
   "metadata": {},
   "outputs": [],
   "source": [
    "# 일반변수: 깊은복사\n",
    "    # (∵) 갚 자체를 복사 -> 원본 유지\n",
    "    # a = 20 : 20 값을 a 칸에 저장\n",
    "    # b = a\n",
    "\n",
    "# 연속성 자료형(ex. 리스트): 얕은 복사\n",
    "    # (∵) '위치'를 복사 -> 원본도 변화ㅠ!\n",
    "\n",
    "        # 리스트의 원본 유지 방법:\n",
    "            # 리스트에 내장 된 함수 사용  \n",
    "            # !슬라이싱 이용!\n",
    "                \n",
    "                # ex) hello = [100, 200, 300]\n",
    "                    # cp2 = hello[:]\n",
    "                    # print(hello)        \n",
    "                    # print(cp2)    \n",
    "                # 해석: \n",
    "                # hello = [100, 200, 300]: 특정 공간에 저장되어 있던 \n",
    "                    # 리스트 자체를 hello 라는 변수공간에 원본 저장\n",
    "                # cp2 = hello[:]: hello라는 변수 공간에 저장되어 있던\n",
    "                    # 리스트 자체를 cp2 라는 변수공간에 복붙\n",
    "                        # 여기서 hello[:]는 위치만 저장하는게 아니라\n",
    "                        # 동일한 리스트 값 까지 복붙 저장한다는게 핵심임!!!      \n",
    "                # 서로 다른 두 변수공간에 동일 리스트가 존재하게 됨\n",
    "                # -> print 해도 원본 유지 -> 깊은 복사 쌉가능\n",
    "\n",
    "                # 튜플 활용 (비추)\n",
    "                    # 리스트의 '읽기 버전'\n",
    "                    # 사용법: 리스트 원소 유지, 대괄호 [ , ] 대신 소괄호 ( , ) 사용\n",
    "\n",
    "# 리스트, 튜플의 구조분해\n",
    "    # : 리스트랑 튜플의 원소는 변수로 1:1 복사 가능\n",
    "    # ex) \n",
    "    # a, b = [\"Python\", \"BigData\"]\n",
    "    # print(a)                      -> 출력: Python\n",
    "    # print(b)                      -> 출력: BigData"
   ]
  },
  {
   "cell_type": "code",
   "execution_count": null,
   "id": "786f033e",
   "metadata": {},
   "outputs": [],
   "source": [
    "# 리스트 안 원소가 '몇번째 원소'인지가 필요할 때는 \n",
    "# 리스트 자체를 탐색하는 for문으로는 구할 수 없다!\n",
    "\n",
    "# for i, v in enumerate(listName[ , , , ...])\n",
    "    # print(i)\n",
    "    # print(v)\n",
    "# 인덱스 번호(i)랑 원소(v) 둘 다 탐색하는 반복문\n",
    "\n",
    "# 이차원 리스트의 원소 탐색은 '이중 반복문'이 필요하다!"
   ]
  },
  {
   "cell_type": "markdown",
   "id": "63127fff",
   "metadata": {},
   "source": [
    "### 2차원 리스트 탐색패턴 1:\n",
    "#### 2차원 리스트의 각 원소에 대한 반복문 구성법"
   ]
  },
  {
   "cell_type": "code",
   "execution_count": 89,
   "id": "fb3cf088",
   "metadata": {},
   "outputs": [
    {
     "name": "stdout",
     "output_type": "stream",
     "text": [
      "size =  2\n",
      "0 번째 데이터: [88, 72, 83, 90]\n",
      "                 => 총합 = 333 , 평균= 83.25\n",
      "1 번째 데이터: [63, 77, 72, 80]\n",
      "                 => 총합 = 292 , 평균= 73.0\n"
     ]
    }
   ],
   "source": [
    "mydata = [\n",
    "    [88, 72, 83, 90],\n",
    "    [63, 77, 72, 80]\n",
    "]\n",
    "\n",
    "\n",
    "size = len(mydata)                  # ->  mydata의 원소들, 즉 '분홍색 갯수 = 행 갯수'\n",
    "print(\"size = \", size)\n",
    "\n",
    "for i in range(0, size):            # 나올 수 있는 i는 0, 1 -> 즉 mydata 리스트 각 원소의 인덱스 값들을 뜻함\n",
    "    print(i, \"번째 데이터:\", mydata[i])        \n",
    "\n",
    "    total = 0                       # -> 반복문 for로 인해 i가 mydata 리스트의 길이(=2)만큼 1씩 증가하면서 total 값에 영향을 주어야 하는데(ex. total += 1) 여기서는 i=0일때의 total도 0이고 i=1일때의 total도 0이이기 때문에 몇번째인지에는 관여 하나, 2차원 각 행의 원소들의 총합에는 영향을 안 줄수 있음!\n",
    "    \n",
    "    size = len(mydata[i])           # 아직 i=0일때임. 즉 len(mydata[0])이라는 소리니까 mydata의 0번째 원소, 즉 [88, 72, 83, 90]를 뜻함!\n",
    "    for j in range(0, size):        # 여기 size는\n",
    "        total = total + mydata[i][j]   # i 번째 행의 j 번째 원소 값, 즉 mydata 리스트의 '원소'\n",
    "\n",
    "    avg = total / size              # 행 단위 평균값\n",
    "\n",
    "    print(\"                 => 총합 =\", total, \", 평균=\", avg)"
   ]
  },
  {
   "cell_type": "code",
   "execution_count": null,
   "id": "71caefcc",
   "metadata": {},
   "outputs": [],
   "source": [
    "#설명: block[70], line 12\n",
    "#   반복문 for로 인해 \n",
    "#   i가 mydata 리스트의 길이(=2)만큼 0부터 1씩 증가하면서 \n",
    "#   total 값에 영향을 주어야 하는데(ex. total += 1) \n",
    "#   여기서는 i=0일때의 total도 0이고 \n",
    "#   i=1일때의 total도 0이기 때문에 \n",
    "#   이어지는 하위 항목의 for문에서는\n",
    "#   i는 몇번째인지 순서에는 관여 하나, \n",
    "#   2차원 각 행의 원소들의 총합에는 영향을 안 줄수 있음!\n",
    "\n",
    "#그 기능에 덧붙여서, \n",
    "#   13행 아래에 오는 조건문에서의 \n",
    "#   '총합'을 구할 수 있게 해주는 역할도 추가!"
   ]
  },
  {
   "cell_type": "code",
   "execution_count": null,
   "id": "41c38fb8",
   "metadata": {},
   "outputs": [],
   "source": [
    "#설명: block[70], line 14\n",
    "#   아직 i=0일때임. \n",
    "#   즉 len(mydata[0])이라는 소리니까 \n",
    "#   mydata의 0번째 원소, \n",
    "#   즉 mydata[0]는 [88, 72, 83, 90]를 뜻하고\n",
    "#   따라서 i=0 일때의 len(mydata[i]) = 4를 가지게 됨!\n",
    "#   \"이 4가 line 15에서의 size가 되게 됨!!!!!!!\"\""
   ]
  },
  {
   "cell_type": "markdown",
   "id": "108c7fef",
   "metadata": {},
   "source": [
    "### 2차원 리스트 탐색패턴 2:\n",
    "#### 반복문의 변수 그 자체가 2차원 리스트의 원소가 되는 것"
   ]
  },
  {
   "cell_type": "code",
   "execution_count": 92,
   "id": "4d35e7b0",
   "metadata": {},
   "outputs": [],
   "source": [
    "# row 값은 mydata의 원소이므로 '리스트'를 변수로 가지고\n",
    "    # -> row의 범위: [88, 72, 83, 90], [63, 77, 72, 80]\n",
    "# col은 mydata의 각각의 원소의 원소이므로 '값'을 변수로 가진다!\n",
    "    # -> col의 범위: \n",
    "    #   row = [88, 72, 83, 90]일땐: 88, 72, 83, 90 \n",
    "    #         [63, 77, 72, 80]일땐: 63, 77, 72, 80"
   ]
  },
  {
   "cell_type": "code",
   "execution_count": null,
   "id": "5b0f5da5",
   "metadata": {},
   "outputs": [
    {
     "name": "stdout",
     "output_type": "stream",
     "text": [
      "이번에 출력되는 데이터는 [88, 72, 83, 90] 이고\n",
      "이 list에 대한 총합은 333 이고, 평균은 90 입니다.\n",
      " \n",
      "이번에 출력되는 데이터는 [63, 77, 72, 80] 이고\n",
      "이 list에 대한 총합은 292 이고, 평균은 80 입니다.\n",
      " \n"
     ]
    },
    {
     "ename": "",
     "evalue": "",
     "output_type": "error",
     "traceback": [
      "\u001b[1;31m현재 셀 또는 이전 셀에서 코드를 실행하는 동안 Kernel이 충돌했습니다. \n",
      "\u001b[1;31m셀의 코드를 검토하여 가능한 오류 원인을 식별하세요. \n",
      "\u001b[1;31m자세한 내용을 보려면 <a href='https://aka.ms/vscodeJupyterKernelCrash'>여기</a>를 클릭하세요. \n",
      "\u001b[1;31m자세한 내용은 Jupyter <a href='command:jupyter.viewOutput'>로그</a>를 참조하세요."
     ]
    }
   ],
   "source": [
    "mydata = [\n",
    "    [88, 72, 83, 90],\n",
    "    [63, 77, 72, 80]\n",
    "]\n",
    "\n",
    "\n",
    "for row in mydata:\n",
    "    print(\"이번에 출력되는 데이터는\", row, \"이고\")\n",
    "\n",
    "    total = 0\n",
    "\n",
    "    for col in row:\n",
    "        total = total + col\n",
    "    avg = total / len(row)\n",
    "\n",
    "    print(\"이 list에 대한 총합은\", total, \"이고, 평균은\", col, \"입니다.\" )\n",
    "    print(\" \")"
   ]
  },
  {
   "cell_type": "code",
   "execution_count": null,
   "id": "ec1c271a",
   "metadata": {},
   "outputs": [],
   "source": []
  }
 ],
 "metadata": {
  "kernelspec": {
   "display_name": "Python 3",
   "language": "python",
   "name": "python3"
  },
  "language_info": {
   "codemirror_mode": {
    "name": "ipython",
    "version": 3
   },
   "file_extension": ".py",
   "mimetype": "text/x-python",
   "name": "python",
   "nbconvert_exporter": "python",
   "pygments_lexer": "ipython3",
   "version": "3.13.9"
  }
 },
 "nbformat": 4,
 "nbformat_minor": 5
}
