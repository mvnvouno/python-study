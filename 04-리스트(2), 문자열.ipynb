{
 "cells": [
  {
   "cell_type": "markdown",
   "id": "257de15a",
   "metadata": {},
   "source": [
    "### 01. 리스트의 탐색(2)\n",
    "#### 이차원 리스트의 원소 탐색은 '이중 반복문'이 필요하다!"
   ]
  },
  {
   "cell_type": "code",
   "execution_count": null,
   "id": "f276c587",
   "metadata": {},
   "outputs": [],
   "source": [
    "# for문을 사용한 리스트의 탐색\n",
    "    # 인덱스 번호로 탐색: 0, 1, 2, ..., (n-1)번 (길이 전 까지 번호)\n",
    "        # 길이는 'len(리스트)'로 표현 가능\n",
    "        # 반복문 증감식과 일치하는 규칙을 가지고 있다!\n",
    "        # ex) for i in range(0, len(리스트)):\n",
    "            # print(리스트[i])\n",
    "    # 원소 직접 탐색\n",
    "        # 리스트의 원소 i 자체가 범위가 됨! 무슨 의미냐,\n",
    "        # 몇 번째 항목인지 필요 없을 떄 쓰임\n",
    "        # ex) for i in 리스트:\n",
    "            # print(i)\n",
    "    # 동시에 둘 다 탐색\n",
    "        # 인덱스 번호(i), 원소값(v) 모두 사용\n",
    "        # ex) for i, v in enumerate(리스트):\n",
    "            # print(i)      -> 출력: 0, 1, 2, ...\n",
    "            # print(v)      -> 출력: 서울, 인천, 대구, ..(ex) p.4)"
   ]
  },
  {
   "cell_type": "code",
   "execution_count": 1,
   "id": "5bb44b4e",
   "metadata": {},
   "outputs": [
    {
     "name": "stdout",
     "output_type": "stream",
     "text": [
      "0\n",
      "spring\n",
      "1\n",
      "summer\n",
      "2\n",
      "fall\n",
      "3\n",
      "winter\n"
     ]
    }
   ],
   "source": [
    "# ex) 인덱스 번호로 탐색\n",
    "seasons = ['spring', 'summer', 'fall', 'winter'] # -> 리스트 이름: seasons\n",
    "size = len(seasons)\n",
    "\n",
    "for i in range(0, size): # -> i = index number\n",
    "    print(i)\n",
    "    print(seasons[i]) #: i 번째 인덱스의 원소: 값 or 리스트(2차원리스트의 경우)로 나올 수 있다"
   ]
  },
  {
   "cell_type": "code",
   "execution_count": 2,
   "id": "694aff2c",
   "metadata": {},
   "outputs": [
    {
     "name": "stdout",
     "output_type": "stream",
     "text": [
      "python\n",
      "is\n",
      "sensitive\n"
     ]
    }
   ],
   "source": [
    "# ex) for문을 통한 원소 직접 탐색\n",
    "msg = ['python', 'is', 'sensitive']\n",
    "for i in msg:\n",
    "    print(i)"
   ]
  },
  {
   "cell_type": "code",
   "execution_count": 3,
   "id": "5fa718f0",
   "metadata": {},
   "outputs": [
    {
     "name": "stdout",
     "output_type": "stream",
     "text": [
      "총점은 407 점이고, 평균은 81 입니다.\n"
     ]
    }
   ],
   "source": [
    "# 리스트 원소의 '총합', '평균' 구하기\n",
    "    # by using 초기값: total = 0\n",
    "score = [100, 82, 98, 76, 51]\n",
    "total = 0\n",
    "\n",
    "for v in score:\n",
    "    total = total + v\n",
    "avg = total // len(score)\n",
    "\n",
    "print(\"총점은\", total, \"점이고, 평균은\", avg, \"입니다.\")"
   ]
  },
  {
   "cell_type": "code",
   "execution_count": 4,
   "id": "d5d28956",
   "metadata": {},
   "outputs": [
    {
     "name": "stdout",
     "output_type": "stream",
     "text": [
      "0 번째 도시 이름: 서울\n",
      "1 번째 도시 이름: 부산\n",
      "2 번째 도시 이름: 대구\n",
      "3 번째 도시 이름: 인천\n",
      "4 번째 도시 이름: 대전\n",
      "5 번째 도시 이름: 광주\n"
     ]
    }
   ],
   "source": [
    "    # 동시에 둘 다 탐색 by using 'enumarate' 함수\n",
    "city = ['서울', '부산', '대구', '인천', '대전', '광주']\n",
    "for i, v in enumerate(city):\n",
    "    print(i, \"번째 도시 이름:\", v)"
   ]
  },
  {
   "cell_type": "code",
   "execution_count": 8,
   "id": "95800568",
   "metadata": {},
   "outputs": [],
   "source": [
    "# 이차원 리스트"
   ]
  },
  {
   "cell_type": "code",
   "execution_count": 18,
   "id": "d5c808a1",
   "metadata": {},
   "outputs": [
    {
     "name": "stdout",
     "output_type": "stream",
     "text": [
      "해당 리스트의 크기는 2 입니다.\n",
      "index 번호: 0 번째 원소는 [88, 72, 83, 90] 입니다.\n",
      "-> 이때의 총 합은 333 이고, 평균은 83.25 입니다.\n",
      "index 번호: 1 번째 원소는 [63, 77, 72, 80] 입니다.\n",
      "-> 이때의 총 합은 292 이고, 평균은 73.0 입니다.\n"
     ]
    }
   ],
   "source": [
    "## ex) 인덱스 번호로 이차원 리스트 탐색\n",
    "mydata = [\n",
    "    [88, 72, 83, 90],\n",
    "    [63, 77, 72, 80]\n",
    "]\n",
    "\n",
    "size = len(mydata)\n",
    "print(\"해당 리스트의 크기는\", size, \"입니다.\")\n",
    "\n",
    "for i in range(0, size):\n",
    "    print(\"index 번호:\", i, \"번째 원소는\", mydata[i], \"입니다.\")\n",
    "\n",
    "    size = len(mydata[i])\n",
    "    total = 0\n",
    "    for j in range(0, size):\n",
    "        total = total + mydata[i][j]\n",
    "    avg = total / size\n",
    "\n",
    "    print(\"-> 이때의 총 합은\", total, \"이고, 평균은\", avg, \"입니다.\")"
   ]
  },
  {
   "cell_type": "code",
   "execution_count": 17,
   "id": "ffbcbb79",
   "metadata": {},
   "outputs": [
    {
     "name": "stdout",
     "output_type": "stream",
     "text": [
      "이번에 출력되는 데이터는 [88, 72, 83, 90] 입니다.\n",
      "-> 이 때 각 원소들의 총합은 333 이고, 평균은 83.25 입니다.\n",
      "이번에 출력되는 데이터는 [63, 77, 72, 80] 입니다.\n",
      "-> 이 때 각 원소들의 총합은 292 이고, 평균은 73.0 입니다.\n"
     ]
    }
   ],
   "source": [
    "## ex) for문을 통한 이차원 리스트 원소 직접 탐색\n",
    "\n",
    "for row in mydata:\n",
    "    print(\"이번에 출력되는 데이터는\", row, \"입니다.\")\n",
    "    \n",
    "    total = 0\n",
    "    col = mydata[i]\n",
    "    for col in row:\n",
    "        total = total + col\n",
    "    avg = total / len(mydata[i])\n",
    "    print(\"-> 이 때 각 원소들의 총합은\", total, \"이고, 평균은\", avg, \"입니다.\")"
   ]
  },
  {
   "cell_type": "code",
   "execution_count": 47,
   "id": "74bbdac9",
   "metadata": {},
   "outputs": [],
   "source": [
    "# 02. 리스트 관련 함수\n",
    "    # 'python cheat sheet' 함수, 이름 요약 자료 정리해놓기\n",
    "    # [  ]: 원소를 볼 때, tuple의 원소 볼 때도 이 대괄호 사용해야 함\n",
    "    # (  ): 이름을 뜻함\n",
    "\n",
    "    # .len() 함수\n",
    "        # 연속성 자료형 특성: index 번호를 가진다!\n",
    "    # .del(리스트[삭제할 원소]) 함수: 리스트 안 원소 삭제\n",
    "    # .sorted(리스트 이름) 함수: 원본 유지, 정렬된 복사본이 출력됨\n",
    "        # .sorted(리스트 이름, reverse = True): 원소의 역순 정렬\n",
    "            # ex) print(mylist.sorted()), print(mylist.sorted(reverse=True))\n",
    "        # cf) .sort(함수이름): 원본 파괴함!!!\n",
    "    # max(리스트 이름), min(리스트 이름), sum(리스트 이름)\n",
    "        # avg = sum(리스트 이름)/ len(리스트 이름)\n",
    "    # ========================================================\n",
    "    # .index(): 원소가 처음으로 나올 때의 인덱스 번호\n",
    "    # .append(): 리스트 맨 뒤에 괄호 안의 것 추가, 원본 바뀜!\n",
    "    # .insert(a, b): 리스트의 인덱스 a 번째 위치에 b 원소 추가!\n",
    "    # .pop(): 리스트 안에서 괄호 안 원소 꺼내기, 원본 바뀜\n",
    "    # .extend(): 기존 리스트 원소 + 괄호 안 리스트 원소\n",
    "    # .split(\",\"): text 문자열에서 반점 기준의 단어들을 리스트 원소로 변환\n",
    "        # excel 셀 단위의 raw data 가공할 때 쓰임 (많이 쓰임)\n",
    "    # .join()\n",
    "        # ex) dl = \"$\"\n",
    "        # mylist = ['Hello', 'Python', 'World', 'Good']\n",
    "        # -> text = dl.join(mylist) \n",
    "            # -> 주어.동사(목적어) 순서로 이해하면 좋음\n",
    "        # print(text) -> 출력값: Hello&Python&World&Good\n",
    "        # ex) empty = \"\" -> 출력값: HelloPythonWorldGood\n",
    "        # ex) space = \" \" -> 출력값: Hello Python World Good\n",
    "\n",
    "    # print(type(range(1, 10))) -> class 즉 데이터 타입은 'range' 수열로 나옴!\n",
    "        # 데이터 분석을 위해서는 리스트로 데이터 타입을 숫자로 가공 필요!\n",
    "            # -> k = range(1, 10),\n",
    "            # z = list(k)\n",
    "\n",
    "    # 객체 = '명사적 변수' + '동사적 함수'\n",
    "        # 형태: \"객체이름.변수\" or \"객체이름.함수()\" -> 이거 강조하심\n",
    "        # 중요한 이유는, 리스트 안에는 '내장함수'가 있기 때문임!!\n",
    "            # -> 리스트함수.함수() 중요!"
   ]
  },
  {
   "cell_type": "code",
   "execution_count": 23,
   "id": "3a9c08c8",
   "metadata": {},
   "outputs": [
    {
     "name": "stdout",
     "output_type": "stream",
     "text": [
      "3\n",
      "[1, 2]\n"
     ]
    }
   ],
   "source": [
    "# 실습\n",
    "\n",
    "mylist = [1, 2, 3]\n",
    "\n",
    "print(len(mylist))\n",
    "\n",
    "del(mylist[2])\n",
    "print(mylist)"
   ]
  },
  {
   "cell_type": "code",
   "execution_count": 26,
   "id": "f6c0d1c6",
   "metadata": {},
   "outputs": [
    {
     "name": "stdout",
     "output_type": "stream",
     "text": [
      "[1, 2, 3, 4, 5]\n",
      "[5, 4, 3, 2, 1]\n",
      "[2, 4, 5, 3, 1]\n"
     ]
    }
   ],
   "source": [
    "mylist = [2, 4, 5, 3, 1]\n",
    "\n",
    "asc = sorted(mylist)\n",
    "print(asc)\n",
    "\n",
    "desc = sorted(mylist, reverse = True)\n",
    "print(desc)\n",
    "print(mylist)"
   ]
  },
  {
   "cell_type": "code",
   "execution_count": 27,
   "id": "24ce1ae3",
   "metadata": {},
   "outputs": [
    {
     "name": "stdout",
     "output_type": "stream",
     "text": [
      "4\n",
      "1\n",
      "10\n"
     ]
    }
   ],
   "source": [
    "a = [1, 2, 3, 4]\n",
    "\n",
    "print(max(a))\n",
    "print(min(a))\n",
    "print(sum(a))"
   ]
  },
  {
   "cell_type": "code",
   "execution_count": 30,
   "id": "b5510580",
   "metadata": {},
   "outputs": [
    {
     "name": "stdout",
     "output_type": "stream",
     "text": [
      "list['Python']\n",
      "['P', 'y', 't', 'h', 'o', 'n']\n",
      "['P', 'y', 't', 'h', 'o', 'n']\n"
     ]
    }
   ],
   "source": [
    "a = \"Python\"\n",
    "b = list[a]\n",
    "c = list(a)\n",
    "\n",
    "print(b)\n",
    "print(c)\n",
    "\n",
    "d = ('P', 'y', 't', 'h', 'o', 'n')\n",
    "e = list(d)\n",
    "print(e)"
   ]
  },
  {
   "cell_type": "code",
   "execution_count": 33,
   "id": "71d39b73",
   "metadata": {},
   "outputs": [
    {
     "name": "stdout",
     "output_type": "stream",
     "text": [
      "<class 'range'>\n",
      "range(1, 11)\n",
      "[1, 2, 3, 4, 5, 6, 7, 8, 9, 10]\n",
      "[1, 4, 7, 10]\n"
     ]
    }
   ],
   "source": [
    "k = range(1, 11)\n",
    "print(type(k))\n",
    "\n",
    "print(k)\n",
    "\n",
    "z = list(k)\n",
    "print(z)\n",
    "\n",
    "print(list(range(1, 11, 3)))"
   ]
  },
  {
   "cell_type": "code",
   "execution_count": 34,
   "id": "6dcede65",
   "metadata": {},
   "outputs": [
    {
     "name": "stdout",
     "output_type": "stream",
     "text": [
      "3\n"
     ]
    }
   ],
   "source": [
    "mylist = [1, 2, 3, 2, 4, 2]\n",
    "c = mylist.count(2)\n",
    "print(c)"
   ]
  },
  {
   "cell_type": "code",
   "execution_count": 35,
   "id": "d5953d2b",
   "metadata": {},
   "outputs": [
    {
     "name": "stdout",
     "output_type": "stream",
     "text": [
      "3\n"
     ]
    }
   ],
   "source": [
    "mylist = [1, 2, 3, 10, 1, 2, 3, 10]\n",
    "x = mylist.index(10)\n",
    "print(x)"
   ]
  },
  {
   "cell_type": "code",
   "execution_count": 37,
   "id": "ec4d5ca6",
   "metadata": {},
   "outputs": [
    {
     "name": "stdout",
     "output_type": "stream",
     "text": [
      "[1, 2, 3, 10, 1, 2, 3, 10, 4]\n"
     ]
    }
   ],
   "source": [
    "mylist.append(4)\n",
    "print(mylist)"
   ]
  },
  {
   "cell_type": "code",
   "execution_count": 38,
   "id": "5a4545bf",
   "metadata": {},
   "outputs": [
    {
     "name": "stdout",
     "output_type": "stream",
     "text": [
      "[1, 2, 3, 10, 1, 2, 3, 10, 4, [5, 6]]\n"
     ]
    }
   ],
   "source": [
    "mylist.append([5, 6])\n",
    "print(mylist)"
   ]
  },
  {
   "cell_type": "code",
   "execution_count": 39,
   "id": "ebcc4434",
   "metadata": {},
   "outputs": [
    {
     "name": "stdout",
     "output_type": "stream",
     "text": [
      "[1, 10, 2, 3, 10, 1, 2, 3, 10, 4, [5, 6]]\n"
     ]
    }
   ],
   "source": [
    "mylist.insert(1, 10)\n",
    "print(mylist)"
   ]
  },
  {
   "cell_type": "code",
   "execution_count": 41,
   "id": "3d530519",
   "metadata": {},
   "outputs": [
    {
     "name": "stdout",
     "output_type": "stream",
     "text": [
      "[1, 10, 2, 3, 10, 1, 2, 3, 10, 4, [5, 6], 7, 7]\n"
     ]
    }
   ],
   "source": [
    "lastIndex = len(mylist)     \n",
    "mylist.insert(lastIndex, 7) # -> append 함수와 같은 역할함\n",
    "print(mylist)"
   ]
  },
  {
   "cell_type": "code",
   "execution_count": 42,
   "id": "6d86dbd3",
   "metadata": {},
   "outputs": [
    {
     "name": "stdout",
     "output_type": "stream",
     "text": [
      "2\n",
      "[1, 10, 3, 10, 1, 2, 3, 10, 4, [5, 6], 7, 7]\n"
     ]
    }
   ],
   "source": [
    "k = mylist.pop(2)\n",
    "print(k)\n",
    "print(mylist)"
   ]
  },
  {
   "cell_type": "code",
   "execution_count": 45,
   "id": "1ae36e77",
   "metadata": {},
   "outputs": [
    {
     "name": "stdout",
     "output_type": "stream",
     "text": [
      "[5, 6]\n",
      "[1, 10, 3, 10, 1, 2, 3, 10, 4]\n"
     ]
    }
   ],
   "source": [
    "p = mylist.pop()\n",
    "print(p)\n",
    "print(mylist)"
   ]
  },
  {
   "cell_type": "code",
   "execution_count": 46,
   "id": "990e6a19",
   "metadata": {},
   "outputs": [
    {
     "name": "stdout",
     "output_type": "stream",
     "text": [
      "[4, 10, 3, 2, 1, 10, 3, 10, 1]\n"
     ]
    }
   ],
   "source": [
    "mylist.reverse()\n",
    "print(mylist)"
   ]
  },
  {
   "cell_type": "code",
   "execution_count": 56,
   "id": "6eafc4f0",
   "metadata": {},
   "outputs": [
    {
     "name": "stdout",
     "output_type": "stream",
     "text": [
      "None\n",
      "[1, 2, 3, 4, 5]\n",
      "[5, 4, 3, 2, 1]\n"
     ]
    }
   ],
   "source": [
    "mylist = [1, 4, 2, 5, 3]\n",
    "# mylist.sorted() -> error! \n",
    "# mylist.sorted(reverse = True) -> error! \n",
    "c = mylist.sort() # -> error\n",
    "print(c)\n",
    "print(mylist)\n",
    "\n",
    "mylist.sort(reverse=True)\n",
    "print(mylist)"
   ]
  },
  {
   "cell_type": "code",
   "execution_count": 62,
   "id": "8e4b863f",
   "metadata": {},
   "outputs": [
    {
     "name": "stdout",
     "output_type": "stream",
     "text": [
      "['Hello', 'Python', 'is', 'good']\n"
     ]
    }
   ],
   "source": [
    "text = \"Hello,Python,is,good\"\n",
    "mylist = text.split(\",\")\n",
    "print(mylist)"
   ]
  },
  {
   "cell_type": "code",
   "execution_count": 63,
   "id": "6aa76762",
   "metadata": {},
   "outputs": [
    {
     "name": "stdout",
     "output_type": "stream",
     "text": [
      "Hello$Python$is$good\n",
      "HelloPythonisgood\n",
      "Hello Python is good\n"
     ]
    }
   ],
   "source": [
    "dl = \"$\"\n",
    "text1 = dl.join(mylist)\n",
    "\n",
    "empty = \"\"\n",
    "text2 = empty.join(mylist)\n",
    "\n",
    "space = \" \"\n",
    "text3 = space.join(mylist)\n",
    "\n",
    "print(text1)\n",
    "print(text2)\n",
    "print(text3)"
   ]
  },
  {
   "cell_type": "code",
   "execution_count": null,
   "id": "8f779a76",
   "metadata": {},
   "outputs": [],
   "source": [
    "# 03. 문자열의 이해\n",
    "    # 문자열 = 문자 + 열\n",
    "        # 문자: ' ' 또는 \" \"로 감싸진 모든 것들\n",
    "        # 열: 배열은 list로 바꿔서 데이터 정리해도 됨\n",
    "    # 문자열의 연산은 '덧셈'만 가능\n",
    "        # 문자열 + 숫자 연산은 안되!\n",
    "        # 문자열 * 숫자 연산은 가능!\n",
    "            # 문자열 * 문자열 곱셈은 안되!\n",
    "    # 쌍따옴표: '\\\"' 쓰면 됨\n",
    "    #   ex) \" \"Hello \\\"Python \\\" is good\" \n",
    "        #   -> 출력: Hellp \"Python\" is good\n",
    "\n",
    "        #   => '역슬래시(\\)+ㅁ': 하나의 기호 or 글자로 취급 \n",
    "                # ppt p.44 외우기 (이스케이프 문자)\n",
    "                # \\n: 줄바꿈, \\t: 띄어쓰기 4개, \\\": 쌍따옴표, \\\\:역슬래시\n",
    "    # 문자열 indexing\n",
    "        # list랑 규칙 동일\n",
    "            # 0부터 count\n",
    "            # 역순은 -1부터 count\n",
    "            # 뜨어쓰기도 한칸 부여\n",
    "    # 출력: print() 대신에 str[:] 사용!\n",
    "        # str: 해당 문자열의 '위치'\n",
    "        # str[:]: 해당 문자열의 '복사본'\n",
    "        # 슬라이싱 가능\n",
    "            # ex) print(mystr[4:9]), print(mystr[19:-7])"
   ]
  },
  {
   "cell_type": "code",
   "execution_count": 73,
   "id": "b906449e",
   "metadata": {},
   "outputs": [
    {
     "name": "stdout",
     "output_type": "stream",
     "text": [
      "H\n",
      "e\n",
      "l\n",
      "l\n",
      "o\n"
     ]
    }
   ],
   "source": [
    "# 실습\n",
    "mymsg = \"Hello\"\n",
    "for i in mymsg:     # -> i 든지 a 든지 원하는 임의의 변수 사용 가능\n",
    "    print(i)        # 문자열 = 문자의 배열 -> 리스트임!"
   ]
  },
  {
   "cell_type": "code",
   "execution_count": 71,
   "id": "f3494490",
   "metadata": {},
   "outputs": [
    {
     "name": "stdout",
     "output_type": "stream",
     "text": [
      "Hello World\n",
      "Hello , World\n",
      "Hello,World\n",
      "Hello, World\n"
     ]
    }
   ],
   "source": [
    "msg1 = \"Hello\"\n",
    "msg2 = \"World\"\n",
    "print(msg1, msg2)\n",
    "print(msg1,\",\", msg2)\n",
    "print(msg1 + \",\" + msg2)\n",
    "print(msg1 + \", \" + msg2)"
   ]
  },
  {
   "cell_type": "code",
   "execution_count": 72,
   "id": "da167b9e",
   "metadata": {},
   "outputs": [
    {
     "name": "stdout",
     "output_type": "stream",
     "text": [
      "KimmyKimmyKimmyKimmy\n"
     ]
    }
   ],
   "source": [
    "name = \"Kimmy\"\n",
    "print(name * 4)"
   ]
  },
  {
   "cell_type": "code",
   "execution_count": 78,
   "id": "5ac91eb3",
   "metadata": {},
   "outputs": [
    {
     "name": "stdout",
     "output_type": "stream",
     "text": [
      "Life is \"too\" short\n",
      "Life is 'too' short\n",
      "Life is too short \n",
      "What do you need?\n",
      "Life is too short\tWhat do you need?\n",
      "Life is too short\\What do you need?\n",
      "What do you 'need'?\n",
      "What do you \"need\"?\n"
     ]
    }
   ],
   "source": [
    "case1 = \"Life is \\\"too\\\" short\"\n",
    "print(case1)\n",
    "print(\"Life is \\'too\\' short\")\n",
    "print(\"Life is too short \\nWhat do you need?\")\n",
    "print(\"Life is too short\\tWhat do you need?\")\n",
    "print(\"Life is too short\\\\What do you need?\")\n",
    "print(\"What do you 'need'?\")\n",
    "print('What do you \"need\"?')"
   ]
  },
  {
   "cell_type": "code",
   "execution_count": 80,
   "id": "84a388b2",
   "metadata": {},
   "outputs": [
    {
     "data": {
      "text/plain": [
       "'Life is too short to learn Python'"
      ]
     },
     "execution_count": 80,
     "metadata": {},
     "output_type": "execute_result"
    }
   ],
   "source": [
    "mystring = \"Life is too short to learn Python\"\n",
    "mystring"
   ]
  },
  {
   "cell_type": "code",
   "execution_count": null,
   "id": "7268726c",
   "metadata": {},
   "outputs": [
    {
     "name": "stdout",
     "output_type": "stream",
     "text": [
      " \n"
     ]
    }
   ],
   "source": [
    "print(mystring[4]) # -> 출력은 띄어쓰기가 나오네?"
   ]
  },
  {
   "cell_type": "code",
   "execution_count": 84,
   "id": "0b09136c",
   "metadata": {},
   "outputs": [
    {
     "name": "stdout",
     "output_type": "stream",
     "text": [
      "o\n"
     ]
    }
   ],
   "source": [
    "print(mystring[-2])"
   ]
  },
  {
   "cell_type": "code",
   "execution_count": 85,
   "id": "36b5ce51",
   "metadata": {},
   "outputs": [
    {
     "name": "stdout",
     "output_type": "stream",
     "text": [
      " is too short to learn P\n"
     ]
    }
   ],
   "source": [
    "print(mystring[4:-5])"
   ]
  },
  {
   "cell_type": "code",
   "execution_count": 86,
   "id": "ffdf5943",
   "metadata": {},
   "outputs": [
    {
     "name": "stdout",
     "output_type": "stream",
     "text": [
      " short to learn Python\n"
     ]
    }
   ],
   "source": [
    "print(mystring[11:])"
   ]
  },
  {
   "cell_type": "code",
   "execution_count": 112,
   "id": "e2d264b2",
   "metadata": {},
   "outputs": [],
   "source": [
    "# 04. 문자열 포메팅\n",
    "    # 형식문자 형태: %ㅁ\n",
    "        # %d: 10진 정수\n",
    "        # %f: 10진 실수(정수+소수)\n",
    "        # %s: 문자열\n",
    "        # %%: % 자체\n",
    "    # 하나의 문자열에 형식문자가 두개 이상 있다면 ( , , , ...)로 연결 가능\n",
    "\n",
    "    # 자릿수 지정법:\n",
    "        # 정수: %nd -> 출력 숫자를 n자리로 맞춰 + 오른쪽 정렬\n",
    "            # %0nd -> 출력 숫자를 n자리로 맞춰 + 부족한 자릿수는 0으로 채워 + 오른쪽 정렬\n",
    "        # 실수(소수): %zf\n",
    "        # 문자열: %ns\n",
    "            # 문자열에서는 %0ns 형태 지원 안된다!\n",
    "        # can be substituted by 인덱스를 사용한 {숫자} 형식의 치환문자!\n",
    "            # 인덱스 번호를 사용한 문자열 포메팅\n",
    "                # 문자열 인덱스 {0}, {1}, {2},.. 지정 후\n",
    "                # .format( , , ,...) 함수 쓰기!\n",
    "                # ppt p.68 예시 참고"
   ]
  },
  {
   "cell_type": "code",
   "execution_count": 90,
   "id": "ff23768c",
   "metadata": {},
   "outputs": [
    {
     "name": "stdout",
     "output_type": "stream",
     "text": [
      "나는 10000원을 가지고 있습니다.\n"
     ]
    }
   ],
   "source": [
    "# 실습\n",
    "str1 = \"나는 %d원을 가지고 있습니다.\" % 10000 #-> 변수와 %값은 같은 행에 위치하셈\n",
    "print(str1)"
   ]
  },
  {
   "cell_type": "code",
   "execution_count": 92,
   "id": "87706311",
   "metadata": {},
   "outputs": [
    {
     "name": "stdout",
     "output_type": "stream",
     "text": [
      "100.450000원 입니다.\n"
     ]
    }
   ],
   "source": [
    "money = 100.45\n",
    "print((\"%f원 입니다.\") %money)"
   ]
  },
  {
   "cell_type": "code",
   "execution_count": 93,
   "id": "18b45acb",
   "metadata": {},
   "outputs": [
    {
     "name": "stdout",
     "output_type": "stream",
     "text": [
      "Hello Python\n"
     ]
    }
   ],
   "source": [
    "lang = \"Python\"\n",
    "str2 = \"Hello %s\" % lang\n",
    "print(str2)"
   ]
  },
  {
   "cell_type": "code",
   "execution_count": 95,
   "id": "ab8a9be7",
   "metadata": {},
   "outputs": [
    {
     "name": "stdout",
     "output_type": "stream",
     "text": [
      "정모 날짜는 2023년 1월 1일 입니다.\n",
      "약속 날짜는 2025년 10월 18일 입니다.\n"
     ]
    }
   ],
   "source": [
    "str3 = \"%s 날짜는 %d년 %d월 %d일 입니다.\"\n",
    "\n",
    "msg1 = str3 % (\"정모\", 2023, 1, 1)\n",
    "msg2 = str3 % (\"약속\", 2025, 10, 18)\n",
    "\n",
    "print(msg1)\n",
    "print(msg2)"
   ]
  },
  {
   "cell_type": "code",
   "execution_count": 1,
   "id": "a9b3eeb5",
   "metadata": {},
   "outputs": [
    {
     "name": "stdout",
     "output_type": "stream",
     "text": [
      "[0000120000]원을 입금 했습니다.\n",
      "[        서울]에 거주중입니다.\n"
     ]
    }
   ],
   "source": [
    "print(\"[%010d]원을 입금 했습니다.\" % 120000)\n",
    "print(\"[%10s]에 거주중입니다.\" % \"서울\")"
   ]
  },
  {
   "cell_type": "code",
   "execution_count": 104,
   "id": "beb73bad",
   "metadata": {},
   "outputs": [
    {
     "name": "stdout",
     "output_type": "stream",
     "text": [
      "[12345.679]원 입니다.\n",
      "[ 12345.679]원 입니다.\n",
      "[012345.679]원 입니다.\n"
     ]
    }
   ],
   "source": [
    "myMoney = 12345.6789\n",
    "\n",
    "print(\"[%0.3f]원 입니다.\" % myMoney)\n",
    "print(\"[%10.3f]원 입니다.\" % myMoney)\n",
    "print(\"[%010.3f]원 입니다.\" % myMoney)"
   ]
  },
  {
   "cell_type": "code",
   "execution_count": 109,
   "id": "15e6fad1",
   "metadata": {},
   "outputs": [
    {
     "name": "stdout",
     "output_type": "stream",
     "text": [
      "이 과자는 2000원 입니다\n"
     ]
    }
   ],
   "source": [
    "# 'index' 번호를 사용한 문자열 포메팅\n",
    "\n",
    "format = \"이 과자는 {0}{1} 입니다\"\n",
    "replaced_string = format.format(2000, \"원\")\n",
    "print(replaced_string)"
   ]
  },
  {
   "cell_type": "code",
   "execution_count": 110,
   "id": "b2eff6e8",
   "metadata": {},
   "outputs": [
    {
     "name": "stdout",
     "output_type": "stream",
     "text": [
      "I ate 3 apples.\n"
     ]
    }
   ],
   "source": [
    "msg1 = \"I ate {0} apples.\"\n",
    "print(msg1.format(3))"
   ]
  },
  {
   "cell_type": "code",
   "execution_count": 111,
   "id": "7419a272",
   "metadata": {},
   "outputs": [
    {
     "name": "stdout",
     "output_type": "stream",
     "text": [
      "올해 개천절은 2025년 10월 3일 입니다.\n"
     ]
    }
   ],
   "source": [
    "msg2 = \"{0}은 {1}년 {2}월 {3}일 입니다.\"\n",
    "print(msg2.format(\"올해 개천절\", 2025, 10, 3))"
   ]
  },
  {
   "cell_type": "code",
   "execution_count": 118,
   "id": "69b4f416",
   "metadata": {},
   "outputs": [],
   "source": [
    "# 05. 문자열 관련 함수\n",
    "    # len(): 한, 영, 숫자, 띄어쓰기 상관 없이 길이 카운트\n",
    "    # str( ): 어떤 데이터 타입이든 문자열로 변환함\n",
    "    # .count(\"ㅁ\"): ㅁ라는 글자 갯수를 count함\n",
    "    # .find(\"ㅁ\"): ㅁ라는 글자의 위치(index#)를 출력함 \n",
    "        # ㅁ 글자가 문자열에 없을 땐 -1을 출력함\n",
    "        # cf) .index(\"ㅁ\"): ㅁ 글자가 해당 문자열에 없으면 errer남\n",
    "    # .rfind(\"ㅁ\"): 마지막으로 나타나는 ㅁ 글자의 위치(index#)를 출력함\n",
    "    # .is~~(): 보통 검사용으로 쓰임. True/False 로 출력됨\n",
    "        # .isupper(): 문자열 안에 대문자만 있을 때 True 출력 \n",
    "        # .islower(): 문자열 안에 소문자만 있을 때 True 출력\n",
    "        # .isnumeric(): 문자열이 숫자로만 구성 되 있으면 True 출력\n",
    "    # 대/소문자 변환 출력하는 함수들 (원본 유지)\n",
    "        # .upper(): 문자열의 모든 글자를 대문자로 변환해서 출력\n",
    "        # .lower(): 문자열의 모든 글자를 소문자로 변환해서 출력\n",
    "        # .swapcase(): 대문자 -> 소문자, 소문자 -> 대문자 변환 결과 출력\n",
    "        # .capitalize(): '문장'의 첫 문자를 대문자로\n",
    "        # .title(): 각 '단어'의 첫 문자를 대문자로\n",
    "    # 공백 제거 후 출력하는 함수들 (원본 유지)\n",
    "        # .strip(): 앞뒤 공백 제거\n",
    "        # .lstrip(): 왼쪽 공백 제거\n",
    "        # .rstrip(): 오른쪽 공백 제거\n",
    "    # .replace(\"A\", \"B\"): 문자 \"A\"를 문자 \"B\"로 변경 후 출력\n",
    "        # 원본 유지 ㅇㅇ\n",
    "    # .split(문자열) -> 리스트에서 다룬 함수임!\n",
    "        # .split(\",\"): 문자열에서 ,를 기준으로 단어 쪼개고 리스트화.\n",
    "        # .split(): 문자열에 ,가 없을 때 공백을 기준으로 단어 쪼개고 리스트화."
   ]
  },
  {
   "cell_type": "code",
   "execution_count": 114,
   "id": "44e4251f",
   "metadata": {},
   "outputs": [
    {
     "name": "stdout",
     "output_type": "stream",
     "text": [
      "25\n"
     ]
    }
   ],
   "source": [
    "# 실습\n",
    "print(len(\"안녕하세요. 10년 전에서 온 Python씨.\"))"
   ]
  },
  {
   "cell_type": "code",
   "execution_count": 115,
   "id": "32f8620b",
   "metadata": {},
   "outputs": [
    {
     "name": "stdout",
     "output_type": "stream",
     "text": [
      "4\n",
      "0\n"
     ]
    }
   ],
   "source": [
    "mystr = \"파이썬은 웹 프로그래밍이나 데이터 분석에 많이 사용되는 언어입니다.\"\n",
    "\n",
    "print(mystr.count(\"이\"))\n",
    "print(mystr.count(\"가\"))"
   ]
  },
  {
   "cell_type": "code",
   "execution_count": 116,
   "id": "6c12d2bc",
   "metadata": {},
   "outputs": [
    {
     "name": "stdout",
     "output_type": "stream",
     "text": [
      "-1\n",
      "3\n"
     ]
    }
   ],
   "source": [
    "print(mystr.find(\"가\"))\n",
    "print(mystr.find(\"은\"))"
   ]
  },
  {
   "cell_type": "code",
   "execution_count": 117,
   "id": "10b9bcfe",
   "metadata": {},
   "outputs": [
    {
     "name": "stdout",
     "output_type": "stream",
     "text": [
      "33\n",
      "-1\n"
     ]
    }
   ],
   "source": [
    "print(mystr.rfind(\"입\"))\n",
    "print(mystr.rfind(\"인간\"))"
   ]
  },
  {
   "cell_type": "code",
   "execution_count": 119,
   "id": "7f6c296c",
   "metadata": {},
   "outputs": [
    {
     "name": "stdout",
     "output_type": "stream",
     "text": [
      "True\n",
      "False\n",
      "False\n",
      "True\n",
      "False\n",
      "False\n"
     ]
    }
   ],
   "source": [
    "test3 = \"HELLO\"\n",
    "test4 = \"hello\"\n",
    "test5 = \"Hello\"\n",
    "\n",
    "print(test3.isupper())\n",
    "print(test3.islower())\n",
    "\n",
    "print(test4.isupper())\n",
    "print(test4.islower())\n",
    "\n",
    "print(test5.isupper())\n",
    "print(test5.islower())"
   ]
  },
  {
   "cell_type": "code",
   "execution_count": 120,
   "id": "c75281e1",
   "metadata": {},
   "outputs": [
    {
     "name": "stdout",
     "output_type": "stream",
     "text": [
      "HELLO PYTHON\n",
      "hello python\n",
      "Hello Python\n"
     ]
    }
   ],
   "source": [
    "test6 = \"Hello Python\"\n",
    "\n",
    "print(test6.upper())\n",
    "print(test6.lower())\n",
    "print(test6)"
   ]
  },
  {
   "cell_type": "code",
   "execution_count": 121,
   "id": "032f60b8",
   "metadata": {},
   "outputs": [
    {
     "name": "stdout",
     "output_type": "stream",
     "text": [
      "[   python  ]\n",
      "[python]\n",
      "[python  ]\n",
      "[   python]\n"
     ]
    }
   ],
   "source": [
    "k = \"   python  \"\n",
    "\n",
    "print(\"[\" + k + \"]\")\n",
    "print(\"[\" + k.strip() + \"]\")\n",
    "print(\"[\" + k.lstrip() + \"]\")\n",
    "print(\"[\" + k.rstrip() + \"]\")"
   ]
  },
  {
   "cell_type": "code",
   "execution_count": 122,
   "id": "25c4c89b",
   "metadata": {},
   "outputs": [
    {
     "name": "stdout",
     "output_type": "stream",
     "text": [
      "Hello Python\n",
      "Hello World\n"
     ]
    }
   ],
   "source": [
    "myMessage = \"Hello World\"\n",
    "print(myMessage.replace(\"World\", \"Python\"))\n",
    "print(myMessage)"
   ]
  },
  {
   "cell_type": "code",
   "execution_count": null,
   "id": "106ccce2",
   "metadata": {},
   "outputs": [],
   "source": []
  }
 ],
 "metadata": {
  "kernelspec": {
   "display_name": "Python 3",
   "language": "python",
   "name": "python3"
  },
  "language_info": {
   "codemirror_mode": {
    "name": "ipython",
    "version": 3
   },
   "file_extension": ".py",
   "mimetype": "text/x-python",
   "name": "python",
   "nbconvert_exporter": "python",
   "pygments_lexer": "ipython3",
   "version": "3.13.9"
  }
 },
 "nbformat": 4,
 "nbformat_minor": 5
}
