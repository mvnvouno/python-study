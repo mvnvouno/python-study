{
 "cells": [
  {
   "cell_type": "markdown",
   "id": "24f8f88a",
   "metadata": {},
   "source": [
    "### 01. 딕셔너리의 이해\n",
    "##### tuple은 걍 까먹어도 됨. 이용 잘 안함"
   ]
  },
  {
   "cell_type": "code",
   "execution_count": null,
   "id": "1c6504bd",
   "metadata": {},
   "outputs": [],
   "source": [
    "# Dictionary\n",
    "    # key와 value의 쌍으로 구성된 자료구조\n",
    "        # 각각의 자료에 key라는 이름표를 지정하는 것\n",
    "    # for: 파일 저장, 파일 출력\n",
    "    # 중괄호 \"{}\" 안에 list or tuple 같이 ,로 구분해서\n",
    "    # 여러 값을 '이름:값'으로 나열한 것\n",
    "    # format: 변수이름 = {\"이름\": \"값\", \"이름\": \"값\", \"이름\": \"값\",...}\n",
    "            # 변수이름 = {\"key\": \"value\", \"key\": \"value\", \"key\": \"value\",...}\n",
    "            # key는 '문자열' !! -> \"\"로 묶어서 표현    \n",
    "    # 딕셔너리 원소 접근 방법:\n",
    "        # print(변수이름[\"key\"])\n",
    "    # key 중복 제한 -> 딕셔너리 안에서 제일 오른쪽에 지정된 key의 값만 저장됨\n",
    "\n",
    "    # list와 dictionary의 원소 끼리는 서로 호환 가능!\n",
    "        # ex) list의 원소가 dictionary:\n",
    "            # mylist = [\n",
    "            # {\"a\":10, \"b\":20},     -> index 0\n",
    "            # {\"c\":30, \"d\":40},     -> index 1\n",
    "            # {\"e\":50, \"f\":60}      -> index 2\n",
    "            # ]\n",
    "                # 출력 시에는 반복문 필수! \n",
    "                    # mylist[i][\"name\"]\n",
    "                    # 앞으로 만날 '테이블 구조'들이 거의 다 이런 형태일거임\n",
    "        # ex) dictionary의 원소가 list:\n",
    "            # mydict = {\n",
    "            # \"a\": [1, 2, 3],\n",
    "            # \"b\":[4, 5, 6],\n",
    "            # \"c\": [7, 8, 9]\n",
    "            # }\n",
    "            # 중요 특징: 리스트끼리 길이 동일, 같은 인덱스끼리 묶음\n",
    "            # 출력 ex) (ppt p.12 참고)\n",
    "                # for i in range (0,len(student)):\n",
    "                    # print(student[\"name\"][i], student[\"age\"][i], student[\"height\"][i])\n",
    "        # ex) dictionary의 원소가 dictionary:\n",
    "            # like as 상위 폴더 안에 하위 폴더가 있는 형태 (계층화 구조, 하위 속성)\n",
    "        # ex) dictionary의 원소가 'dictionary를 원소로 갖는 list' 일때!!\n",
    "            # 최종진화형, 제일 public한 구조!\n",
    "            # dictOut = {\"key\": [{..}, {..}, {..},...]}\n",
    "            # 리스트 하위항목 원소 딕셔너리는 '모두 같은 구조'로 존재해야 '목록 형태'가 성립한다!"
   ]
  },
  {
   "cell_type": "code",
   "execution_count": 1,
   "id": "1bd02dcb",
   "metadata": {},
   "outputs": [
    {
     "name": "stdout",
     "output_type": "stream",
     "text": [
      "{'name': '철수', 'phone': '010-1234-5678', 'birth': '0115'}\n",
      "철수\n",
      "010-1234-5678\n",
      "{'name': '호영', 'phone': '010-1234-5678', 'birth': '0115'}\n"
     ]
    }
   ],
   "source": [
    "# 실습\n",
    "mydic = {\"name\": \"철수\", \"phone\": \"010-1234-5678\", \"birth\": \"0115\"}\n",
    "\n",
    "print(mydic)\n",
    "print(mydic[\"name\"]) # -> 원소 접근할 때는 대괄호 [] 씀\n",
    "\n",
    "phone = mydic[\"phone\"]\n",
    "print(phone)\n",
    "\n",
    "mydic[\"name\"] = \"호영\"\n",
    "print(mydic)"
   ]
  },
  {
   "cell_type": "code",
   "execution_count": 2,
   "id": "4fac5d93",
   "metadata": {},
   "outputs": [
    {
     "name": "stdout",
     "output_type": "stream",
     "text": [
      "{'a': 100, 'b': 200, 'c': 300}\n"
     ]
    }
   ],
   "source": [
    "foo = {\"a\": 100, \"b\": 200}\n",
    "foo[\"c\"] = 300\n",
    "print(foo)"
   ]
  },
  {
   "cell_type": "code",
   "execution_count": 6,
   "id": "0e6b42a5",
   "metadata": {},
   "outputs": [
    {
     "name": "stdout",
     "output_type": "stream",
     "text": [
      "python\n"
     ]
    }
   ],
   "source": [
    "data = {\"msg\": \"hello\", \"msg\": \"world\", \"msg\": \"python\"}\n",
    "print(data[\"msg\"])"
   ]
  },
  {
   "cell_type": "code",
   "execution_count": 8,
   "id": "54817045",
   "metadata": {},
   "outputs": [
    {
     "name": "stdout",
     "output_type": "stream",
     "text": [
      "0 번째 원소: {'name': '철수', 'kor': 95, 'eng': 88}\n",
      "1 번째 원소: {'name': '영희', 'kor': 92, 'eng': 90}\n",
      "2 번째 원소: {'name': '철민', 'kor': 88, 'eng': 76}\n"
     ]
    }
   ],
   "source": [
    "# ex) list의 원소가 dictionary:\n",
    "grade = [\n",
    "    {\"name\": \"철수\", \"kor\": 95, \"eng\": 88},\n",
    "    {\"name\": \"영희\", \"kor\": 92, \"eng\": 90},\n",
    "    {\"name\": \"철민\", \"kor\": 88, \"eng\": 76}    \n",
    "]\n",
    "\n",
    "print(\"0 번째 원소: %s\" % grade[0])\n",
    "print(\"1 번째 원소: %s\" % grade[1])\n",
    "print(\"2 번째 원소: %s\" % grade[2])"
   ]
  },
  {
   "cell_type": "code",
   "execution_count": 9,
   "id": "dff876e4",
   "metadata": {},
   "outputs": [
    {
     "name": "stdout",
     "output_type": "stream",
     "text": [
      "철수의 국어점수:95, 영어점수: 88\n",
      "영희의 국어점수:92, 영어점수: 90\n",
      "철민의 국어점수:88, 영어점수: 76\n"
     ]
    }
   ],
   "source": [
    "tpl = \"{0}의 국어점수:{1}, 영어점수: {2}\"\n",
    "\n",
    "print(tpl.format(grade[0][\"name\"], grade[0][\"kor\"], grade[0][\"eng\"]))\n",
    "print(tpl.format(grade[1][\"name\"], grade[1][\"kor\"], grade[1][\"eng\"]))\n",
    "print(tpl.format(grade[2][\"name\"], grade[2][\"kor\"], grade[2][\"eng\"]))"
   ]
  },
  {
   "cell_type": "code",
   "execution_count": null,
   "id": "3b8dd28b",
   "metadata": {},
   "outputs": [
    {
     "name": "stdout",
     "output_type": "stream",
     "text": [
      "[철수] 나이:, 16세, 키: 172.4cm\n",
      "[영희] 나이:, 17세, 키: 168.2cm\n",
      "[호영] 나이:, 19세, 키: 170.5cm\n"
     ]
    }
   ],
   "source": [
    "# ex) dictionary의 원소가 list:\n",
    "student = {\n",
    "    \"name\": [\"철수\", \"영희\", \"호영\"],\n",
    "    \"age\": [16, 17, 19],\n",
    "    \"height\": [172.4, 168.2, 170.5]\n",
    "}\n",
    "\n",
    "tpl = \"[%s] 나이:, %d세, 키: %0.1fcm\"  #-> 여러 형식문자 치환할 땐 값들을 괄호로 묶음\n",
    "print(tpl % (student[\"name\"][0], student[\"age\"][0], student[\"height\"][0]))\n",
    "print(tpl % (student[\"name\"][1], student[\"age\"][1], student[\"height\"][1]))\n",
    "print(tpl % (student[\"name\"][2], student[\"age\"][2], student[\"height\"][2]))\n"
   ]
  },
  {
   "cell_type": "code",
   "execution_count": 11,
   "id": "ec42561b",
   "metadata": {},
   "outputs": [
    {
     "name": "stdout",
     "output_type": "stream",
     "text": [
      "iphone의 가격은 200$ 입니다.\n",
      "gallaxy의 가격은 200만원 입니다.\n"
     ]
    }
   ],
   "source": [
    "# ex) dictionary의 원소가 dictionary:\n",
    "phone = {\n",
    "    \"apple\": {\n",
    "        \"name\": \"iphone\",\n",
    "        \"price\": \"200$\"\n",
    "    },\n",
    "    \"samsung\": {\n",
    "        \"name\": \"gallaxy\",\n",
    "        \"price\": \"200만원\"\n",
    "    }\n",
    "}\n",
    "\n",
    "tpl = \"%s의 가격은 %s 입니다.\"\n",
    "\n",
    "print(tpl % (phone[\"apple\"][\"name\"], phone[\"apple\"][\"price\"]))\n",
    "print(tpl % (phone[\"samsung\"][\"name\"], phone[\"samsung\"][\"price\"]))\n"
   ]
  },
  {
   "cell_type": "code",
   "execution_count": 14,
   "id": "80766a40",
   "metadata": {},
   "outputs": [
    {
     "name": "stdout",
     "output_type": "stream",
     "text": [
      "email: user1@python.com, comment: Good~!\n",
      "email: user2@python.com, comment: Nice:)\n",
      "email: user3@python.com, comment: Not Bad\n"
     ]
    }
   ],
   "source": [
    "# ex) dictionary의 원소가 'dictionary를 원소로 갖는 list' 일때!!\n",
    "review = {\n",
    "    \"items\": [\n",
    "        {\"email\": \"user1@python.com\", \"comment\": \"Good~!\"},\n",
    "        {\"email\": \"user2@python.com\", \"comment\": \"Nice:)\"},\n",
    "        {\"email\": \"user3@python.com\", \"comment\": \"Not Bad\"},\n",
    "    ]\n",
    "}\n",
    "\n",
    "# access in list is done by numeric index\n",
    "# while access in dictionary is done by designating a unique key name\n",
    "tpl = \"email: {0}, comment: {1}\"\n",
    "for i in review[\"items\"]: #items 라는 '리스트'의 원소를 본다는 뜻 + indexing possible due to the properties of index -> for 반복문 가능\n",
    "    print(tpl.format(i[\"email\"], i[\"comment\"]))"
   ]
  },
  {
   "cell_type": "code",
   "execution_count": 50,
   "id": "f7e30f2b",
   "metadata": {},
   "outputs": [
    {
     "name": "stdout",
     "output_type": "stream",
     "text": [
      "< 파이썬 프로그래밍 >\n",
      "No.1 - 1일차: '프로그래밍 언어의 이해'\n",
      "No.2 - 2일차: '변수와 연산자'\n",
      "No.3 - 3일차: '함수의 이해'\n",
      "No.4 - 4일차: '조건문과 반복문'\n"
     ]
    }
   ],
   "source": [
    "lectures = {\n",
    "    \"title\": \"파이썬 프로그래밍\",\n",
    "    \"subject\": [\n",
    "        {\"no\": 1, \"date\": \"1일차\", \"title\": \"프로그래밍 언어의 이해\"},\n",
    "        {\"no\": 2, \"date\": \"2일차\", \"title\": \"변수와 연산자\"},\n",
    "        {\"no\": 3, \"date\": \"3일차\", \"title\": \"함수의 이해\"},\n",
    "        {\"no\": 4, \"date\": \"4일차\", \"title\": \"조건문과 반복문\"}\n",
    "    ]\n",
    "}\n",
    "\n",
    "print(\"<\", lectures[\"title\"], \">\")\n",
    "\n",
    "tpl = \"No.{0} - {1}: '{2}'\"\n",
    "for s in lectures[\"subject\"]:\n",
    "    print(tpl.format(s[\"no\"], s[\"date\"], s[\"title\"]))"
   ]
  },
  {
   "cell_type": "markdown",
   "id": "97c9ec38",
   "metadata": {},
   "source": [
    "### 02. 딕셔너리의 활용"
   ]
  },
  {
   "cell_type": "code",
   "execution_count": 15,
   "id": "4ebc64a0",
   "metadata": {},
   "outputs": [
    {
     "name": "stdout",
     "output_type": "stream",
     "text": [
      "3\n"
     ]
    }
   ],
   "source": [
    "# dictionary의 여러가지 함수들\n",
    "point = {\"korean\": 98, \"math\": 77, \"english\": 82}\n",
    "print(len(point))"
   ]
  },
  {
   "cell_type": "code",
   "execution_count": 16,
   "id": "c650b17e",
   "metadata": {},
   "outputs": [
    {
     "data": {
      "text/plain": [
       "3"
      ]
     },
     "execution_count": 16,
     "metadata": {},
     "output_type": "execute_result"
    }
   ],
   "source": [
    "len(point)"
   ]
  },
  {
   "cell_type": "code",
   "execution_count": 19,
   "id": "3fac9c0b",
   "metadata": {},
   "outputs": [
    {
     "name": "stdout",
     "output_type": "stream",
     "text": [
      "{'korean': 98, 'math': 77, 'english': 82}\n",
      "{'korean': 98, 'math': 77}\n"
     ]
    }
   ],
   "source": [
    "print(point)\n",
    "del(point[\"english\"])\n",
    "print(point)"
   ]
  },
  {
   "cell_type": "code",
   "execution_count": 20,
   "id": "694203c4",
   "metadata": {},
   "outputs": [
    {
     "name": "stdout",
     "output_type": "stream",
     "text": [
      "철수\n",
      "None\n"
     ]
    }
   ],
   "source": [
    "dic = {\"name\": \"철수\", \"phone\": \"010-1234-5678\", \"birth\": \"0115\"}\n",
    "\n",
    "print(dic.get(\"name\"))\n",
    "print(dic.get(\"gender\"))"
   ]
  },
  {
   "cell_type": "code",
   "execution_count": 21,
   "id": "a68b476e",
   "metadata": {},
   "outputs": [
    {
     "ename": "KeyError",
     "evalue": "'gender'",
     "output_type": "error",
     "traceback": [
      "\u001b[31m---------------------------------------------------------------------------\u001b[39m",
      "\u001b[31mKeyError\u001b[39m                                  Traceback (most recent call last)",
      "\u001b[36mCell\u001b[39m\u001b[36m \u001b[39m\u001b[32mIn[21]\u001b[39m\u001b[32m, line 1\u001b[39m\n\u001b[32m----> \u001b[39m\u001b[32m1\u001b[39m \u001b[38;5;28mprint\u001b[39m(\u001b[43mdic\u001b[49m\u001b[43m[\u001b[49m\u001b[33;43m\"\u001b[39;49m\u001b[33;43mgender\u001b[39;49m\u001b[33;43m\"\u001b[39;49m\u001b[43m]\u001b[49m)\n",
      "\u001b[31mKeyError\u001b[39m: 'gender'"
     ]
    }
   ],
   "source": [
    "print(dic[\"gender\"])"
   ]
  },
  {
   "cell_type": "code",
   "execution_count": 22,
   "id": "23b0eaba",
   "metadata": {},
   "outputs": [
    {
     "name": "stdout",
     "output_type": "stream",
     "text": [
      "여\n"
     ]
    }
   ],
   "source": [
    "print(dic.get(\"gender\", \"여\"))"
   ]
  },
  {
   "cell_type": "code",
   "execution_count": 24,
   "id": "4d17d356",
   "metadata": {},
   "outputs": [
    {
     "name": "stdout",
     "output_type": "stream",
     "text": [
      "dict_keys(['국어', '수학', '영어'])\n"
     ]
    }
   ],
   "source": [
    "성적표 = {\"국어\": 92, \"수학\": 88, \"영어\": 72}\n",
    "subj = 성적표.keys()\n",
    "print(subj)"
   ]
  },
  {
   "cell_type": "code",
   "execution_count": 26,
   "id": "c71c94b4",
   "metadata": {},
   "outputs": [
    {
     "name": "stdout",
     "output_type": "stream",
     "text": [
      "['국어', '수학', '영어']\n"
     ]
    }
   ],
   "source": [
    "keys_list = list(subj) # 객체(=리스트) 이름 가공(변환)\n",
    "print(keys_list)"
   ]
  },
  {
   "cell_type": "code",
   "execution_count": 27,
   "id": "aa3938b2",
   "metadata": {},
   "outputs": [],
   "source": [
    "# 위 두 과정을 하나로 축약:\n",
    "keyList = list(성적표.keys())"
   ]
  },
  {
   "cell_type": "code",
   "execution_count": 30,
   "id": "4d0ba2df",
   "metadata": {},
   "outputs": [
    {
     "data": {
      "text/plain": [
       "['국어', '수학', '영어']"
      ]
     },
     "execution_count": 30,
     "metadata": {},
     "output_type": "execute_result"
    }
   ],
   "source": [
    "# .keys() 함수는 딕셔너리에서 문자열 데이터를 추출해서 리스트화 하는거\n",
    "keyList "
   ]
  },
  {
   "cell_type": "code",
   "execution_count": 31,
   "id": "28af4715",
   "metadata": {},
   "outputs": [
    {
     "name": "stdout",
     "output_type": "stream",
     "text": [
      "dict_values([92, 88, 72])\n"
     ]
    }
   ],
   "source": [
    "# 딕셔너리에서 값을 추출해서 리스트화 하는 함수:\n",
    "# .values()\n",
    "v = 성적표.values()\n",
    "print(v)"
   ]
  },
  {
   "cell_type": "code",
   "execution_count": 32,
   "id": "9b01da19",
   "metadata": {},
   "outputs": [],
   "source": [
    "valueList = list(성적표.values())"
   ]
  },
  {
   "cell_type": "code",
   "execution_count": 33,
   "id": "2dd73c9c",
   "metadata": {},
   "outputs": [
    {
     "data": {
      "text/plain": [
       "[92, 88, 72]"
      ]
     },
     "execution_count": 33,
     "metadata": {},
     "output_type": "execute_result"
    }
   ],
   "source": [
    "valueList"
   ]
  },
  {
   "cell_type": "code",
   "execution_count": 34,
   "id": "b8330216",
   "metadata": {},
   "outputs": [
    {
     "name": "stdout",
     "output_type": "stream",
     "text": [
      "dict_values([92, 88, 72])\n"
     ]
    }
   ],
   "source": [
    "print(성적표.values())"
   ]
  },
  {
   "cell_type": "code",
   "execution_count": 35,
   "id": "79a9b5d2",
   "metadata": {},
   "outputs": [
    {
     "name": "stdout",
     "output_type": "stream",
     "text": [
      "None\n"
     ]
    }
   ],
   "source": [
    "성적표1 = {\"국어\": 92, \"수학\": 88, \"영어\": 72}\n",
    "성적표2 = {\"물리\": 78, \"화학\": 82}\n",
    "\n",
    "print(성적표1.update(성적표2))"
   ]
  },
  {
   "cell_type": "code",
   "execution_count": 36,
   "id": "3cb16942",
   "metadata": {},
   "outputs": [],
   "source": [
    "성적표1.update(성적표2)"
   ]
  },
  {
   "cell_type": "code",
   "execution_count": 37,
   "id": "d08cbd0d",
   "metadata": {},
   "outputs": [
    {
     "name": "stdout",
     "output_type": "stream",
     "text": [
      "{'국어': 92, '수학': 88, '영어': 72, '물리': 78, '화학': 82}\n"
     ]
    }
   ],
   "source": [
    "print(성적표1)"
   ]
  },
  {
   "cell_type": "code",
   "execution_count": 38,
   "id": "d4f8118d",
   "metadata": {},
   "outputs": [
    {
     "name": "stdout",
     "output_type": "stream",
     "text": [
      "{'국어': 92, '수학': 88, '영어': 72, '물리': 78, '화학': 82}\n"
     ]
    }
   ],
   "source": [
    "성적표_최종 = 성적표1.copy()\n",
    "print(성적표_최종)"
   ]
  },
  {
   "cell_type": "code",
   "execution_count": 39,
   "id": "b4840e13",
   "metadata": {},
   "outputs": [
    {
     "name": "stdout",
     "output_type": "stream",
     "text": [
      "{'a': 100, 'b': 200}\n"
     ]
    }
   ],
   "source": [
    "bar = {\"a\": 100, \"b\": 200}\n",
    "print(bar)"
   ]
  },
  {
   "cell_type": "code",
   "execution_count": 40,
   "id": "705e830d",
   "metadata": {},
   "outputs": [
    {
     "name": "stdout",
     "output_type": "stream",
     "text": [
      "{}\n"
     ]
    }
   ],
   "source": [
    "bar.clear()\n",
    "print(bar)"
   ]
  },
  {
   "cell_type": "markdown",
   "id": "31c17533",
   "metadata": {},
   "source": [
    "### 03. 예외처리\n",
    "#### a.k.a. error 대응 방법"
   ]
  },
  {
   "cell_type": "code",
   "execution_count": 51,
   "id": "09b4a7b5",
   "metadata": {},
   "outputs": [],
   "source": [
    "# 런타임 에러 = 예외, Exception\n",
    "    # 에러 이름 = 예외 클래스\n",
    "# 예외 처리 방법:\n",
    "    # 1. 고전적인 방법: 'if - else' 구문 쓰기\n",
    "    # 2. 'try - except' 구문 활용\n",
    "        # try:\n",
    "            # 예외상황이 예상되는 코드\n",
    "        # except\n",
    "            # 예외 발생했을 때 실행할 코드\n",
    "            # 에러클래스를 변수로 지정 안해주면 에러원인은 출력되지 않는다\n",
    "        # 고정 탬플릿: 'try~ except Exception as e'\n",
    "# 에러 대응은 주로 데이터 수집 또는 데이터 제공(데이터마트)를 할 때\n",
    "# 중간에 코드가 뻗는걸 사전 방지하기 위함임"
   ]
  },
  {
   "cell_type": "code",
   "execution_count": 52,
   "id": "9ddb03bf",
   "metadata": {},
   "outputs": [
    {
     "ename": "ZeroDivisionError",
     "evalue": "division by zero",
     "output_type": "error",
     "traceback": [
      "\u001b[31m---------------------------------------------------------------------------\u001b[39m",
      "\u001b[31mZeroDivisionError\u001b[39m                         Traceback (most recent call last)",
      "\u001b[36mCell\u001b[39m\u001b[36m \u001b[39m\u001b[32mIn[52]\u001b[39m\u001b[32m, line 3\u001b[39m\n\u001b[32m      1\u001b[39m x = \u001b[38;5;28mint\u001b[39m(\u001b[38;5;28minput\u001b[39m(\u001b[33m\"\u001b[39m\u001b[33m \u001b[39m\u001b[33m\"\u001b[39m))\n\u001b[32m----> \u001b[39m\u001b[32m3\u001b[39m y = \u001b[32;43m100\u001b[39;49m\u001b[43m \u001b[49m\u001b[43m/\u001b[49m\u001b[43m \u001b[49m\u001b[43mx\u001b[49m\n\u001b[32m      4\u001b[39m \u001b[38;5;28mprint\u001b[39m(\u001b[33m\"\u001b[39m\u001b[33m결과는 \u001b[39m\u001b[38;5;132;01m%d\u001b[39;00m\u001b[33m 입니다.\u001b[39m\u001b[33m\"\u001b[39m % y)\n",
      "\u001b[31mZeroDivisionError\u001b[39m: division by zero"
     ]
    }
   ],
   "source": [
    "x = int(input(\" \"))\n",
    "\n",
    "y = 100 / x\n",
    "print(\"결과는 %d 입니다.\" % y)"
   ]
  },
  {
   "cell_type": "markdown",
   "id": "b9acb978",
   "metadata": {},
   "source": [
    "### 04. 파일 입출력"
   ]
  },
  {
   "cell_type": "markdown",
   "id": "ee036607",
   "metadata": {},
   "source": []
  },
  {
   "cell_type": "code",
   "execution_count": null,
   "id": "e71b78ce",
   "metadata": {},
   "outputs": [],
   "source": [
    "# 객체: 변수 또는 함수를 내장하고 있는 것\n",
    "# 파일 객체 생성 by using open() 함수:\n",
    "    # 객체이름 = open(\"파일경로\", \"모드\", encoding='인코딩')\n",
    "        # 파일경로(=파일이름): 상대경로, 절대경로 방식 (문자열임)\n",
    "            # 절대경로: w/ regard to 홈 디렉토리\n",
    "                # C:Users 폴더에 직접 \\파일열.확장자 저장하면 절대경로 만들어짐\n",
    "                # ex) C:, D:, E: (c드라이브, d드라이브,..)\n",
    "            # 상대경로: 현재 작업중인 파일이 있는 '폴더'를 기준으로 탐색\n",
    "                # 현재 작업중인 파일이 있는 '폴더'를 \"./\"로 표기함\n",
    "                # ppt p.49 참고 (기억 잘 해라고 강조하심 for 추후 데이터분석)\n",
    "        # 모드:\n",
    "            # text 관련: \n",
    "                # r: 읽기, w: 새로쓰기(원본 삭제), a: 이어쓰기 (원본유지)\n",
    "            # 이진법 관련 (이미지 파일 등): \n",
    "                # rb: 읽기, wb: 새로쓰기(원본 삭제), ab: 이어쓰기 (원본유지)\n",
    "        # '인코딩': only 'utf-8' or 'euc-kr' exists\n",
    "        # open()함수를 쓴 이후에는 close() 함수 써야됨\n",
    "    # 파일 쓰기\n",
    "        #  f = open(파일경로, \"w\", utf-8)\n",
    "# with open(\"파일경로\", \"모드\", encoding) as 객채이름\n",
    "    # close 처리가 자동으로 되는 구문\n",
    "    # 작업 후 닫아야 하는 파일 또는 crowling 작업할 때 자주 쓰임\n",
    "    # .readlines(): 줄바꿈인 \"\\n\" 까지 포함하는게 원래 한줄임!\n",
    "    # i.e. list적 성격을 띄는 걸 이용하는 거임\n",
    "    # .strip() 줄바꿈 제거 목적"
   ]
  },
  {
   "cell_type": "code",
   "execution_count": 54,
   "id": "cae4de50",
   "metadata": {},
   "outputs": [],
   "source": [
    "# 실습\n",
    "f = open(\"helloworld.txt\", \"w\", encoding='utf-8')"
   ]
  },
  {
   "cell_type": "code",
   "execution_count": 55,
   "id": "9b0000e1",
   "metadata": {},
   "outputs": [],
   "source": [
    "f.write(\"Hello Python!!!\\n\")\n",
    "f.write(\"해석: 안녕하세요 파이썬!!!\\n\")\n",
    "\n",
    "f.close()"
   ]
  },
  {
   "cell_type": "code",
   "execution_count": 56,
   "id": "41d69f07",
   "metadata": {},
   "outputs": [
    {
     "name": "stdout",
     "output_type": "stream",
     "text": [
      "Hello Python!!!\n",
      "해석: 안녕하세요 파이썬!!!\n",
      "\n"
     ]
    }
   ],
   "source": [
    "f = open(\"helloworld.txt\", \"r\", encoding='utf-8')\n",
    "data = f.read()\n",
    "print(data)"
   ]
  },
  {
   "cell_type": "code",
   "execution_count": 57,
   "id": "842fe05b",
   "metadata": {},
   "outputs": [],
   "source": [
    "f.close()"
   ]
  },
  {
   "cell_type": "code",
   "execution_count": 60,
   "id": "6eee2d8a",
   "metadata": {},
   "outputs": [
    {
     "name": "stdout",
     "output_type": "stream",
     "text": [
      "파일 저장이 완료 되었습니다.\n"
     ]
    }
   ],
   "source": [
    "with open(\"helloworld.txt\", \"w\", encoding='utf-8') as f:\n",
    "    for i in range(0,10):\n",
    "        f.write(\"%d -> \" % i)\n",
    "        f.write(\"Life is too short, \")\n",
    "        f.write(\"you need to learn Python\\n\")\n",
    "    print(\"파일 저장이 완료 되었습니다.\")"
   ]
  },
  {
   "cell_type": "code",
   "execution_count": 61,
   "id": "320bdb22",
   "metadata": {},
   "outputs": [
    {
     "name": "stdout",
     "output_type": "stream",
     "text": [
      "0 -> Life is too short, you need to learn Python\n",
      "1 -> Life is too short, you need to learn Python\n",
      "2 -> Life is too short, you need to learn Python\n",
      "3 -> Life is too short, you need to learn Python\n",
      "4 -> Life is too short, you need to learn Python\n",
      "5 -> Life is too short, you need to learn Python\n",
      "6 -> Life is too short, you need to learn Python\n",
      "7 -> Life is too short, you need to learn Python\n",
      "8 -> Life is too short, you need to learn Python\n",
      "9 -> Life is too short, you need to learn Python\n",
      "\n"
     ]
    }
   ],
   "source": [
    "with open(\"helloworld.txt\", \"r\", encoding='utf-8') as f:\n",
    "    data = f.read()\n",
    "    print(data)"
   ]
  },
  {
   "cell_type": "code",
   "execution_count": null,
   "id": "89c59a39",
   "metadata": {},
   "outputs": [],
   "source": [
    "with open(\"helloworld.txt\", \"r\", encoding='utf-8') as f:"
   ]
  },
  {
   "cell_type": "markdown",
   "id": "905432f3",
   "metadata": {},
   "source": [
    "### 05. CSV 파일 다루기 (1)"
   ]
  },
  {
   "cell_type": "code",
   "execution_count": null,
   "id": "6a7aaf73",
   "metadata": {},
   "outputs": [],
   "source": [
    "# VScode는 encoding 확장자 'euc-kr'만 읽을 수 있다!!\n",
    "    # -> 한글 확장자인 'utf-8'로 저장된 파일은 VScode가 읽을 수 없다!\n",
    "    # 이때 csv 엑셀 파일: 확장자가 'euc-kr'임\n",
    "    # 일일이 VScode에 타이핑 해서 형태 convert 필요 \n",
    "    # ex) convert python 딕셔너리{리스트[ ],..} to csv data\n",
    "        # ppt p.62:\n",
    "        # csv 규칙 맞추는 과정 -> 리스트 원소들을 문자열로 바꿈\n",
    "        # with open(~~, encoding = 'euc-kr') -> 엑셀로 열 수 있는 '확장자' 지정\n",
    "        # 문자열 규칙 맞춤 -> title + \"\\n\"\n",
    "        # for 반복문 과정: 행 쌓는 과정\n",
    "            # => 이 세 과정으로 인해서 하나의 csv 파일로 데이터 가공 하는 거임\n",
    "    # ex) convert csv data to python 딕셔너리{리스트[ ],..}\n",
    "        # ppt p.63:"
   ]
  },
  {
   "cell_type": "code",
   "execution_count": null,
   "id": "295bb380",
   "metadata": {},
   "outputs": [],
   "source": [
    "# 실습\n",
    "# list 안에 원소가 dictionary들일 때 csv 변환법\n",
    "list_grade = [\n",
    "    {\"name\": \"철수\", \"kor\": 95, \"eng\": 88, \"math\": 72},\n",
    "    {\"name\": \"영희\", \"kor\": 92, \"eng\": 90, \"math\": 95},\n",
    "    {\"name\": \"철민\", \"kor\": 88, \"eng\": 76, \"math\": 64}\n",
    "]\n",
    "\n",
    "tpl = \"{0},{1},{2},{3}\\n\"   # csv 파일에 대한 구문형식 정의\n",
    "\n",
    "with open(\"grade.csv\", \"w\", encoding='euc-kr') as f:    # csv 파일용 객체 f 생성, csv 파일은 euc-kr만 읽을 수 있으니 encoding은 euc-kr로 지정\n",
    "    f.write(\"이름,국어,영어,수학\\n\")    # 생성한 csv 파일 첫 줄은 제목\n",
    "\n",
    "    for items in list_grade:\n",
    "        tmpl = tpl.format(items[\"name\"], items[\"kor\"], items[\"eng\"], items[\"math\"])\n",
    "        f.write(tmpl)   # 반복문으로 각 줄당 csv 형식으로 데이터 입력\n"
   ]
  },
  {
   "cell_type": "code",
   "execution_count": 69,
   "id": "b8b28ad0",
   "metadata": {},
   "outputs": [],
   "source": [
    "# dictionary 안에 원소가 list들일 때 csv 변환법\n",
    "dic_grade = {\n",
    "    '이름': ['철수', '영희', '민철', '수현', '호영'],\n",
    "    '국어': [98, 88, 92, 63, 120],\n",
    "    '영어': [76, 90, 70, 60, 50],\n",
    "    '수학': [88, 62, 88, 31, 76],\n",
    "    '과학': [64, 72, 45, 70, 88],\n",
    "}\n",
    "\n",
    "tpl = \"{0},{1},{2},{3},{4}\\n\"   # csv 파일의 '한 줄'에 대한 템플릿 정의\n",
    "keys = list(dic_grade.keys())   # dictionary의 key 들을 'keys'라는 이름을 가지는 list로 변환\n",
    "p = \",\"\n",
    "title = p.join(keys)    # join 함수: 리스트 원소들을 문자열로 변환하는 방법\n",
    "# keys 리스트가 그럼 ,가 포함된 title 문자열로 변환됨 \n",
    "\n",
    "with open(\"grade2.csv\", \"w\", encoding='euc-kr') as f:\n",
    "    f.write(\"title\"+ \"\\n\") # 첫 줄에 제목 입력\n",
    "    for i in range(0, len(dic_grade['이름'])):\n",
    "        tmpl = tpl.format(dic_grade['이름'][i], dic_grade['국어'][i], dic_grade['영어'][i], dic_grade['수학'][i], dic_grade['과학'][i])\n",
    "\n",
    "        f.write(tmpl)"
   ]
  },
  {
   "cell_type": "code",
   "execution_count": 71,
   "id": "5b91298f",
   "metadata": {},
   "outputs": [
    {
     "name": "stdout",
     "output_type": "stream",
     "text": [
      "['이름,국어,영어,수학\\n', '철수,95,88,72\\n', '영희,92,90,95\\n', '철민,88,76,64\\n']\n"
     ]
    }
   ],
   "source": [
    "#저장한 csv 파일을 VScode로 변환방법\n",
    "    # step1: 파일 읽기\n",
    "csv_list = None # 읽을 내용 저장하기 위한 빈 변수 만들기\n",
    "\n",
    "with open(\"grade.csv\", \"r\", encoding='euc-kr') as f:\n",
    "    csv_list = f.readlines()    # readlines(): 리스트 생성함수임!\n",
    "# csv 파일의 각 행을 '원소'로 가지는 '리스트' 생성\n",
    "print(csv_list)\n"
   ]
  },
  {
   "cell_type": "code",
   "execution_count": 72,
   "id": "60357553",
   "metadata": {},
   "outputs": [],
   "source": [
    "    # step2: 읽어온 내용 변환하기\n",
    "data = [] # csv 데이터 불러올 빈 배열 생성\n",
    "\n",
    "for i, line in enumerate(csv_list):\n",
    "    if i == 0:\n",
    "        continue # 첫 행은 제목 넣을거여서 건너뛰기\n",
    "\n",
    "    k = line.strip().split(\",\") # strip함수로 불필요한 공백 제거하고\n",
    "    # split 함수로 반점 기준 데이터 쪼갠 후 '리스트'로 변환\n",
    "    # 이 때 변환된 리스트 원소들의 데이터 타입은 다 '문자열'임! \n",
    "\n",
    "    item = {\n",
    "        \"name\": k[0], \n",
    "        \"kor\": int(k[1]),\n",
    "        \"eng\": int(k[2]),\n",
    "        \"math\": int(k[3])\n",
    "    } # dictionary로 각 행에 내용 변환. 이때 점수는 정수로 항 변환 후 처리\n",
    "\n",
    "    data.append(item)  #dictionary로 가공한 csv형태 데이터를 빈 date 리스트에 저장\n",
    "\n",
    "    data"
   ]
  },
  {
   "cell_type": "code",
   "execution_count": 73,
   "id": "e06e99b8",
   "metadata": {},
   "outputs": [
    {
     "data": {
      "text/plain": [
       "[{'name': '철수', 'kor': 95, 'eng': 88, 'math': 72},\n",
       " {'name': '영희', 'kor': 92, 'eng': 90, 'math': 95},\n",
       " {'name': '철민', 'kor': 88, 'eng': 76, 'math': 64}]"
      ]
     },
     "execution_count": 73,
     "metadata": {},
     "output_type": "execute_result"
    }
   ],
   "source": [
    "data"
   ]
  },
  {
   "cell_type": "code",
   "execution_count": null,
   "id": "1a5a3cec",
   "metadata": {},
   "outputs": [
    {
     "name": "stdout",
     "output_type": "stream",
     "text": [
      "날짜,서울시 일일 확진,서울시 일일 사망,전국 일일 확진,전국 일일 사망\n",
      "2023-05-31,5987,6,24411,17\n",
      "2023-05-30,3326,1,13529,7\n",
      "2023-05-29,1393,1,6868,3\n",
      "2023-05-28,1393,1,6868,3\n",
      "------------------------------\n",
      "서울 일 평균 확진자 수: 5119.41 명\n",
      "서울 일 평균 사망자 수: 3.40 명\n",
      "전국 일 평균 확진자 수: 26141.33 명\n",
      "전국 일 평균 사망자 수: 19.72 명\n",
      "------------------------------\n",
      "작업이 완료 되었습니다.\n"
     ]
    }
   ],
   "source": [
    "try:\n",
    "    with open(\"covid19.csv\", \"r\", encoding='euc-kr') as f:\n",
    "        csv_list = f.readlines()    # csv 파일의 각 행을 원소로 가지는 리스트 생성\n",
    "        for i in range(5):    # 상위 5줄만 확인 for 코드 짜기 위해\n",
    "            print(csv_list[i].strip())    # line 4 ~ line 6 코드 먼저 짠 다음에 일단 #처리 해놓고, \n",
    "        print(\"-\" * 30)    # 이 try문의 아래행들 적기 전에 일단은 except ~ finally 문 부터 먼저 짜놓기 (line 35 ~ line 39) \n",
    "        # 그 다음에 위에 처리해놨던 # 지우고 폴더의 covid19.csv 파일을 VScode로 끌고와서 코드 실행하기\n",
    "        \n",
    "        size = len(csv_list) - 1    # 제목행은 반복문 안돌리니까 -1 해주는거임\n",
    "        \n",
    "        seoul_confirm_sum = 0    # 합계(sum)가 데이터 가공의 목적이였으므로 변수 초기화(기본값 설정)\n",
    "        seoul_death_sum = 0 \n",
    "        nation_confirm_sum = 0 \n",
    "        nation_death_sum = 0 \n",
    "\n",
    "        for i, line in enumerate(csv_list):    # csv 파일의 각 행 순회하며 데이터 추출\n",
    "            if i == 0:\n",
    "                continue    # 제목행은 관심 밖, 데이터가공 대상 아니므로 건너뛰기\n",
    "\n",
    "            k = line.strip().split(\",\")    # 공백 제거 + 콤마 기준으로 잘라서 리스트화\n",
    "\n",
    "            if k[1].isnumeric():    # 서울 확진자 수\n",
    "                seoul_confirm_sum = seoul_confirm_sum + int(k[1])\n",
    "            if k[2].isnumeric():    # 서울 사망자 수\n",
    "                seoul_death_sum = seoul_death_sum + int(k[2])\n",
    "            if k[3].isnumeric():    # 전국 확진자 수\n",
    "                nation_confirm_sum = nation_confirm_sum + int(k[3])\n",
    "            if k[4].isnumeric():    # 전국 사망자 수\n",
    "                nation_death_sum = nation_death_sum + int(k[4])\n",
    "        \n",
    "        # 각각 합계의 평균 출력 (일 평균으로 데이터 최종 가공)\n",
    "        print(\"서울 일 평균 확진자 수: %.2f 명\" % ( seoul_confirm_sum / size))\n",
    "        print(\"서울 일 평균 사망자 수: %.2f 명\" % ( seoul_death_sum / size))\n",
    "        print(\"전국 일 평균 확진자 수: %.2f 명\" % ( nation_confirm_sum / size))\n",
    "        print(\"전국 일 평균 사망자 수: %.2f 명\" % ( nation_death_sum / size))\n",
    "\n",
    "except Exception as e:\n",
    "    print(\"CSV 파일 처리에 실패했습니다.\", e)\n",
    "finally:\n",
    "    print(\"-\" * 30)\n",
    "    print(\"작업이 완료 되었습니다.\")"
   ]
  },
  {
   "cell_type": "code",
   "execution_count": null,
   "id": "a0fe7d4c",
   "metadata": {},
   "outputs": [],
   "source": []
  }
 ],
 "metadata": {
  "kernelspec": {
   "display_name": "Python 3",
   "language": "python",
   "name": "python3"
  },
  "language_info": {
   "codemirror_mode": {
    "name": "ipython",
    "version": 3
   },
   "file_extension": ".py",
   "mimetype": "text/x-python",
   "name": "python",
   "nbconvert_exporter": "python",
   "pygments_lexer": "ipython3",
   "version": "3.13.9"
  }
 },
 "nbformat": 4,
 "nbformat_minor": 5
}
