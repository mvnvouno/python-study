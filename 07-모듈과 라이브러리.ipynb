{
 "cells": [
  {
   "cell_type": "markdown",
   "id": "da957fe4",
   "metadata": {},
   "source": [
    "## #01. 모듈과 라이브러리"
   ]
  },
  {
   "cell_type": "markdown",
   "id": "b98b59e7",
   "metadata": {},
   "source": [
    "#### 모듈/ 패키지/ 라이브러리"
   ]
  },
  {
   "cell_type": "code",
   "execution_count": null,
   "id": "f84833a9",
   "metadata": {},
   "outputs": [],
   "source": [
    "# 모듈(≒기능): '재사용 가능하게' 코드 파일들을 조립시킬 수 있게 분리 해놓는 것\n",
    "# 패키지(≒파일): 여러 모듈을 파일 단위로 모아둔 것\n",
    "# 라이브러리(≒폴더): 패키지랑 모듈의 모음. 압축폴더도 라이브러리임\n",
    "\n",
    "# 통상적으로 사람들은 패키지=라이브러리 혼용해서 사용함\n",
    "# 내가 자주 쓸 기능들을 미리 정리해 놓는 행위 추천"
   ]
  },
  {
   "cell_type": "markdown",
   "id": "9ccdf26c",
   "metadata": {},
   "source": [
    "## # 02. 라이브러리 기능 가져오기"
   ]
  },
  {
   "cell_type": "markdown",
   "id": "ecbd5403",
   "metadata": {},
   "source": [
    "#### 기능 가져오기 (from A import B)"
   ]
  },
  {
   "cell_type": "code",
   "execution_count": null,
   "id": "61449a6e",
   "metadata": {},
   "outputs": [],
   "source": [
    "    # from 패키지이름(or 라이브러리 이름) import 참조할모듈이름\n",
    "        # class는 그냥 쓰지 못함 (출력 안되는게 기본)\n",
    "        # -> import 할 때:\n",
    "        # --> 새로운 객체 생성 \n",
    "        #    (case when 모듈 안에 객체 없거나 그 기능 말고 다른거 쓰고 싶을 때)\n",
    "        # --> or 만들어둔 모듈의 객체 이용\n",
    "        # --> 참조할 모듈이름은 별칭 지을 수 있음\n",
    "\n",
    "    # 모듈 안에 '함수', '변수', '매서드' 다 들어 있을 때:\n",
    "        # from 폴더이름(Mylibrary).파일이름(MyMod#) import 기능이름\n",
    "        # -> 골라온 기능은 모듈이름 안 적고 직접 접근가능\n",
    "        # --> ex) \n",
    "        # from mylibrary.Mod1 import plus\n",
    "        # print(plus(3, 4))\n",
    "\n",
    "    # from A import B 구문으로 import 한 후에는\n",
    "        # -> 모듈 내에 정의된 기능(함수, 클래스, 객체)에 접근 가능\n",
    "        # --> ex)\n",
    "        # --> 모듈이름.함수이름()\n",
    "        # --> 새로운변수 = 모듈이름.클래스이름()\n",
    "        # --> 모듈이름.객체이름.매서드()"
   ]
  },
  {
   "cell_type": "markdown",
   "id": "1cef064e",
   "metadata": {},
   "source": [
    "##### 함수 기능 가져오기 (클래스 내부 함수 아님)"
   ]
  },
  {
   "cell_type": "code",
   "execution_count": 8,
   "id": "280e3714",
   "metadata": {},
   "outputs": [
    {
     "name": "stdout",
     "output_type": "stream",
     "text": [
      "7\n",
      "-1\n"
     ]
    }
   ],
   "source": [
    "# 실습 - 함수를 포함한 모듈 import\n",
    "\n",
    "# Mymod1.py 파일 참조\n",
    "from mylibrary import MyMod1\n",
    "\n",
    "# 참조한 파일에 정의된 함수는 '파일이름.함수명' 형식으로 접근\n",
    "print(MyMod1.plus(3, 4))\n",
    "print(MyMod1.minus(3, 4))"
   ]
  },
  {
   "cell_type": "markdown",
   "id": "cadaad7a",
   "metadata": {},
   "source": [
    "##### 클래스 기능 가져오기 (클래스 내부에 객체 없을 때)"
   ]
  },
  {
   "cell_type": "code",
   "execution_count": 9,
   "id": "bc0e232d",
   "metadata": {},
   "outputs": [
    {
     "name": "stdout",
     "output_type": "stream",
     "text": [
      "------- 생성자가 실행 되었습니다. -------\n",
      "이름: 파이썬학생 / 이메일: leekh4232@gmail.com\n"
     ]
    }
   ],
   "source": [
    "# 실습 - 클래스가 정의된 모듈 import\n",
    "\n",
    "# 클래스는 별도로 새로운 객체(변수 or 매서드) 생성 필요\n",
    "from mylibrary import MyMod2\n",
    "\n",
    "# MyMod2에 정의된 Member라는 클래스로 \"모듈이름.클래스이름\"으로 접근\n",
    "# -> import된 클래스는 정의된 기능을 다른 변수에 부여해야 사용 가능\n",
    "#    ==> 객체\n",
    "# -> 클래스에 생성자가 포함 되어있고 생성자가 파라미터 가질 때\n",
    "#    객체 생성 시 생성자에게 파라미터를 전달해야 함\n",
    "mem = MyMod2.Member('파이썬학생', 'leekh4232@gmail.com')\n",
    "mem.view_info()"
   ]
  },
  {
   "cell_type": "markdown",
   "id": "9f9662f4",
   "metadata": {},
   "source": [
    "##### 클래스 기능 가져오기 (클래스 내부에 객체 있을 때)"
   ]
  },
  {
   "cell_type": "code",
   "execution_count": 10,
   "id": "eb98d65c",
   "metadata": {},
   "outputs": [
    {
     "name": "stdout",
     "output_type": "stream",
     "text": [
      "45\n",
      "15\n"
     ]
    }
   ],
   "source": [
    "# 실습 - 객체가 들어있는 모듈 import\n",
    "\n",
    "# 따로 객체 생성 안해도 됨\n",
    "from mylibrary import MyMod3\n",
    "\n",
    "# 모듈 안의 객체를 통해 기능 접근\n",
    "print(MyMod3.my_calc.plus(30, 15))\n",
    "print(MyMod3.my_calc.minus(30, 15))"
   ]
  },
  {
   "cell_type": "markdown",
   "id": "1661fa3f",
   "metadata": {},
   "source": [
    "##### 모듈에는 별칭 적용 가능"
   ]
  },
  {
   "cell_type": "markdown",
   "id": "7213a67e",
   "metadata": {},
   "source": [
    "###### (함수모듈, 클래스모듈, 객체모듈)"
   ]
  },
  {
   "cell_type": "code",
   "execution_count": null,
   "id": "e0c82702",
   "metadata": {},
   "outputs": [
    {
     "name": "stdout",
     "output_type": "stream",
     "text": [
      "7\n",
      "-1\n"
     ]
    }
   ],
   "source": [
    "# 실습 - 별칭 to 모듈\n",
    "from mylibrary import MyMod1 as hello\n",
    "\n",
    "# '별칭이름.함수이름' 형식으로 접근\n",
    "print(hello.plus(3, 4))\n",
    "print(hello.minus(3, 4))"
   ]
  },
  {
   "cell_type": "code",
   "execution_count": null,
   "id": "04d962e8",
   "metadata": {},
   "outputs": [
    {
     "name": "stdout",
     "output_type": "stream",
     "text": [
      "------- 생성자가 실행 되었습니다. -------\n",
      "이름: 민영에이 / 이메일: kimmy@gmail.com\n"
     ]
    }
   ],
   "source": [
    "# 실습 - 별칭 to 클래스\n",
    "\n",
    "# import한 클래스 쓸 때 ,객체 생성 시 별칭 쓰기\n",
    "from mylibrary import MyMod2 as User\n",
    "\n",
    "# '별칭이름.클래스()'로 접근\n",
    "member = User.Member('민영에이', 'kimmy@gmail.com')\n",
    "member.view_info()"
   ]
  },
  {
   "cell_type": "code",
   "execution_count": 17,
   "id": "e9d85674",
   "metadata": {},
   "outputs": [
    {
     "name": "stdout",
     "output_type": "stream",
     "text": [
      "45\n",
      "15\n"
     ]
    }
   ],
   "source": [
    "# 실습 - 별칭 to 객체\n",
    "\n",
    "# '별칭이름.객체이름' 으로 접근\n",
    "from mylibrary import MyMod3 as MyObject\n",
    "\n",
    "print(MyObject.my_calc.plus(30, 15))\n",
    "print(MyObject.my_calc.minus(30, 15))"
   ]
  },
  {
   "cell_type": "markdown",
   "id": "2af3405c",
   "metadata": {},
   "source": [
    "#### 기능 직접 가져오기"
   ]
  },
  {
   "cell_type": "markdown",
   "id": "f3a8e0bb",
   "metadata": {},
   "source": [
    "##### (함수 직접, 클래스 직접, 객체 직접 가져오기)"
   ]
  },
  {
   "cell_type": "markdown",
   "id": "0480012b",
   "metadata": {},
   "source": [
    "###### 개별적으로 가꼬온 기능(함수, 클래스, 객체)들도 별칭 부여 가능"
   ]
  },
  {
   "cell_type": "code",
   "execution_count": 42,
   "id": "9bac9089",
   "metadata": {},
   "outputs": [
    {
     "name": "stdout",
     "output_type": "stream",
     "text": [
      "7\n"
     ]
    }
   ],
   "source": [
    "# ex) 기능: 함수\n",
    "from mylibrary.MyMod1 import plus\n",
    "\n",
    "# 이 경우 출력할 때 가져온 기능 앞에 모듈이름 안씀\n",
    "print(plus(3, 4))\n",
    "# 대신, 호출 안한 기능은 사용불가 (ex) minus(3, 4))"
   ]
  },
  {
   "cell_type": "code",
   "execution_count": 19,
   "id": "76099414",
   "metadata": {},
   "outputs": [
    {
     "name": "stdout",
     "output_type": "stream",
     "text": [
      "------- 생성자가 실행 되었습니다. -------\n",
      "이름: 민영에이 / 이메일: kimmy@gmail.com\n"
     ]
    }
   ],
   "source": [
    "# 실습 - 클래스 직접 호출\n",
    "\n",
    "from mylibrary.MyMod2 import Member\n",
    "\n",
    "# 클래스를 import 했으므로 객체 생성해야 기능 사용 가능\n",
    "mem = Member('민영에이', 'kimmy@gmail.com')\n",
    "mem.view_info()"
   ]
  },
  {
   "cell_type": "code",
   "execution_count": 21,
   "id": "430e6d16",
   "metadata": {},
   "outputs": [
    {
     "name": "stdout",
     "output_type": "stream",
     "text": [
      "45\n",
      "15\n"
     ]
    }
   ],
   "source": [
    "# 실습 - 객체 직접 호출\n",
    "\n",
    "from mylibrary.MyMod3 import my_calc\n",
    "\n",
    "# 객체 뿐 아니라 그 객체가 속한 클래스 기능까지 쓸 수 있음\n",
    "print(my_calc.plus(30, 15))\n",
    "print(my_calc.minus(30, 15))"
   ]
  },
  {
   "cell_type": "markdown",
   "id": "51a62b34",
   "metadata": {},
   "source": [
    "## # 03. 파일/폴더 관련 기능"
   ]
  },
  {
   "cell_type": "code",
   "execution_count": null,
   "id": "04567173",
   "metadata": {},
   "outputs": [],
   "source": [
    "# 내장 모듈 사용\n",
    "\n",
    "    # 현재 운영체제 이름 조회:\n",
    "        # print(sys.platform)\n",
    "        # sys.platform: 프로퍼티 임! \n",
    "        # -> getter, setter를 내장하고 있음\n",
    "\n",
    "    # os.listdir('./'): 현재 폴더('./') 내의 하위 항목들의 이름을 리스트로 리턴받음\n",
    "    # .listdir(): list directory, = 현재 폴더의 하위항목들을 리스트화 한거\n",
    "    # 현재 폴더 './'\n",
    "    # 상위 폴더: '../'\n",
    "    # directory: 폴더 혹은 파일 (원 뜻: 경로)\n",
    "\n",
    "    # .mkdir(): make directory = 폴더 생성\n",
    "        #.makedirs(): 폴더'들' 만들기\n",
    "    # .rmdir(): remove directory = 폴더 삭제\n",
    "        # .rmtree(): remove tree = 폴더트리 삭제\n",
    "        # (폴더트리: '폴더 안 폴더 안 폴더 안...' 같은 구조)\n",
    "\n",
    "    # if 상위폴더명 = 하위폴더명:\n",
    "        # 상위폴더명을 별칭 처리\n",
    "\n",
    "    # '*.ipynb': .ipynb를 포함한 모든 파일명\n",
    "    # '*2*': 2를 포함한 모든 파일명\n"
   ]
  },
  {
   "cell_type": "code",
   "execution_count": null,
   "id": "a41d9375",
   "metadata": {},
   "outputs": [
    {
     "name": "stdout",
     "output_type": "stream",
     "text": [
      "win32\n"
     ]
    }
   ],
   "source": [
    "# 실습\n",
    "import sys  # 시스템정보 제공 모듈\n",
    "import os   # 운영체제 기능 접근 모듈\n",
    "print(sys.platform)"
   ]
  },
  {
   "cell_type": "code",
   "execution_count": null,
   "id": "20b98087",
   "metadata": {},
   "outputs": [
    {
     "name": "stdout",
     "output_type": "stream",
     "text": [
      "['.git', '.gitconfig', '.gitignore', '01-파이썬 시작하기, 변수와 연산자.ipynb', '03-프로그램 흐름제어.ipynb', '04-리스트(2), 문자열.ipynb', '05-딕셔너리,예외처리,파일입출력.ipynb', '06-객체지향 프로그래밍의 이해.ipynb', '07-모듈과 라이브러리.ipynb', 'covid19.csv', 'grade.csv', 'grade2.csv', 'helloworld.txt', 'id_ed25519.pub', 'mylibrary', 'my_markdown.md', 'README.md', '코딩테스트_lab02.ipynb', '코딩테스트_lab03.ipynb', '코딩테스트_lab04.ipynb', '코딩테스트_lab05.ipynb', '코딩테스트_lab06.ipynb']\n"
     ]
    }
   ],
   "source": [
    "ls = os.listdir(('./'))     # 현재 폴더('./') 안의 목록들 리스트화\n",
    "print(ls)"
   ]
  },
  {
   "cell_type": "code",
   "execution_count": null,
   "id": "249b1c91",
   "metadata": {},
   "outputs": [
    {
     "name": "stdout",
     "output_type": "stream",
     "text": [
      "False\n"
     ]
    }
   ],
   "source": [
    "k = os.path.exists('./hello') # path: '폴더'라고 이해하면 됨 (원 뜻: 경로)\n",
    "print(k)\n",
    "# 해당 폴더 혹은 파일의 존재유무 확인 (if 상대경로일 경우 현재 소스파일 기준임)"
   ]
  },
  {
   "cell_type": "code",
   "execution_count": 32,
   "id": "f2f1c93a",
   "metadata": {},
   "outputs": [
    {
     "name": "stdout",
     "output_type": "stream",
     "text": [
      "c:\\Users\\itwill\\Documents\\학원수업\\hello\n"
     ]
    }
   ],
   "source": [
    "print( os.path.abspath('./hello')) # ???\n",
    "# 절대경로 확인, 해당 폴더 혹은 파일이 존재 안하더라도 '경로값'은 확인 가능"
   ]
  },
  {
   "cell_type": "code",
   "execution_count": 33,
   "id": "a577a659",
   "metadata": {},
   "outputs": [
    {
     "name": "stdout",
     "output_type": "stream",
     "text": [
      "hello 폴더를 생성 하였습니다.\n"
     ]
    }
   ],
   "source": [
    "if os.path.exists('./hello') == False:\n",
    "    # : 존재하지 않는다면\n",
    "    os.mkdir('./hello')\n",
    "    print('hello 폴더를 생성 하였습니다.')\n",
    "else: # : 만약 있다면\n",
    "    os.rmdir('./hello')\n",
    "    print('hello 폴더를 삭제 하였습니다.')"
   ]
  },
  {
   "cell_type": "code",
   "execution_count": null,
   "id": "6483f643",
   "metadata": {},
   "outputs": [
    {
     "name": "stdout",
     "output_type": "stream",
     "text": [
      "['01-파이썬 시작하기, 변수와 연산자.ipynb', '03-프로그램 흐름제어.ipynb', '04-리스트(2), 문자열.ipynb', '05-딕셔너리,예외처리,파일입출력.ipynb', '06-객체지향 프로그래밍의 이해.ipynb', '07-모듈과 라이브러리.ipynb', 'covid19.csv', 'grade.csv', 'grade2.csv', 'hello', 'helloworld.txt', 'id_ed25519.pub', 'mylibrary', 'my_markdown.md', 'README.md', '코딩테스트_lab02.ipynb', '코딩테스트_lab03.ipynb', '코딩테스트_lab04.ipynb', '코딩테스트_lab05.ipynb', '코딩테스트_lab06.ipynb']\n",
      "['01-파이썬 시작하기, 변수와 연산자.ipynb', '03-프로그램 흐름제어.ipynb', '04-리스트(2), 문자열.ipynb', '05-딕셔너리,예외처리,파일입출력.ipynb', '06-객체지향 프로그래밍의 이해.ipynb', '07-모듈과 라이브러리.ipynb', '코딩테스트_lab02.ipynb', '코딩테스트_lab03.ipynb', '코딩테스트_lab04.ipynb', '코딩테스트_lab05.ipynb', '코딩테스트_lab06.ipynb']\n",
      "['04-리스트(2), 문자열.ipynb', 'grade2.csv', 'id_ed25519.pub', '코딩테스트_lab02.ipynb']\n"
     ]
    }
   ],
   "source": [
    "import glob as gl \n",
    "\n",
    "ls = gl.glob('*') # :조회, glob came from global\n",
    "print(ls)\n",
    "\n",
    "ls = gl.glob('*.ipynb')\n",
    "print(ls)\n",
    "\n",
    "ls = gl.glob('*2*')\n",
    "print(ls)"
   ]
  },
  {
   "cell_type": "code",
   "execution_count": null,
   "id": "613e2ff7",
   "metadata": {},
   "outputs": [
    {
     "name": "stdout",
     "output_type": "stream",
     "text": [
      "python 폴더와 하위 폴더들을 생성 하였습니다.\n"
     ]
    }
   ],
   "source": [
    "import shutil # shutil came from shell utilities\n",
    "# shell refers to CLS(Command-line Shell) environment\n",
    "    # CLS: CLI(Command-line Interface) environment\n",
    "    # i.e. CLS is written, composed by CLI\n",
    "# shell utilities: copying, moving, removing, ..\n",
    "\n",
    "if os.path.exists('python') == False:\n",
    "    os.makedirs('python/test/hello/world', exist_ok = True)\n",
    "    # 'exist_ok = True': 열거한 폴더들이 존재하더라도 에러 안나게 하는 옵션\n",
    "    print('python 폴더와 하위 폴더들을 생성 하였습니다.')\n",
    "\n",
    "else:\n",
    "    shutil.rmtree('python')\n",
    "    print('python 폴더가 삭제 되었습니다.')\n",
    "    # rmtree 기능은 폴더 안 하위 폴더들 까지 다 지우는 기능임. \n",
    "    # 휴지통에 들어가지도 않고 바로 없앰"
   ]
  },
  {
   "cell_type": "code",
   "execution_count": null,
   "id": "57461dc3",
   "metadata": {},
   "outputs": [
    {
     "name": "stdout",
     "output_type": "stream",
     "text": [
      "python 폴더가 ../created 폴더로 이동 되었습니다.\n"
     ]
    }
   ],
   "source": [
    "if os.path.exists('python'):\n",
    "    shutil.move('python', '../created') # move(A, B): move A to B\n",
    "    print('python 폴더가 ../created 폴더로 이동 되었습니다.')"
   ]
  },
  {
   "cell_type": "code",
   "execution_count": 39,
   "id": "660b8cd3",
   "metadata": {},
   "outputs": [
    {
     "name": "stdout",
     "output_type": "stream",
     "text": [
      "python 폴더가 copy 폴더로 복사 되었습니다.\n"
     ]
    }
   ],
   "source": [
    "if os.path.exists('../created'):\n",
    "    shutil.copytree('../created', './copy')\n",
    "    print('python 폴더가 copy 폴더로 복사 되었습니다.')"
   ]
  },
  {
   "cell_type": "code",
   "execution_count": 40,
   "id": "4f8e94db",
   "metadata": {},
   "outputs": [
    {
     "name": "stdout",
     "output_type": "stream",
     "text": [
      "hello.txt 파일을 생성 하였습니다.\n",
      "hello.txt가 world.txt로 복사 되었습니다.\n"
     ]
    }
   ],
   "source": [
    "if os.path.exists('hello.txt') == False:\n",
    "    with open('hello.txt', 'w', encoding='utf-8') as f:\n",
    "        f.write('Life, the beauty of python!')\n",
    "        print('hello.txt 파일을 생성 하였습니다.')\n",
    "    \n",
    "    shutil.copy('hello.txt', 'world.txt')\n",
    "    print('hello.txt가 world.txt로 복사 되었습니다.')\n",
    "\n",
    "else:\n",
    "    os.remove('hello.txt')\n",
    "    print('hello.txt가 삭제 되었습니다.')\n",
    "    os.remove('world.txt')\n",
    "    print('world.txt가 삭제 되었습니다.')"
   ]
  },
  {
   "cell_type": "markdown",
   "id": "05dcc7b9",
   "metadata": {},
   "source": [
    "## # 04. 날짜/시간 관련 기능"
   ]
  },
  {
   "cell_type": "code",
   "execution_count": 53,
   "id": "016091e4",
   "metadata": {},
   "outputs": [],
   "source": [
    "# 내장함수: \"dt.date.날짜객체()\" 형식!!\n",
    "\n",
    "# .strftime('')\n",
    "    # str: 문자열, f: 형식\n",
    "# 형식문자만 들어가있다면 붙어있는 글자들은 내 맘대로 써도 상관 ㄴ\n",
    "\n",
    "# .strptime(str, ''): str p time\n",
    "    # string parse time: 문자열을 분석한다 시간으로\n",
    "    # 날짜 계산할 때 필요\n",
    "\n",
    "# 날짜 객체의 특정 값 바꿀 때: \n",
    "    # .replace()\n",
    "        # 바꾸고 tlvdms 날짜 파라미터만 괄호 안에 적어도 됨 \n",
    "\n",
    "# timedelta: 날짜 연산단위\n",
    "    # 단위: #일 #초\n",
    "    # 시간 각체랑 연산 가능\n",
    "    # timedelta 객체 만들기: \n",
    "        # d = dt.timedelta(days = #, seconds: #) "
   ]
  },
  {
   "cell_type": "markdown",
   "id": "29f19364",
   "metadata": {},
   "source": [
    "#### 현재 시각을 저장하고 있는 객체 생성"
   ]
  },
  {
   "cell_type": "code",
   "execution_count": 54,
   "id": "55346450",
   "metadata": {},
   "outputs": [
    {
     "name": "stdout",
     "output_type": "stream",
     "text": [
      "2025-10-24 15:22:10.759964\n"
     ]
    }
   ],
   "source": [
    "# 실습\n",
    "import datetime as dt\n",
    "now_time = dt.datetime.now()\n",
    "print(now_time)"
   ]
  },
  {
   "cell_type": "markdown",
   "id": "688f29d1",
   "metadata": {},
   "source": [
    "#### 날짜객체의 성분 추출"
   ]
  },
  {
   "cell_type": "code",
   "execution_count": 55,
   "id": "4bbb9312",
   "metadata": {},
   "outputs": [
    {
     "name": "stdout",
     "output_type": "stream",
     "text": [
      "today is 24th of 10 in 2025\n",
      "it is 15 hour 22 minute and 10 seconds now\n",
      "4\n",
      "Fri\n"
     ]
    }
   ],
   "source": [
    "msg = 'today is %dth of %d in %d'\n",
    "print(msg %(now_time.day, now_time.month, now_time.year))\n",
    "\n",
    "msg = 'it is %d hour %d minute and %d seconds now'\n",
    "print(msg %(now_time.hour, now_time.minute, now_time.second))\n",
    "\n",
    "d = now_time.weekday()\n",
    "print(d)\n",
    "\n",
    "tpl = ('Mon', 'Tues', 'Wed', 'Thr', \"Fri\", \"Sat\", \"Sun\")\n",
    "print(tpl[d])"
   ]
  },
  {
   "cell_type": "markdown",
   "id": "8544e51d",
   "metadata": {},
   "source": [
    "#### 날짜에 대한 문자열 형식"
   ]
  },
  {
   "cell_type": "code",
   "execution_count": 50,
   "id": "8274e941",
   "metadata": {},
   "outputs": [
    {
     "name": "stdout",
     "output_type": "stream",
     "text": [
      "25-10-24 15:03:32\n",
      "2025년 10월 24일, 15시 03분 32초\n"
     ]
    }
   ],
   "source": [
    "print(now_time.strftime(\"%y-%m-%d %H:%M:%S\"))\n",
    "print(now_time.strftime(\"%Y년 %m월 %d일, %H시 %M분 %S초\"))"
   ]
  },
  {
   "cell_type": "markdown",
   "id": "312b2c34",
   "metadata": {},
   "source": [
    "#### 특정 시각 지정하기"
   ]
  },
  {
   "cell_type": "code",
   "execution_count": 52,
   "id": "2c4afcd9",
   "metadata": {},
   "outputs": [
    {
     "name": "stdout",
     "output_type": "stream",
     "text": [
      "18-08-30 13:26:55\n"
     ]
    }
   ],
   "source": [
    "someday = dt.datetime(2018, 8, 30, 13, 26, 55)\n",
    "day_str = someday.strftime(\"%y-%m-%d %H:%M:%S\")    \n",
    "print(day_str)"
   ]
  },
  {
   "cell_type": "markdown",
   "id": "0d9a584a",
   "metadata": {},
   "source": [
    "#### 날짜 '문자열' -> 날짜 '객체' 변환"
   ]
  },
  {
   "cell_type": "code",
   "execution_count": 56,
   "id": "3ba54409",
   "metadata": {},
   "outputs": [
    {
     "name": "stdout",
     "output_type": "stream",
     "text": [
      "17-01-02 14:44:00\n"
     ]
    }
   ],
   "source": [
    "date_str = \"2017년 01월 02일 14시 44분\"     # 문자열\n",
    "old_day = dt.datetime.strptime(date_str, \"%Y년 %m월 %d일 %H시 %M분\")\n",
    "print(old_day.strftime(\"%y-%m-%d %H:%M:%S\"))"
   ]
  },
  {
   "cell_type": "markdown",
   "id": "211d57e3",
   "metadata": {},
   "source": [
    "#### 날짜 객체에서 특정값 변경"
   ]
  },
  {
   "cell_type": "code",
   "execution_count": 57,
   "id": "08859b96",
   "metadata": {},
   "outputs": [
    {
     "name": "stdout",
     "output_type": "stream",
     "text": [
      "25-10-24 15:27:00\n",
      "18-10-16 15:27:00\n"
     ]
    }
   ],
   "source": [
    "foo = dt.datetime.now()\n",
    "print(foo.strftime(\"%y-%m-%d %H:%M:%S\"))\n",
    "\n",
    "change_date = foo.replace(year=2018, day=16, hour=15)\n",
    "print(change_date.strftime(\"%y-%m-%d %H:%M:%S\"))"
   ]
  },
  {
   "cell_type": "markdown",
   "id": "7bfbd798",
   "metadata": {},
   "source": [
    "#### 두 날짜 간 차이 계산"
   ]
  },
  {
   "cell_type": "code",
   "execution_count": 58,
   "id": "908b77b6",
   "metadata": {},
   "outputs": [
    {
     "name": "stdout",
     "output_type": "stream",
     "text": [
      "68 days, 8:29:43.476472\n",
      "68\n",
      "30583\n",
      "올해는 68일 남았습니다.\n",
      "5905783.476472\n"
     ]
    }
   ],
   "source": [
    "dt1 = dt.datetime.now()\n",
    "dt2 = dt.datetime(dt1.year+1, 1, 1, 0, 0, 0)\n",
    "\n",
    "td = dt2 - dt1\n",
    "print(td)\n",
    "\n",
    "\n",
    "print(td.days)\n",
    "print(td.seconds)\n",
    "print(\"올해는 %d일 남았습니다.\" % td.days)\n",
    "\n",
    "result_in_seconds = td.total_seconds()\n",
    "print(result_in_seconds)"
   ]
  },
  {
   "cell_type": "markdown",
   "id": "bbc00e55",
   "metadata": {},
   "source": [
    "#### 몇일 뒤 날짜 계산하기"
   ]
  },
  {
   "cell_type": "code",
   "execution_count": 59,
   "id": "98e655ac",
   "metadata": {},
   "outputs": [
    {
     "name": "stdout",
     "output_type": "stream",
     "text": [
      "26-02-01 16:32:56\n"
     ]
    }
   ],
   "source": [
    "d = dt.timedelta(days=100, seconds=3600)\n",
    "time_now = dt.datetime.now()\n",
    "\n",
    "after_time = time_now + d\n",
    "\n",
    "print(after_time.strftime(\"%y-%m-%d %H:%M:%S\"))"
   ]
  },
  {
   "cell_type": "markdown",
   "id": "fd9b466e",
   "metadata": {},
   "source": [
    "## # 05. 메일 발송 기능"
   ]
  },
  {
   "cell_type": "code",
   "execution_count": null,
   "id": "83e0b81e",
   "metadata": {},
   "outputs": [],
   "source": [
    "# SMTP: Google, Naver, Hanmail, Yahoo등 메일 발송가능포털\n",
    "\n",
    "# 메일 발송 내장 모듈:\n",
    "\n",
    "# (p.76) 삼중쌍따옴요 안에서는 줄 바꿈이 자유롭다!!!\n",
    "# (p.77) html: 이미지, 크기, 색상 등 변경 가능 \n",
    "\n",
    "# (p.79) 리스트를 조건으로 사용할 때 원소가 하나라도 있다면 true\n",
    "# (p.79) rb: read binary mode\n",
    "# (p.79) line 13~14: 첨부파일 규격임\n",
    "# \n",
    "# (p.80) tls: 보안설정 (Transport Layer Security)"
   ]
  },
  {
   "cell_type": "code",
   "execution_count": 2,
   "id": "874174f4",
   "metadata": {},
   "outputs": [],
   "source": [
    "# 실습\n",
    "# 구글 앱비밀번호: uirh ysyy jfia ktlr\n",
    "\n",
    "## 메일 발송에 필요한 내장 모듈 참조\n",
    "import os\n",
    "# 경로 정보를 취득하기 위한 모듈\n",
    "from smtplib import SMTP\n",
    "# 발송 서버와 연동하기 위한 모듈\n",
    "from email.mime.text import MIMEText\n",
    "# 본문 구성 기능\n",
    "from email.mime.application import MIMEApplication\n",
    "# 파일을 Multiport 형식으로 변환\n",
    "from email.mime.multipart import MIMEMultipart\n",
    "# 파일을 본문에 추가하는 기능 제공용"
   ]
  },
  {
   "cell_type": "code",
   "execution_count": 3,
   "id": "17394fa1",
   "metadata": {},
   "outputs": [],
   "source": [
    "## 메일 발송에 필요한 정보 설정\n",
    "from_addr = \"29alsdud@gmail.com\"\n",
    "# 보내는 사람 주소(로그인 계정과 동일해야 함)\n",
    "to_addr = \"leekh4232@yonsei.ac.kr\"\n",
    "# 받는 사람 주소\n",
    "\n",
    "subject = \"파이썬 메일 발송 테스트 입니다.\"\n",
    "# 메일 제목\n",
    "content = \"\"\"안녕하세요. 파이썬으로 발송하는 메일 입니다.\n",
    "잘 발송 되었는지 확인 해보도록 하겠습니다.\n",
    "하나! 둘! 셋! \"\"\"\n",
    "# 본문 내용 (삼중 따옴표 안에서는 줄바꿈이 자유로움!)\n",
    "\n",
    "files = [\"hello.txt\", \"world.txt\"]\n",
    "# 첨부파일 (파일이 실제로 존재해야 함)\n",
    "        # if 첨부파일 필요없을 때: files = []"
   ]
  },
  {
   "cell_type": "code",
   "execution_count": 4,
   "id": "b1520212",
   "metadata": {},
   "outputs": [],
   "source": [
    "## SMTP 연동정보 설정\n",
    "content_type = \"plain\"\n",
    "\n",
    "username = \"29alsdud@gmail.com\"\n",
    "password = \"uirh ysyy jfia ktlr\"\n",
    "\n",
    "smtp = \"smtp.gmail.com\"\n",
    "port = 587"
   ]
  },
  {
   "cell_type": "code",
   "execution_count": 5,
   "id": "8df63082",
   "metadata": {},
   "outputs": [],
   "source": [
    "## 메일 발송정보 구성\n",
    "msg = MIMEMultipart()\n",
    "\n",
    "msg['Subject'] = subject\n",
    "msg['From'] = from_addr\n",
    "msg['To'] = to_addr\n",
    "\n",
    "msg.attach(MIMEText(content, content_type))"
   ]
  },
  {
   "cell_type": "code",
   "execution_count": 6,
   "id": "a8efef8b",
   "metadata": {},
   "outputs": [
    {
     "name": "stdout",
     "output_type": "stream",
     "text": [
      "hello.txt (이)가 첨부 되었습니다.\n",
      "world.txt (이)가 첨부 되었습니다.\n"
     ]
    }
   ],
   "source": [
    "## 발송정보에 첨부파일 추가\n",
    "if files: # 여기서 file은 리스트임!\n",
    "    for file_item in files:\n",
    "        if os.path.exists(file_item):\n",
    "            with open(file_item, 'rb') as f:\n",
    "                basename = os.path.basename(file_item)\n",
    "                part = MIMEApplication(f.read(), Name=basename)\n",
    "\n",
    "                part['Content-Disposition'] = 'attachment; filename=\"%s\"' % basename\n",
    "                msg.attach(part)\n",
    "\n",
    "                print(basename, \"(이)가 첨부 되었습니다.\")"
   ]
  },
  {
   "cell_type": "code",
   "execution_count": 7,
   "id": "95968eb1",
   "metadata": {},
   "outputs": [
    {
     "data": {
      "text/plain": [
       "(221,\n",
       " b'2.0.0 closing connection d9443c01a7336-29498d30030sm61217115ad.65 - gsmtp')"
      ]
     },
     "execution_count": 7,
     "metadata": {},
     "output_type": "execute_result"
    }
   ],
   "source": [
    "## 실제 메일 보내기\n",
    "mail = SMTP(smtp)\n",
    "mail.ehlo()\n",
    "mail.starttls()\n",
    "mail.login(username, password)\n",
    "mail.sendmail(from_addr, to_addr, msg.as_string())\n",
    "mail.quit()"
   ]
  },
  {
   "cell_type": "code",
   "execution_count": null,
   "id": "236037e0",
   "metadata": {},
   "outputs": [],
   "source": []
  }
 ],
 "metadata": {
  "kernelspec": {
   "display_name": "Python 3",
   "language": "python",
   "name": "python3"
  },
  "language_info": {
   "codemirror_mode": {
    "name": "ipython",
    "version": 3
   },
   "file_extension": ".py",
   "mimetype": "text/x-python",
   "name": "python",
   "nbconvert_exporter": "python",
   "pygments_lexer": "ipython3",
   "version": "3.13.9"
  }
 },
 "nbformat": 4,
 "nbformat_minor": 5
}
