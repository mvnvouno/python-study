{
 "cells": [
  {
   "cell_type": "markdown",
   "id": "057ac8ee",
   "metadata": {},
   "source": [
    "##### Lab 01 - 파이썬 시작하기, 변수와 연산자   → PPT PART 제목 (좌측 상단)\n",
    "###### #03. 첫 번째 프로그램   → 단원명 (왼쪽 사이드바)\n",
    "######\n",
    " 소스코드 작성하기   → 페이지 제목 (페이지 상단)"
   ]
  },
  {
   "cell_type": "markdown",
   "id": "e33c810e",
   "metadata": {},
   "source": [
    "#### [블록모드 전환방법 단축키]\n",
    "###### - 이동모드에서는:\n",
    "#####    Markdown → Python: Y\n",
    "#####    Python → Markdown: M "
   ]
  },
  {
   "cell_type": "code",
   "execution_count": null,
   "id": "06277f30",
   "metadata": {},
   "outputs": [],
   "source": [
    "a = 100    # 100을 의미하는 a라는 데이터 생성\n",
    "b = 200    # 100을 의미하는 b라는 데이터 생성\n",
    "# 방향성: ← ('='을 기준으로 오른쪽 '값'에서 왼쪽 '변수'로!!)\n",
    "# 수학의 '같다' 보다는 \"프로그래밍의 '대입한다'\"\" 의미임\n",
    "\n",
    "# 합산 결과 출력하기\n",
    "print(a + b)"
   ]
  },
  {
   "cell_type": "code",
   "execution_count": null,
   "id": "7a91f650",
   "metadata": {},
   "outputs": [],
   "source": [
    "# 메세지를 출력하는 명령어\n",
    "print(\"Hello World\")"
   ]
  },
  {
   "cell_type": "code",
   "execution_count": null,
   "id": "7bc0b8ab",
   "metadata": {},
   "outputs": [],
   "source": [
    "### 다양한 변수 만들기"
   ]
  },
  {
   "cell_type": "code",
   "execution_count": null,
   "id": "2847bd20",
   "metadata": {},
   "outputs": [],
   "source": [
    "a=100"
   ]
  },
  {
   "cell_type": "code",
   "execution_count": null,
   "id": "3f0caad9",
   "metadata": {},
   "outputs": [],
   "source": [
    "b=200"
   ]
  },
  {
   "cell_type": "code",
   "execution_count": null,
   "id": "8894e69f",
   "metadata": {},
   "outputs": [],
   "source": [
    "print(a + b)\n",
    "#데이터분석에서 작성하는 코드는 프로그래밍 보다는 \n",
    "#코드로 무언가를 서술하는 성격임\n",
    "# → 코드 마다 shift+enter 누르는 습관 추천"
   ]
  },
  {
   "cell_type": "code",
   "execution_count": null,
   "id": "9d5fc437",
   "metadata": {},
   "outputs": [],
   "source": [
    "c=3.45"
   ]
  },
  {
   "cell_type": "code",
   "execution_count": null,
   "id": "c93fecda",
   "metadata": {},
   "outputs": [],
   "source": [
    "d = -2.1"
   ]
  },
  {
   "cell_type": "code",
   "execution_count": null,
   "id": "5ea1fb98",
   "metadata": {},
   "outputs": [],
   "source": [
    "print(d)\n",
    "# 한번 할당된 변수 (초기화, 즉 정의)된 변수는 다른 값으로 변경 가능"
   ]
  },
  {
   "cell_type": "code",
   "execution_count": null,
   "id": "beba1b01",
   "metadata": {},
   "outputs": [],
   "source": [
    "d=- 2.1\n",
    "print(d)"
   ]
  },
  {
   "cell_type": "code",
   "execution_count": null,
   "id": "27631114",
   "metadata": {},
   "outputs": [],
   "source": [
    "# 음수 부호랑 숫자 사이에는 띄어쓰기 유무 상관 없긴 함..."
   ]
  },
  {
   "cell_type": "code",
   "execution_count": null,
   "id": "a439986c",
   "metadata": {},
   "outputs": [],
   "source": [
    "### 논리형 변수\n",
    "#### '=' 오른쪽에 값 말고 단어 옴\n",
    "#### \"첫 알파벳은 대문자임!!! (조심)\"\n",
    "# 대입되는 값에 따라서 '변수의 유형이 저장됨!!' → 전 코딩, 후 정의 성격\n",
    "\n",
    "a=True\n",
    "#대문자 꼭!!!"
   ]
  },
  {
   "cell_type": "code",
   "execution_count": null,
   "id": "6173e4ed",
   "metadata": {},
   "outputs": [],
   "source": [
    "print(a)"
   ]
  },
  {
   "cell_type": "code",
   "execution_count": null,
   "id": "23432985",
   "metadata": {},
   "outputs": [],
   "source": [
    "b=False\n",
    "print(b)"
   ]
  },
  {
   "cell_type": "code",
   "execution_count": null,
   "id": "8bb16334",
   "metadata": {},
   "outputs": [],
   "source": [
    "# 문자열 변수\n",
    "a = '안녕하세요. 파이썬'\n",
    "print(a)"
   ]
  },
  {
   "cell_type": "code",
   "execution_count": null,
   "id": "043c9994",
   "metadata": {},
   "outputs": [],
   "source": [
    "# 내용이 없는 변수\n",
    "a = None\n",
    "print(a) # 여기도 대문자 주의!!"
   ]
  },
  {
   "cell_type": "code",
   "execution_count": null,
   "id": "70c9fe56",
   "metadata": {},
   "outputs": [],
   "source": [
    "# (∴) 변수는\n",
    "### 숫자\n",
    "### 예약어 (True, False, None, and, as, break, if 등) 대소문자 구분 주의\n",
    "### 문자열 (\" \" 또는 ' '를 문자 겉에 쓰워주기!)"
   ]
  },
  {
   "cell_type": "code",
   "execution_count": null,
   "id": "f31f263f",
   "metadata": {},
   "outputs": [],
   "source": [
    "# (변수가 있다면 연산자도 있겠지...)\n",
    "# 연산자 (print(연산자)도 사용 가능)\n",
    "### 대입 연산자 (=) \n",
    "#              : '우변' '값'을 '좌변' '변수'에 \"저장\"한다고 해석 ㄱ\n",
    "#              : 연산 결과를 다른 변수에 할당 가능!\n",
    "#              : 맞교환 'swap' 이라는 기능 있음 (a, b = b, a: 좌변 a가 b 되고, b가 a 됨)\n",
    "### 산술 연산자 (+, -, *, /, **(거듭제곱), //(나눗셈의 몫), %(나눗셈의 나머지)) \n",
    "### 단항 연산자: 어떤 변수에 대한 연산 결과를 다시 변수 본인에게 적용하는거 \n",
    "#               (+=, -=, *=, /=, //=, %/)\n",
    "#               (변수 '스스로' 산술연산 한다 라고 해석해도 됨!)\n",
    "### 비교 연산자 (or 관계 연산자): 관계 비교해서 True(1) or False(0) 결과 반환하는거 \n",
    "#               (==혹은is, !=혹은 is not, >, >=, <=)\n",
    "#               (\"완전\"항등연산자 is, is not의 경우 \"데이터 타입\" such as 정수, 실수까지 일치해야 True 처리!)\n",
    "#              : 비교연산도 결과를 다른 변수에 할당 가능!\n",
    "### 논리 연산자: 좌변과 우변을 논리연산 하고 True(1) or False(0) 결과 반환하는거 (명제) \n",
    "#               (and, or, not True, not False)\n",
    "# 비교연산자, 논리연산자 섞여있을 때: 우선순위는 '비교연산자'\n",
    "# and가 or보다 더 우선순위!"
   ]
  },
  {
   "cell_type": "code",
   "execution_count": null,
   "id": "9ec5988a",
   "metadata": {},
   "outputs": [],
   "source": [
    "a=1\n",
    "b=2"
   ]
  },
  {
   "cell_type": "code",
   "execution_count": null,
   "id": "625a29ca",
   "metadata": {},
   "outputs": [],
   "source": [
    "print(a)\n",
    "print(b)"
   ]
  },
  {
   "cell_type": "code",
   "execution_count": null,
   "id": "657b17e8",
   "metadata": {},
   "outputs": [],
   "source": [
    "print(a,b==b,a) #swap 표현으로 옳지 않음"
   ]
  },
  {
   "cell_type": "code",
   "execution_count": null,
   "id": "6fe6bbd2",
   "metadata": {},
   "outputs": [],
   "source": [
    "a,b = b,a\n",
    "print(a)\n",
    "print(b) #이게 swap 제대로 된거임"
   ]
  },
  {
   "cell_type": "code",
   "execution_count": null,
   "id": "c7a6f305",
   "metadata": {},
   "outputs": [],
   "source": [
    "a, b = b, a\n",
    "print(b, a)"
   ]
  },
  {
   "cell_type": "code",
   "execution_count": null,
   "id": "2d7026d1",
   "metadata": {},
   "outputs": [],
   "source": [
    "print(a)\n",
    "print(b)"
   ]
  },
  {
   "cell_type": "code",
   "execution_count": null,
   "id": "b004e7db",
   "metadata": {},
   "outputs": [],
   "source": [
    "#print의 결괏값이 matrix적 성격을 띄네...?"
   ]
  },
  {
   "cell_type": "code",
   "execution_count": null,
   "id": "31970d7a",
   "metadata": {},
   "outputs": [],
   "source": [
    "a=3\n",
    "b=4\n",
    "c=a+b"
   ]
  },
  {
   "cell_type": "code",
   "execution_count": null,
   "id": "a1885df6",
   "metadata": {},
   "outputs": [],
   "source": [
    "print(c)"
   ]
  },
  {
   "cell_type": "code",
   "execution_count": null,
   "id": "83036aa1",
   "metadata": {},
   "outputs": [],
   "source": [
    "print(b//a)"
   ]
  },
  {
   "cell_type": "code",
   "execution_count": null,
   "id": "54e52ffe",
   "metadata": {},
   "outputs": [],
   "source": [
    "print(b%a)"
   ]
  },
  {
   "cell_type": "code",
   "execution_count": null,
   "id": "05d225de",
   "metadata": {},
   "outputs": [],
   "source": [
    "print(a**b)"
   ]
  },
  {
   "cell_type": "code",
   "execution_count": null,
   "id": "4dcc79f3",
   "metadata": {},
   "outputs": [],
   "source": [
    "a=1\n",
    "a+=100\n",
    "a *= 10\n",
    "a //= 3\n",
    "a %= 5\n",
    "print(a)"
   ]
  },
  {
   "cell_type": "code",
   "execution_count": null,
   "id": "7099c4a8",
   "metadata": {},
   "outputs": [],
   "source": [
    "a=100\n",
    "b=50\n",
    "c=100.0\n",
    "d=50.0\n",
    "print(a==b)"
   ]
  },
  {
   "cell_type": "code",
   "execution_count": null,
   "id": "a2333237",
   "metadata": {},
   "outputs": [],
   "source": [
    "print(a!=b)"
   ]
  },
  {
   "cell_type": "code",
   "execution_count": null,
   "id": "b4008381",
   "metadata": {},
   "outputs": [],
   "source": [
    "print(a==c)"
   ]
  },
  {
   "cell_type": "code",
   "execution_count": null,
   "id": "472c2d76",
   "metadata": {},
   "outputs": [],
   "source": [
    "print(a is c)"
   ]
  },
  {
   "cell_type": "code",
   "execution_count": null,
   "id": "14e86800",
   "metadata": {},
   "outputs": [],
   "source": [
    "print(b is not d)"
   ]
  },
  {
   "cell_type": "code",
   "execution_count": null,
   "id": "bf79adae",
   "metadata": {},
   "outputs": [],
   "source": [
    "print(a>b)\n",
    "print(b<=a)"
   ]
  },
  {
   "cell_type": "code",
   "execution_count": null,
   "id": "f59c0977",
   "metadata": {},
   "outputs": [],
   "source": [
    "e = a is c\n",
    "print(e)"
   ]
  },
  {
   "cell_type": "code",
   "execution_count": null,
   "id": "063107fa",
   "metadata": {},
   "outputs": [],
   "source": [
    "result = 100 == 100.0\n",
    "print(result) "
   ]
  },
  {
   "cell_type": "code",
   "execution_count": null,
   "id": "b72804fe",
   "metadata": {},
   "outputs": [],
   "source": [
    "result = 100 > 50\n",
    "print(result)"
   ]
  },
  {
   "cell_type": "code",
   "execution_count": null,
   "id": "c34ff0c2",
   "metadata": {},
   "outputs": [],
   "source": [
    "a = True\n",
    "b = not a\n",
    "print(b)\n",
    "print(not b)\n",
    "print(not a)"
   ]
  },
  {
   "cell_type": "code",
   "execution_count": null,
   "id": "47293a7e",
   "metadata": {},
   "outputs": [],
   "source": [
    "a = 100 > 50\n",
    "b = 20 > 10\n",
    "print(a and b)"
   ]
  },
  {
   "cell_type": "code",
   "execution_count": null,
   "id": "115a4f75",
   "metadata": {},
   "outputs": [],
   "source": [
    "c = 100 >= 100 and 50 ==10\n",
    "print(c)"
   ]
  },
  {
   "cell_type": "code",
   "execution_count": null,
   "id": "e0323577",
   "metadata": {},
   "outputs": [],
   "source": [
    "# Lab 02 - 함수의 이해, 조건문과 반복문\n",
    "\n",
    "\n",
    "\n",
    "## # 01. 함수의 이해\n",
    "## ### function: 함수, '재사용' 하기 위한 단위\n",
    "\n",
    "\n",
    "## ## 1. 정의하기:\n",
    "## ### def 함수이름(파라미터):\n",
    "## ###     (Tab 들여쓰기)수행할 연산식 ....\n",
    "## ###     return 반환값(or 식)\n",
    "\n",
    "# ex) y = 2x + 1을 정의할 때: \n",
    "## f: 함수이름, x: 매개변수, 1: 파라미터 \n",
    "## ### def. f(x)\n",
    "    #명령어 없는 case\n",
    "## ###     return 2 * x + 1    \n",
    "\n",
    "\n",
    "## ## 2. 함수 호출하기: \n",
    "## ### 함수이름(매개변수(정의할 때: x) 또는 파라미터(호출할 때: 숫자))\n",
    "\n",
    "# ex) y: 변수, f: 함수이름, 1: 파라미터\n",
    "    # y = f(1) \n",
    "    # print(y)\n",
    "\n",
    "\n",
    "## ## 3. 입력 받은 내용의 데이터 타입 확인 방법:\n",
    "## ### t = type(변수)\n",
    "## ### print(t)\n",
    "# → 출력: <class 'int'>, <class 'float'>, <class 'str'>, <class 'bool'>\n",
    "\n",
    "\n",
    "## ## 4. 함수 종류:\n",
    "\n",
    "## ### input(\" \") 함수: 문자열 입력할 때.\n",
    "\n",
    "## ### 변수이름 = input(\"표시할 메세지 내용\")\n",
    "## ### print(변수이름)\n",
    "\n",
    "# ex) if 문자열 입력하는 경우\n",
    "    # msg1 = input(\"메세지를 입력하세요\")\n",
    "    # print(msg1)\n",
    "#이후에 우측 상단에 메세지 입력 창 뜨는데, \n",
    "# 여기에 메세지 입력 후 '엔터' 누르면 \n",
    "# 입력내용이 'msg1' 변수에 저장된다.\n",
    "\n",
    "## ### int() 함수: \"문자열 변수\"를 \"정수로 변환\"시켜주는 함수.\n",
    "    #caution: (  ) 안에 입력하는 문자열은 \"지정되지 않은 변수\"로 쓰면 안됨!\n",
    "# ex) \n",
    "    # a = \"123\"\n",
    "    # b = \"45\"\n",
    "\n"
   ]
  },
  {
   "cell_type": "code",
   "execution_count": null,
   "id": "f1da0afc",
   "metadata": {},
   "outputs": [],
   "source": [
    "t1 = type(a + b) #문자열 끼리는 더하기 연산만 가능\n",
    "print(t1)\n",
    "\n",
    "n1 = int(a)\n",
    "n2 = int(b)\n",
    "print(a + b)\n",
    "\n",
    "t2 = type(n1 + n2)\n",
    "print(t2)"
   ]
  },
  {
   "cell_type": "code",
   "execution_count": null,
   "id": "910aaa06",
   "metadata": {},
   "outputs": [
    {
     "ename": "",
     "evalue": "",
     "output_type": "error",
     "traceback": [
      "\u001b[1;31m현재 셀 또는 이전 셀에서 코드를 실행하는 동안 Kernel이 충돌했습니다. \n",
      "\u001b[1;31m셀의 코드를 검토하여 가능한 오류 원인을 식별하세요. \n",
      "\u001b[1;31m자세한 내용을 보려면 <a href='https://aka.ms/vscodeJupyterKernelCrash'>여기</a>를 클릭하세요. \n",
      "\u001b[1;31m자세한 내용은 Jupyter <a href='command:jupyter.viewOutput'>로그</a>를 참조하세요."
     ]
    }
   ],
   "source": [
    "aaaa = 20\n",
    "type_of_age = type(aaaa)\n",
    "print(type_of_age)"
   ]
  },
  {
   "cell_type": "code",
   "execution_count": null,
   "id": "e8098905",
   "metadata": {},
   "outputs": [],
   "source": [
    "msgg = \"Hello World\"\n",
    "type_of_message = type(msgg)\n",
    "print(type_of_message)"
   ]
  },
  {
   "cell_type": "code",
   "execution_count": null,
   "id": "df3d96dc",
   "metadata": {},
   "outputs": [],
   "source": [
    "aA = 100\n",
    "bB = 3.14\n",
    "cC = True\n",
    "print(\"Life is too short to learn Python\", aA, bB, cC)"
   ]
  },
  {
   "cell_type": "code",
   "execution_count": null,
   "id": "ec64757f",
   "metadata": {},
   "outputs": [],
   "source": [
    "msg_11 = input(\" \")\n",
    "print(msg_11)"
   ]
  },
  {
   "cell_type": "code",
   "execution_count": null,
   "id": "21934625",
   "metadata": {},
   "outputs": [],
   "source": [
    "msg21 = input(\" \")\n",
    "print(msg21)"
   ]
  },
  {
   "cell_type": "code",
   "execution_count": null,
   "id": "3c4afbd1",
   "metadata": {},
   "outputs": [],
   "source": [
    "type_of_msg22 = type(\" \")\n",
    "print(type_of_msg22)"
   ]
  },
  {
   "cell_type": "code",
   "execution_count": null,
   "id": "36109636",
   "metadata": {},
   "outputs": [],
   "source": [
    "ab = \"123\"\n",
    "bc = \"45\"\n",
    "\n",
    "t1 = type(ab + bc)\n",
    "print(t1)\n",
    "\n",
    "z1 = int(ab)\n",
    "z2 = int(bc)\n",
    "print(ab + bc)\n",
    "\n",
    "t2 = type(z1 + z2)\n",
    "print(t2)"
   ]
  },
  {
   "cell_type": "code",
   "execution_count": null,
   "id": "29333e04",
   "metadata": {},
   "outputs": [],
   "source": [
    "print(ab, bc)"
   ]
  },
  {
   "cell_type": "code",
   "execution_count": null,
   "id": "4efe30c4",
   "metadata": {},
   "outputs": [],
   "source": [
    "abc = \"123.45\" \n",
    "cd = \"67.89\"\n",
    "\n",
    "rx = float(abc)\n",
    "ry = float(cd)\n",
    "\n",
    "print(rx + ry)"
   ]
  },
  {
   "cell_type": "code",
   "execution_count": null,
   "id": "9368bd72",
   "metadata": {},
   "outputs": [],
   "source": [
    "tt = type(rx)\n",
    "print(tt)"
   ]
  },
  {
   "cell_type": "code",
   "execution_count": null,
   "id": "f95cde5b",
   "metadata": {},
   "outputs": [],
   "source": [
    "nna = 100\n",
    "nnb = float(nna)\n",
    "print(nnb)"
   ]
  },
  {
   "cell_type": "code",
   "execution_count": null,
   "id": "0e8fc44d",
   "metadata": {},
   "outputs": [],
   "source": [
    "t2 = type(nnb)\n",
    "print(t2)"
   ]
  },
  {
   "cell_type": "code",
   "execution_count": null,
   "id": "767b39a7",
   "metadata": {},
   "outputs": [],
   "source": [
    "nnc = 100.00\n",
    "nnd = int(nnc)\n",
    "\n",
    "print(nnd)\n",
    "\n",
    "t4 = type(nnd)\n",
    "print(t4)"
   ]
  },
  {
   "cell_type": "code",
   "execution_count": null,
   "id": "44080525",
   "metadata": {},
   "outputs": [],
   "source": [
    "# 문자열을 '입력'할 때는 input 함수를 쓰고\n",
    "    # 입력 w/ string data type\n",
    "# 다른 데이터 타입을 문자열로 '변환'할 때는 'str( )' 쓴다!!!\n",
    "    # convert other date types that already exists to string data type!!"
   ]
  },
  {
   "cell_type": "code",
   "execution_count": null,
   "id": "64bb2996",
   "metadata": {},
   "outputs": [],
   "source": [
    "nq = 100\n",
    "sq = str(nq)\n",
    "print(sq)\n",
    "\n",
    "t1 = type(sq)\n",
    "print(t1)"
   ]
  },
  {
   "cell_type": "code",
   "execution_count": null,
   "id": "ea723bd6",
   "metadata": {},
   "outputs": [],
   "source": [
    "print(type(nq), type(sq))"
   ]
  },
  {
   "cell_type": "code",
   "execution_count": null,
   "id": "406d7f87",
   "metadata": {},
   "outputs": [],
   "source": [
    "a = pow(2, 3)\n",
    "b = abs(-100.01)\n",
    "c = round(123.45)\n",
    "d = round(45.67)\n",
    "e = round(12.345, 1)\n",
    "\n",
    "print(a, b, c, d, e)"
   ]
  },
  {
   "cell_type": "code",
   "execution_count": null,
   "id": "fc2eed2c",
   "metadata": {},
   "outputs": [],
   "source": [
    "def f(x):\n",
    "        y = x + 1\n",
    "        print(y)"
   ]
  },
  {
   "cell_type": "code",
   "execution_count": null,
   "id": "1f821673",
   "metadata": {},
   "outputs": [],
   "source": [
    "f(2)"
   ]
  },
  {
   "cell_type": "code",
   "execution_count": null,
   "id": "c53ea064",
   "metadata": {},
   "outputs": [],
   "source": [
    "def say_hello( ):\n",
    "    print(\"Hello World\")\n",
    "    print(\"한글로는 안녕하세요 여러분.\")"
   ]
  },
  {
   "cell_type": "code",
   "execution_count": null,
   "id": "ec26c90c",
   "metadata": {},
   "outputs": [],
   "source": [
    "say_hello( )"
   ]
  },
  {
   "cell_type": "code",
   "execution_count": null,
   "id": "56d170d9",
   "metadata": {},
   "outputs": [],
   "source": [
    "def h(a):\n",
    "    b = round(pow(a, 2), 1)\n",
    "    print(b)"
   ]
  },
  {
   "cell_type": "code",
   "execution_count": null,
   "id": "73d40ca0",
   "metadata": {},
   "outputs": [],
   "source": [
    "h(3)"
   ]
  },
  {
   "cell_type": "code",
   "execution_count": null,
   "id": "ff81d29a",
   "metadata": {},
   "outputs": [],
   "source": [
    "h(1.1)"
   ]
  },
  {
   "cell_type": "code",
   "execution_count": null,
   "id": "a3443b42",
   "metadata": {},
   "outputs": [],
   "source": [
    "def f(x1, x2):\n",
    "    y = x1 // x2\n",
    "    print(y)"
   ]
  },
  {
   "cell_type": "code",
   "execution_count": null,
   "id": "343411d0",
   "metadata": {},
   "outputs": [],
   "source": [
    "f(7, 2)"
   ]
  },
  {
   "cell_type": "code",
   "execution_count": null,
   "id": "3b706c10",
   "metadata": {},
   "outputs": [],
   "source": [
    "def f(a, b, c=1, d=0):\n",
    "    y = a + b + c + d\n",
    "    print(y)"
   ]
  },
  {
   "cell_type": "code",
   "execution_count": null,
   "id": "f56249e8",
   "metadata": {},
   "outputs": [],
   "source": [
    "f(1, 1, 2, 3)"
   ]
  },
  {
   "cell_type": "code",
   "execution_count": null,
   "id": "09ae1bfe",
   "metadata": {},
   "outputs": [],
   "source": [
    "f(2, 3, c, 1)"
   ]
  },
  {
   "cell_type": "code",
   "execution_count": null,
   "id": "b54e4287",
   "metadata": {},
   "outputs": [],
   "source": [
    "input(\"결과 왜 이따구로 나오지?!\")"
   ]
  },
  {
   "cell_type": "code",
   "execution_count": null,
   "id": "a911ebf2",
   "metadata": {},
   "outputs": [],
   "source": [
    "f(2, 3, 4)"
   ]
  },
  {
   "cell_type": "code",
   "execution_count": null,
   "id": "8d90d3c1",
   "metadata": {},
   "outputs": [],
   "source": [
    "f(d=2, c=3, a=1, b=2)"
   ]
  },
  {
   "cell_type": "code",
   "execution_count": null,
   "id": "2174a8b8",
   "metadata": {},
   "outputs": [],
   "source": [
    "def f(a, b, c):\n",
    "    d = (a + b) / c\n",
    "    return d"
   ]
  },
  {
   "cell_type": "code",
   "execution_count": null,
   "id": "4fbfec23",
   "metadata": {},
   "outputs": [],
   "source": [
    "print(f(4, 6, 2))"
   ]
  },
  {
   "cell_type": "code",
   "execution_count": null,
   "id": "cff68cac",
   "metadata": {},
   "outputs": [],
   "source": [
    "e = f(a, b, c) * 3\n",
    "a = 3\n",
    "b = 5\n",
    "c = 4\n",
    "print(e)"
   ]
  },
  {
   "cell_type": "code",
   "execution_count": null,
   "id": "62e8be90",
   "metadata": {},
   "outputs": [],
   "source": [
    "input(\"여기도 결과 왜 이따구야?!\")"
   ]
  },
  {
   "cell_type": "code",
   "execution_count": null,
   "id": "ed73e925",
   "metadata": {},
   "outputs": [],
   "source": [
    "e = f(3, 5, 4) * 3\n",
    "print(e)"
   ]
  },
  {
   "cell_type": "code",
   "execution_count": null,
   "id": "f20f5355",
   "metadata": {},
   "outputs": [],
   "source": [
    "f = f(3, 5, 4) ** 3\n",
    "print(f)"
   ]
  },
  {
   "cell_type": "code",
   "execution_count": null,
   "id": "12390d0e",
   "metadata": {},
   "outputs": [],
   "source": [
    "input(\"아하.. 이게 아까 내가 이해 못했던 부분이랑 연관 있는거 같네\")"
   ]
  },
  {
   "cell_type": "code",
   "execution_count": null,
   "id": "2d455c7d",
   "metadata": {},
   "outputs": [],
   "source": [
    "input(\"return 쓴 함수가 잘 작동하기 위해서는, 함수 지정할 때의 변수들에 다 숫자를 대입해야만 가능하구나\")"
   ]
  },
  {
   "cell_type": "code",
   "execution_count": null,
   "id": "cb5d16fe",
   "metadata": {},
   "outputs": [],
   "source": [
    "input(\"함수의 유효성(variable scope) 함수 내부에서 선언된 변수는 해당 함수 내부에서만 사용할 수 있다. 즉 함수 밖에서는 사용할 수 없다.\")"
   ]
  },
  {
   "cell_type": "code",
   "execution_count": null,
   "id": "5f3dda10",
   "metadata": {},
   "outputs": [],
   "source": [
    "def solution(num1, num2):\n",
    "    answer = num1 + num2\n",
    "    return answer"
   ]
  },
  {
   "cell_type": "code",
   "execution_count": null,
   "id": "c11e6a83",
   "metadata": {},
   "outputs": [],
   "source": [
    "print(solution(2, 3))\n",
    "print(solution(100, 2))"
   ]
  },
  {
   "cell_type": "code",
   "execution_count": null,
   "id": "5dc8c514",
   "metadata": {},
   "outputs": [],
   "source": [
    "def solution(num1, num2):\n",
    "    answer = num1 + num2\n",
    "    return answer\n",
    "\n",
    "print(solution(2, 3))\n",
    "print(solution(100, 2))"
   ]
  },
  {
   "cell_type": "code",
   "execution_count": null,
   "id": "b3fd719c",
   "metadata": {},
   "outputs": [],
   "source": [
    "def solution(num1, num2):\n",
    "    answer = num1 % num2\n",
    "    return answer"
   ]
  },
  {
   "cell_type": "code",
   "execution_count": null,
   "id": "bb6cbf5c",
   "metadata": {},
   "outputs": [],
   "source": [
    "def solution(age):\n",
    "    answer = 2022 - age + 1\n",
    "    return answer"
   ]
  },
  {
   "cell_type": "code",
   "execution_count": null,
   "id": "b445b048",
   "metadata": {},
   "outputs": [],
   "source": [
    "input(\"colon(:) stands for the existance of floowing commands\")"
   ]
  },
  {
   "cell_type": "code",
   "execution_count": null,
   "id": "dea3dee2",
   "metadata": {},
   "outputs": [],
   "source": [
    "input(\"VSCode에서 'tab'키 = four times of 'spacebar'\")"
   ]
  },
  {
   "cell_type": "code",
   "execution_count": null,
   "id": "44806e07",
   "metadata": {},
   "outputs": [],
   "source": [
    "print(\"시험 시작!\")\n",
    "\n",
    "score = int(input(\"점수를 입력하시오.\"))\n",
    "if score>=60:\n",
    "    print(\"합격입니다~!\")\n",
    "\n",
    "print(\"시험 끄으으읕~\")"
   ]
  },
  {
   "cell_type": "code",
   "execution_count": null,
   "id": "f9c54e7d",
   "metadata": {},
   "outputs": [],
   "source": [
    "print(\"시험 시작!\")\n",
    "\n",
    "score = int(input(\"점수를 입력하시오.\"))\n",
    "if score>=60:\n",
    "    print(\"합격입니다~!\")\n",
    "else:\n",
    "    print(\"아쉽지만 다음 기회에 ㅠㅠ\")\n",
    "\n",
    "print(\"시험 끄으으읕~\")"
   ]
  },
  {
   "cell_type": "code",
   "execution_count": null,
   "id": "2c5b45f4",
   "metadata": {},
   "outputs": [],
   "source": [
    "# money = 30000\n",
    "money = 0\n",
    "\n",
    "if money:\n",
    "    print(\"택시 타고\")\n",
    "\n",
    "print(\"집 가자\")"
   ]
  },
  {
   "cell_type": "code",
   "execution_count": null,
   "id": "d39c67d2",
   "metadata": {},
   "outputs": [],
   "source": [
    "# name = \"Python\"\n",
    "name = \"\"\n",
    "\n",
    "if name:\n",
    "    print(name)\n",
    "\n",
    "print(\"프로그래밍\")"
   ]
  },
  {
   "cell_type": "code",
   "execution_count": null,
   "id": "56d6f024",
   "metadata": {},
   "outputs": [],
   "source": [
    "your_age = int(input(\"나이를 입력하시오\"))\n",
    "\n",
    "if your_age > 20 and your_age < 35:\n",
    "    print(\"청년층입니다~\")\n",
    "\n",
    "if your_age <= 20 or your_age >= 35:\n",
    "    print(\"청년층이 아닙니다!\")"
   ]
  },
  {
   "cell_type": "code",
   "execution_count": null,
   "id": "ed2b7842",
   "metadata": {},
   "outputs": [],
   "source": [
    "#a = True\n",
    "a = False\n",
    "\n",
    "if a == True:\n",
    "    print(\"alphabet a\")\n",
    "\n",
    "if a == False:\n",
    "    print(\"alphabet other than a\")\n",
    "\n",
    "if a != True:\n",
    "    print(\"alphabet other than a\")\n",
    "\n",
    "if a != False:\n",
    "    print(\"alphabet a\")\n",
    "\n",
    "if a:\n",
    "    print(\"alphabet a\")\n",
    "\n",
    "if not a:\n",
    "    print(\"alphabet other than a\")"
   ]
  },
  {
   "cell_type": "code",
   "execution_count": null,
   "id": "3682cce6",
   "metadata": {},
   "outputs": [],
   "source": [
    "print(\"시험 시작\")\n",
    "\n",
    "score = int(input(\"점수를 입력하시오.\"))\n",
    "\n",
    "if score >= 60:\n",
    "    print(\"합격입니다!\")\n",
    "else:\n",
    "    print(\"다음 기회에ㅠ\")\n",
    "\n",
    "print(\"시험 끝!\")"
   ]
  },
  {
   "cell_type": "code",
   "execution_count": null,
   "id": "681a4c87",
   "metadata": {},
   "outputs": [],
   "source": [
    "answer = input(\"당신은 한국인 입니까?\")\n",
    "\n",
    "if answer == \"Y\":\n",
    "    amKorean = True\n",
    "else:\n",
    "    amKorean = False\n",
    "\n",
    "if amKorean: \n",
    "    print(\"넵\") #True는 변수가 아니므로 여기서는 변수자리에 해당하는 amKorean이 들어와야됨\n",
    "else:\n",
    "    print(\"아뇨\")"
   ]
  },
  {
   "cell_type": "code",
   "execution_count": null,
   "id": "2adbd483",
   "metadata": {},
   "outputs": [],
   "source": [
    "if not amKorean:\n",
    "    print(\"아뇹\")\n",
    "else:\n",
    "    print(\"옙\")"
   ]
  },
  {
   "cell_type": "code",
   "execution_count": null,
   "id": "094a9704",
   "metadata": {},
   "outputs": [],
   "source": [
    "print(\"시험 시작!\")\n",
    "\n",
    "score = int(input(\"type your mid-term score here.\"))\n",
    "\n",
    "if score > 90:\n",
    "    print(\"grade A\")\n",
    "elif score > 80:\n",
    "    print(\"grade B\")\n",
    "elif score > 70:\n",
    "    print(\"grade C\")\n",
    "elif score > 60:\n",
    "    print(\"grade D\")\n",
    "else:\n",
    "    print(\"Failed\") "
   ]
  },
  {
   "cell_type": "code",
   "execution_count": null,
   "id": "6a8f3494",
   "metadata": {},
   "outputs": [],
   "source": [
    "def solution(hp):\n",
    "    x = int(hp // 5)\n",
    "    y = int((hp % 5) // 3)\n",
    "    z = int((hp % 5) % 3)\n",
    "    answer = x + y + z\n",
    "    return answer"
   ]
  },
  {
   "cell_type": "code",
   "execution_count": null,
   "id": "4da36b73",
   "metadata": {},
   "outputs": [],
   "source": [
    "solution(999)"
   ]
  },
  {
   "cell_type": "code",
   "execution_count": null,
   "id": "82d9a5fd",
   "metadata": {},
   "outputs": [],
   "source": [
    "# 초기식\n",
    "# 조건식\n",
    "# 증감식\n",
    "\n",
    "x = 1\n",
    "while x <= 10:\n",
    "    print(\"x=\", x)\n",
    "    x += 1\n",
    "print(\"x의 최종 값 =\", 1)"
   ]
  },
  {
   "cell_type": "code",
   "execution_count": null,
   "id": "01f63e78",
   "metadata": {},
   "outputs": [],
   "source": [
    "x = int(input(\"input number\"))\n",
    "y = 1\n",
    "while y < 10:\n",
    "    z = x * y\n",
    "    print(x, \"x\", y, \"=\", z)\n",
    "    y += 1\n",
    "print(\"end\")"
   ]
  },
  {
   "cell_type": "code",
   "execution_count": null,
   "id": "6a309d40",
   "metadata": {},
   "outputs": [],
   "source": [
    "# sum from 1 to 10\n",
    "\n",
    "x = 1\n",
    "sum = 0\n",
    "while x <= 10:\n",
    "    sum += x\n",
    "    print(\"x =\", x, \": sum = \", sum)\n",
    "    x += 1"
   ]
  },
  {
   "cell_type": "code",
   "execution_count": null,
   "id": "4fbfb74c",
   "metadata": {},
   "outputs": [],
   "source": [
    "# 0 부터 50까지 10씩 증가할 때\n",
    "\n",
    "x = 0\n",
    "while x <= 50:\n",
    "    print(x)\n",
    "    x += 10"
   ]
  },
  {
   "cell_type": "code",
   "execution_count": null,
   "id": "0244dbd5",
   "metadata": {},
   "outputs": [],
   "source": [
    "# 20 부터 5씩 감소할 때 \n",
    "\n",
    "x = 20\n",
    "while x > 0:\n",
    "    print(x)\n",
    "    x -= 5"
   ]
  },
  {
   "cell_type": "code",
   "execution_count": null,
   "id": "278ef855",
   "metadata": {},
   "outputs": [],
   "source": [
    "# 1 부터 10까지의 합을 구하여라\n",
    "\n",
    "a = 1\n",
    "sum = 0\n",
    "while a <= 10:\n",
    "    sum += a\n",
    "    print(\"a=\", a, \": sum=\", sum)\n",
    "    a += 1"
   ]
  },
  {
   "cell_type": "code",
   "execution_count": null,
   "id": "e78a0f93",
   "metadata": {},
   "outputs": [],
   "source": [
    "# 등차수열 예시(첫항 = 1, 공차 = 2, 항 10개)\n",
    "a = 1\n",
    "n = 1\n",
    "sum = 0\n",
    "while n <= 10:\n",
    "    sum += a\n",
    "    print(\"n = \", n, \"a = \", a, \": sum = \", sum)\n",
    "    n += 1\n",
    "    a += 2"
   ]
  },
  {
   "cell_type": "code",
   "execution_count": null,
   "id": "0b46a47c",
   "metadata": {
    "tags": [
     " 등비수열 예시"
    ]
   },
   "outputs": [],
   "source": [
    "# 등비수열 예시(첫항 = 1, 공비 = 2, 항 10개)\n",
    "a = 1\n",
    "n = 1\n",
    "sum = 0\n",
    "while n <= 10:\n",
    "    sum += a\n",
    "    print(\"n = \", n, \"a = \", a, \": sum = \", sum)\n",
    "    n += 1\n",
    "    a *= 2"
   ]
  },
  {
   "cell_type": "code",
   "execution_count": null,
   "id": "5f664d5e",
   "metadata": {},
   "outputs": [],
   "source": [
    "def solution(angle):\n",
    "    if angle > 0 and angle < 90:\n",
    "        answer = 1\n",
    "    elif angle == 90:\n",
    "        answer = 2\n",
    "    elif angle > 90 and angle < 180:\n",
    "        answer = 3\n",
    "    elif angle == 180: \n",
    "        answer = 4\n",
    "    return answer"
   ]
  },
  {
   "cell_type": "code",
   "execution_count": null,
   "id": "cd9d367a",
   "metadata": {},
   "outputs": [],
   "source": [
    "def solution(num1, num2):\n",
    "    if num1 == num2:\n",
    "        answer = 1\n",
    "    else:\n",
    "        answer = -1\n",
    "    return answer"
   ]
  },
  {
   "cell_type": "code",
   "execution_count": null,
   "id": "4d45cffb",
   "metadata": {},
   "outputs": [],
   "source": [
    "def solution(price):\n",
    "    if price >= 500000:\n",
    "        answer = int(0.8 * price)\n",
    "    elif price >= 300000:\n",
    "        answer = int(0.9 * price)\n",
    "    elif price >= 100000:\n",
    "        answer = int(0.95 * price)\n",
    "    return answer"
   ]
  },
  {
   "cell_type": "code",
   "execution_count": null,
   "id": "f5974ca2",
   "metadata": {},
   "outputs": [],
   "source": [
    "solution(150000)"
   ]
  },
  {
   "cell_type": "code",
   "execution_count": null,
   "id": "408af594",
   "metadata": {},
   "outputs": [],
   "source": [
    "solution(580000)"
   ]
  },
  {
   "cell_type": "code",
   "execution_count": null,
   "id": "4363676a",
   "metadata": {},
   "outputs": [],
   "source": [
    "t = type(answer)\n",
    "print(t)"
   ]
  }
 ],
 "metadata": {
  "kernelspec": {
   "display_name": "Python 3",
   "language": "python",
   "name": "python3"
  },
  "language_info": {
   "codemirror_mode": {
    "name": "ipython",
    "version": 3
   },
   "file_extension": ".py",
   "mimetype": "text/x-python",
   "name": "python",
   "nbconvert_exporter": "python",
   "pygments_lexer": "ipython3",
   "version": "3.13.9"
  }
 },
 "nbformat": 4,
 "nbformat_minor": 5
}
