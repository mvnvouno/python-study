{
 "cells": [
  {
   "cell_type": "markdown",
   "id": "999fcd32",
   "metadata": {},
   "source": [
    "코딩테스트"
   ]
  },
  {
   "cell_type": "code",
   "execution_count": null,
   "id": "26fddd46",
   "metadata": {},
   "outputs": [],
   "source": [
    "def solution(price):\n",
    "    if price >= 500000:\n",
    "        answer = int(price * 0.8)\n",
    "    elif price >= 300000:\n",
    "        answer = int(price * 0.9)\n",
    "    elif price >= 100000:\n",
    "        answer = int(price * 0.95)\n",
    "    else:\n",
    "        answer = price\n",
    "    return int(answer)"
   ]
  },
  {
   "cell_type": "code",
   "execution_count": 15,
   "id": "804be0f1",
   "metadata": {},
   "outputs": [
    {
     "data": {
      "text/plain": [
       "142500"
      ]
     },
     "execution_count": 15,
     "metadata": {},
     "output_type": "execute_result"
    }
   ],
   "source": [
    "solution(150000)"
   ]
  },
  {
   "cell_type": "code",
   "execution_count": null,
   "id": "98209d16",
   "metadata": {},
   "outputs": [],
   "source": [
    "# 1. 데이터 타입 조심!\n",
    "# 2. if 조건문 안의 함수더라도 식 쓸때 \n",
    "    # '변수, 연산, 값' 순서 꼭 신경쓰기!!!!\n",
    "    # 즉, 'if 절 연산자는 비교연산자'는 ==, >= 등 쓰고\n",
    "    # answer에는 대입을 가르키는 =을 쓰기"
   ]
  },
  {
   "cell_type": "code",
   "execution_count": null,
   "id": "fcbde5e3",
   "metadata": {},
   "outputs": [],
   "source": [
    "def solution(n):\n",
    "    if n % 7 == 0:\n",
    "        answer = int(n // 7)\n",
    "    else:\n",
    "        answer = int(n // 7 + 1)\n",
    "    return answer"
   ]
  },
  {
   "cell_type": "code",
   "execution_count": null,
   "id": "a4eaebaa",
   "metadata": {},
   "outputs": [],
   "source": [
    "def solution(slice, n):\n",
    "    if n // slice > 0:\n",
    "        if n % slice == 0:\n",
    "            answer = int(n // slice)\n",
    "        else:\n",
    "            answer = int(n // slice + 1)\n",
    "    else:\n",
    "        answer = 1\n",
    "    return answer"
   ]
  },
  {
   "cell_type": "code",
   "execution_count": 27,
   "id": "c73c4c35",
   "metadata": {},
   "outputs": [],
   "source": [
    "#마리당 쿠폰 하나씩\n",
    "# 쿠폰 10 = 치킨 1 + 쿠폰1\n",
    "\n",
    "def solution(chicken):\n",
    "    answer = int(chicken // 10 + (chicken // 10) // 10)\n",
    "    return answer"
   ]
  },
  {
   "cell_type": "code",
   "execution_count": null,
   "id": "d537612a",
   "metadata": {},
   "outputs": [
    {
     "data": {
      "text/plain": [
       "118"
      ]
     },
     "execution_count": 28,
     "metadata": {},
     "output_type": "execute_result"
    },
    {
     "ename": "",
     "evalue": "",
     "output_type": "error",
     "traceback": [
      "\u001b[1;31m현재 셀 또는 이전 셀에서 코드를 실행하는 동안 Kernel이 충돌했습니다. \n",
      "\u001b[1;31m셀의 코드를 검토하여 가능한 오류 원인을 식별하세요. \n",
      "\u001b[1;31m자세한 내용을 보려면 <a href='https://aka.ms/vscodeJupyterKernelCrash'>여기</a>를 클릭하세요. \n",
      "\u001b[1;31m자세한 내용은 Jupyter <a href='command:jupyter.viewOutput'>로그</a>를 참조하세요."
     ]
    }
   ],
   "source": [
    "solution(1081)"
   ]
  },
  {
   "cell_type": "code",
   "execution_count": null,
   "id": "f871beb1",
   "metadata": {},
   "outputs": [],
   "source": [
    "def solution(chicken):\n",
    "    answer = 0 # 총 합계 쓰기 위함임!! 잊지말기\n",
    "    while chicken // 10 > 0:\n",
    "        servChic = chicken // 10 # 새로운 변수가 필요할 수도 있다\n",
    "        answer = answer + servChic\n",
    "        chicken = servChic + chicken % 10 #chic도 update해주는거 잊지말자!\n",
    "    return answer"
   ]
  }
 ],
 "metadata": {
  "kernelspec": {
   "display_name": "Python 3",
   "language": "python",
   "name": "python3"
  },
  "language_info": {
   "codemirror_mode": {
    "name": "ipython",
    "version": 3
   },
   "file_extension": ".py",
   "mimetype": "text/x-python",
   "name": "python",
   "nbconvert_exporter": "python",
   "pygments_lexer": "ipython3",
   "version": "3.13.9"
  }
 },
 "nbformat": 4,
 "nbformat_minor": 5
}
