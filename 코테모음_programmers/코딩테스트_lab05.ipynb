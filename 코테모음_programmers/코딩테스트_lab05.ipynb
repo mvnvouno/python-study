{
 "cells": [
  {
   "cell_type": "code",
   "execution_count": 1,
   "id": "aba2025a",
   "metadata": {},
   "outputs": [],
   "source": [
    "def solution(letter):\n",
    "    letter_code = letter.split() # key 단위로 리스트화\n",
    "    \n",
    "    morse = {\n",
    "    '.-':'a','-...':'b','-.-.':'c','-..':'d','.':'e','..-.':'f',\n",
    "    '--.':'g','....':'h','..':'i','.---':'j','-.-':'k','.-..':'l',\n",
    "    '--':'m','-.':'n','---':'o','.--.':'p','--.-':'q','.-.':'r',\n",
    "    '...':'s','-':'t','..-':'u','...-':'v','.--':'w','-..-':'x',\n",
    "    '-.--':'y','--..':'z'\n",
    "    }\n",
    "    morse_keys = list(morse.keys())\n",
    "    morse_alphabet = list(morse.values()) \n",
    "    # 대응되는 원소끼리 동일한 인덱스 번호 공유    \n",
    "    \n",
    "    answer = []\n",
    "    i = 0\n",
    "    for i in range(0, len(letter_code)):\n",
    "        for j in range(0, len(morse_keys)):\n",
    "            if morse_keys[j] == letter_code[i]:\n",
    "                print(morse_keys[j], \"=\", morse_alphabet[j])\n",
    "                answer.append(morse_alphabet[j])            \n",
    "                j = j + 1\n",
    "        i = i + 1\n",
    "    \n",
    "    return ''.join(answer)\n",
    "# 공백을 기준으로 나누자! -> .split()\n",
    "# 소문자 변환 함수: .lower(lettwe)"
   ]
  },
  {
   "cell_type": "code",
   "execution_count": null,
   "id": "e0df496c",
   "metadata": {},
   "outputs": [],
   "source": [
    "def solution(array):\n",
    "    asc = sorted(array)\n",
    "\n",
    "    if len(asc) % 2 == 0:\n",
    "        i_median = len(asc) // 2 - 1\n",
    "    else:\n",
    "        i_median = (len(asc) - 1) // 2 \n",
    "    answer = asc[i_median]\n",
    "    return answer\n",
    "\n",
    "\n",
    "1 2 3 4 5 6 7 8  4+5/2\n",
    "1 2 3 4 5 6 7 8 9 10  5+6/2\n",
    "1 2 3 4 5 6 7 8 9 10 11 12 6+7/2\n",
    "9 -1 0 -4 3 2"
   ]
  },
  {
   "cell_type": "code",
   "execution_count": 1,
   "id": "cb051166",
   "metadata": {},
   "outputs": [],
   "source": [
    "def solution(numbers):\n",
    "    desc = sorted(numbers, reverse = True)\n",
    "    answer = desc[0] * desc[1]\n",
    "    return answer"
   ]
  },
  {
   "cell_type": "code",
   "execution_count": 2,
   "id": "edf1889d",
   "metadata": {},
   "outputs": [],
   "source": [
    "def solution(sides):\n",
    "    asc = sorted(sides)\n",
    "    if asc[2] < asc[0] + asc[1]:\n",
    "        answer = 1\n",
    "    else:\n",
    "        answer = 2\n",
    "    return answer"
   ]
  },
  {
   "cell_type": "code",
   "execution_count": null,
   "id": "4215bbca",
   "metadata": {},
   "outputs": [],
   "source": [
    "def solution(order): #여기 order는 정수 배열임\n",
    "    count = 0\n",
    "    for i in order:\n",
    "        if i in ['3', '6', '9']:\n",
    "            count += 1\n",
    "    return count"
   ]
  },
  {
   "cell_type": "code",
   "execution_count": 15,
   "id": "eb062059",
   "metadata": {},
   "outputs": [
    {
     "data": {
      "text/plain": [
       "2"
      ]
     },
     "execution_count": 15,
     "metadata": {},
     "output_type": "execute_result"
    }
   ],
   "source": [
    "solution(29253)"
   ]
  },
  {
   "cell_type": "code",
   "execution_count": 5,
   "id": "566bc430",
   "metadata": {},
   "outputs": [],
   "source": [
    "def solution(array):\n",
    "    num_array = str(array)\n",
    "    empty = \"\"\n",
    "    text = empty.join(num_array)\n",
    "    answer = text.count(\"7\")\n",
    "    return answer"
   ]
  },
  {
   "cell_type": "code",
   "execution_count": 6,
   "id": "e4068ba6",
   "metadata": {},
   "outputs": [
    {
     "data": {
      "text/plain": [
       "4"
      ]
     },
     "execution_count": 6,
     "metadata": {},
     "output_type": "execute_result"
    }
   ],
   "source": [
    "solution([7, 77, 17])"
   ]
  },
  {
   "cell_type": "code",
   "execution_count": 9,
   "id": "13f05a23",
   "metadata": {},
   "outputs": [],
   "source": [
    "def solution(id_pw, db):\n",
    "    id = id_pw[0]\n",
    "    pw = str(id_pw[1])\n",
    "\n",
    "    for i in range(len(db)):\n",
    "        db_id = db[i][0]\n",
    "        db_pw = db[i][1]\n",
    "        if id == db_id:\n",
    "            if pw == db_pw:\n",
    "                answer = \"login\"\n",
    "            else:\n",
    "                answer = \"wrong pw\"\n",
    "        else:\n",
    "            answer = \"fail\"\n",
    "    return answer"
   ]
  },
  {
   "cell_type": "code",
   "execution_count": 10,
   "id": "6fff6530",
   "metadata": {},
   "outputs": [
    {
     "name": "stdout",
     "output_type": "stream",
     "text": [
      "login\n"
     ]
    }
   ],
   "source": [
    "print(solution([\"meosseugi\", \"1234\"],\n",
    "[[\"rardss\", \"123\"], [\"yyoom\", \"1234\"], [\"meosseugi\", \"1234\"]]))"
   ]
  },
  {
   "cell_type": "code",
   "execution_count": 11,
   "id": "93f03b15",
   "metadata": {},
   "outputs": [
    {
     "name": "stdout",
     "output_type": "stream",
     "text": [
      "wrong pw\n"
     ]
    }
   ],
   "source": [
    "print(solution([\"programmer01\", \"15789\"],\n",
    "[[\"programmer02\", \"111111\"], [\"programmer00\", \"134\"],\n",
    "[\"programmer01\", \"1145\"]]))"
   ]
  },
  {
   "cell_type": "code",
   "execution_count": 12,
   "id": "5ebfcb40",
   "metadata": {},
   "outputs": [
    {
     "name": "stdout",
     "output_type": "stream",
     "text": [
      "fail\n"
     ]
    }
   ],
   "source": [
    "print(solution([\"rabbit04\", \"98761\"],\n",
    "[[\"jaja11\", \"98761\"], [\"krong0313\", \"29440\"],\n",
    "[\"rabbit00\", \"111333\"]]))"
   ]
  },
  {
   "cell_type": "code",
   "execution_count": 1,
   "id": "40c487d8",
   "metadata": {},
   "outputs": [],
   "source": [
    "def solution(my_string):\n",
    "    vowel = [\"a\", \"e\", \"i\", 'o', 'u']\n",
    "    answer = \"\"\n",
    "    for i in my_string:\n",
    "        if i not in vowel:\n",
    "            answer = answer + i\n",
    "    return answer"
   ]
  },
  {
   "cell_type": "code",
   "execution_count": 15,
   "id": "32e8fa82",
   "metadata": {},
   "outputs": [],
   "source": [
    "def solution(my_string):\n",
    "    list1 = list(my_string)\n",
    "\n",
    "    answer = []\n",
    "    for i in list1:\n",
    "        if i.isnumeric():\n",
    "            answer.append(int(i))\n",
    "    answer.sort()\n",
    "    return answer"
   ]
  },
  {
   "cell_type": "code",
   "execution_count": 16,
   "id": "79429b28",
   "metadata": {},
   "outputs": [
    {
     "data": {
      "text/plain": [
       "[1, 2, 2, 3, 9]"
      ]
     },
     "execution_count": 16,
     "metadata": {},
     "output_type": "execute_result"
    }
   ],
   "source": [
    "my_string = \"hi12392\"\n",
    "solution(my_string)"
   ]
  },
  {
   "cell_type": "code",
   "execution_count": 17,
   "id": "a1bbcc57",
   "metadata": {},
   "outputs": [],
   "source": [
    "def solution(my_string):\n",
    "    low_string = my_string.lower()\n",
    "    list1 = list(low_string)\n",
    "    list1.sort()\n",
    "    empty = \"\"\n",
    "    answer = empty.join(list1)\n",
    "    return answer"
   ]
  },
  {
   "cell_type": "code",
   "execution_count": 18,
   "id": "69860ce3",
   "metadata": {},
   "outputs": [],
   "source": [
    "def solution(strlist):\n",
    "    answer = []\n",
    "    for i in range(0,len(strlist)):\n",
    "        length = len(strlist[i])\n",
    "        answer.append(length)\n",
    "    return answer"
   ]
  },
  {
   "cell_type": "code",
   "execution_count": 19,
   "id": "92dbd869",
   "metadata": {},
   "outputs": [],
   "source": [
    "def solution(sides):\n",
    "    a = min(sides)\n",
    "    answer = 2 * int(a) - 1\n",
    "    return answer"
   ]
  },
  {
   "cell_type": "code",
   "execution_count": null,
   "id": "f24f0b51",
   "metadata": {},
   "outputs": [],
   "source": [
    "def solution(numbers):\n",
    "    list_num = ['zero', 'one', 'two', 'three', 'four', 'five', 'six', 'seven', 'eight', 'nine']\n",
    "    new_numeric = ''\n",
    "    \n",
    "    for i, v in enumerate(list_num):\n",
    "        new_numeric = numbers.replace(v, str(i))\n",
    "\n",
    "\n",
    "    answer = int(new_numeric) \n",
    "    return answer"
   ]
  },
  {
   "cell_type": "code",
   "execution_count": 51,
   "id": "a044183b",
   "metadata": {},
   "outputs": [],
   "source": [
    "def solution(numbers):\n",
    "    list_num = ['zero', 'one', 'two', 'three', 'four', 'five', 'six', 'seven', 'eight', 'nine']\n",
    "\n",
    "    for i, v in enumerate(list_num):\n",
    "        numbers = numbers.replace(v, str(i))\n",
    "\n",
    "    answer = int(numbers) \n",
    "    return answer"
   ]
  },
  {
   "cell_type": "code",
   "execution_count": 52,
   "id": "f271a8a0",
   "metadata": {},
   "outputs": [],
   "source": [
    "def solution(spell, dic):\n",
    "    answer = 2\n",
    "    for i in dic:\n",
    "        if set(spell) == set(i):\n",
    "            answer = 1\n",
    "            break;\n",
    "    return answer"
   ]
  },
  {
   "cell_type": "code",
   "execution_count": null,
   "id": "e9133c5e",
   "metadata": {},
   "outputs": [],
   "source": [
    "def solution(my_str, n):\n",
    "    answer = []\n",
    "    for i in range(0,len(my_str), n):\n",
    "        answer.append(my_str[:n])\n",
    "        my_str = my_str[n:]\n",
    "    return answer"
   ]
  }
 ],
 "metadata": {
  "kernelspec": {
   "display_name": "Python 3",
   "language": "python",
   "name": "python3"
  },
  "language_info": {
   "codemirror_mode": {
    "name": "ipython",
    "version": 3
   },
   "file_extension": ".py",
   "mimetype": "text/x-python",
   "name": "python",
   "nbconvert_exporter": "python",
   "pygments_lexer": "ipython3",
   "version": "3.13.9"
  }
 },
 "nbformat": 4,
 "nbformat_minor": 5
}
