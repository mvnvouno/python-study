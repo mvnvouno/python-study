{
 "cells": [
  {
   "cell_type": "code",
   "execution_count": null,
   "id": "aba2025a",
   "metadata": {},
   "outputs": [
    {
     "ename": "SyntaxError",
     "evalue": "invalid syntax (2660975324.py, line 6)",
     "output_type": "error",
     "traceback": [
      "  \u001b[36mCell\u001b[39m\u001b[36m \u001b[39m\u001b[32mIn[1]\u001b[39m\u001b[32m, line 6\u001b[39m\n\u001b[31m    \u001b[39m\u001b[31manswer = letter[]''\u001b[39m\n                    ^\n\u001b[31mSyntaxError\u001b[39m\u001b[31m:\u001b[39m invalid syntax\n"
     ]
    }
   ],
   "source": [
    "def solution(letter):    \n",
    "    letter_code = letter.split() # key 단위로 리스트화\n",
    "    \n",
    "    morse_code = list(morse.keys())\n",
    "    morse_alphabet = list(morse.values()) \n",
    "    # 대응되는 원소끼리 동일한 인덱스 번호 공유    \n",
    "\n",
    "    i = 0\n",
    "    for i in range(0, len(letter_code)):\n",
    "        for j in range(0, len(morse_code)):\n",
    "            if morse_code[j] == letter_code[i]:\n",
    "                print(morse_code[j], \"=\", morse_alphabet[j])\n",
    "                j = j + 1\n",
    "        i = i + 1\n",
    "\n",
    "\n",
    "    print(tpl % letter)\n",
    "    answer = letter[]'\n",
    "    return answer\n",
    "\n",
    "# 공백을 기준으로 나누자!\n",
    "# -> 함수: .split()\n",
    "# 소문자 변환 함수: .lower(lettwe)\n",
    "\n"
   ]
  },
  {
   "cell_type": "code",
   "execution_count": null,
   "id": "6984e137",
   "metadata": {},
   "outputs": [],
   "source": [
    "``"
   ]
  }
 ],
 "metadata": {
  "kernelspec": {
   "display_name": "Python 3",
   "language": "python",
   "name": "python3"
  },
  "language_info": {
   "codemirror_mode": {
    "name": "ipython",
    "version": 3
   },
   "file_extension": ".py",
   "mimetype": "text/x-python",
   "name": "python",
   "nbconvert_exporter": "python",
   "pygments_lexer": "ipython3",
   "version": "3.13.9"
  }
 },
 "nbformat": 4,
 "nbformat_minor": 5
}
