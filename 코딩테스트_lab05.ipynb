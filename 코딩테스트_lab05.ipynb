{
 "cells": [
  {
   "cell_type": "code",
   "execution_count": 1,
   "id": "aba2025a",
   "metadata": {},
   "outputs": [],
   "source": [
    "def solution(letter):\n",
    "    letter_code = letter.split() # key 단위로 리스트화\n",
    "    \n",
    "    morse = {\n",
    "    '.-':'a','-...':'b','-.-.':'c','-..':'d','.':'e','..-.':'f',\n",
    "    '--.':'g','....':'h','..':'i','.---':'j','-.-':'k','.-..':'l',\n",
    "    '--':'m','-.':'n','---':'o','.--.':'p','--.-':'q','.-.':'r',\n",
    "    '...':'s','-':'t','..-':'u','...-':'v','.--':'w','-..-':'x',\n",
    "    '-.--':'y','--..':'z'\n",
    "    }\n",
    "    morse_keys = list(morse.keys())\n",
    "    morse_alphabet = list(morse.values()) \n",
    "    # 대응되는 원소끼리 동일한 인덱스 번호 공유    \n",
    "    \n",
    "    answer = []\n",
    "    i = 0\n",
    "    for i in range(0, len(letter_code)):\n",
    "        for j in range(0, len(morse_keys)):\n",
    "            if morse_keys[j] == letter_code[i]:\n",
    "                print(morse_keys[j], \"=\", morse_alphabet[j])\n",
    "                answer.append(morse_alphabet[j])            \n",
    "                j = j + 1\n",
    "        i = i + 1\n",
    "    \n",
    "    return ''.join(answer)\n",
    "# 공백을 기준으로 나누자! -> .split()\n",
    "# 소문자 변환 함수: .lower(lettwe)"
   ]
  },
  {
   "cell_type": "code",
   "execution_count": null,
   "id": "e0df496c",
   "metadata": {},
   "outputs": [],
   "source": [
    "def solution(array):\n",
    "    asc = sorted(array)\n",
    "\n",
    "    if len(asc) % 2 == 0:\n",
    "        i_median = len(asc) // 2 - 1\n",
    "    else:\n",
    "        i_median = (len(asc) - 1) // 2 \n",
    "    answer = asc[i_median]\n",
    "    return answer\n",
    "\n",
    "\n",
    "1 2 3 4 5 6 7 8  4+5/2\n",
    "1 2 3 4 5 6 7 8 9 10  5+6/2\n",
    "1 2 3 4 5 6 7 8 9 10 11 12 6+7/2\n",
    "9 -1 0 -4 3 2"
   ]
  },
  {
   "cell_type": "code",
   "execution_count": 1,
   "id": "cb051166",
   "metadata": {},
   "outputs": [],
   "source": [
    "def solution(numbers):\n",
    "    desc = sorted(numbers, reverse = True)\n",
    "    answer = desc[0] * desc[1]\n",
    "    return answer"
   ]
  },
  {
   "cell_type": "code",
   "execution_count": 2,
   "id": "edf1889d",
   "metadata": {},
   "outputs": [],
   "source": [
    "def solution(sides):\n",
    "    asc = sorted(sides)\n",
    "    if asc[2] < asc[0] + asc[1]:\n",
    "        answer = 1\n",
    "    else:\n",
    "        answer = 2\n",
    "    return answer"
   ]
  },
  {
   "cell_type": "code",
   "execution_count": null,
   "id": "4215bbca",
   "metadata": {},
   "outputs": [],
   "source": [
    "def solution(order): #여기 order는 정수 배열임\n",
    "    count = 0\n",
    "    for i in order:\n",
    "        if i in ['3', '6', '9']:\n",
    "            count += 1\n",
    "    return count"
   ]
  },
  {
   "cell_type": "code",
   "execution_count": 15,
   "id": "eb062059",
   "metadata": {},
   "outputs": [
    {
     "data": {
      "text/plain": [
       "2"
      ]
     },
     "execution_count": 15,
     "metadata": {},
     "output_type": "execute_result"
    }
   ],
   "source": [
    "solution(29253)"
   ]
  },
  {
   "cell_type": "code",
   "execution_count": null,
   "id": "566bc430",
   "metadata": {},
   "outputs": [],
   "source": [
    "def solution(array):\n",
    "    answer = 0\n",
    "    for i in array:\n",
    "        if i in ['7']:\n",
    "            answer = answer + 1\n",
    "    return answer\n",
    "\n",
    "target = 7\n",
    "count = 0\n",
    "if target in array:\n",
    "    count += 1\n",
    "\n",
    "# 2차원 리스트로 만들어볼까...\n",
    "for i in array:"
   ]
  }
 ],
 "metadata": {
  "kernelspec": {
   "display_name": "Python 3",
   "language": "python",
   "name": "python3"
  },
  "language_info": {
   "codemirror_mode": {
    "name": "ipython",
    "version": 3
   },
   "file_extension": ".py",
   "mimetype": "text/x-python",
   "name": "python",
   "nbconvert_exporter": "python",
   "pygments_lexer": "ipython3",
   "version": "3.13.9"
  }
 },
 "nbformat": 4,
 "nbformat_minor": 5
}
