{
 "cells": [
  {
   "cell_type": "code",
   "execution_count": 1,
   "id": "aba2025a",
   "metadata": {},
   "outputs": [],
   "source": [
    "def solution(letter):\n",
    "    letter_code = letter.split() # key 단위로 리스트화\n",
    "    \n",
    "    morse = {\n",
    "    '.-':'a','-...':'b','-.-.':'c','-..':'d','.':'e','..-.':'f',\n",
    "    '--.':'g','....':'h','..':'i','.---':'j','-.-':'k','.-..':'l',\n",
    "    '--':'m','-.':'n','---':'o','.--.':'p','--.-':'q','.-.':'r',\n",
    "    '...':'s','-':'t','..-':'u','...-':'v','.--':'w','-..-':'x',\n",
    "    '-.--':'y','--..':'z'\n",
    "    }\n",
    "    morse_keys = list(morse.keys())\n",
    "    morse_alphabet = list(morse.values()) \n",
    "    # 대응되는 원소끼리 동일한 인덱스 번호 공유    \n",
    "    \n",
    "    answer = []\n",
    "    i = 0\n",
    "    for i in range(0, len(letter_code)):\n",
    "        for j in range(0, len(morse_keys)):\n",
    "            if morse_keys[j] == letter_code[i]:\n",
    "                print(morse_keys[j], \"=\", morse_alphabet[j])\n",
    "                answer.append(morse_alphabet[j])            \n",
    "                j = j + 1\n",
    "        i = i + 1\n",
    "    \n",
    "    return ''.join(answer)\n",
    "# 공백을 기준으로 나누자! -> .split()\n",
    "# 소문자 변환 함수: .lower(lettwe)"
   ]
  },
  {
   "cell_type": "code",
   "execution_count": null,
   "id": "e0df496c",
   "metadata": {},
   "outputs": [],
   "source": [
    "def solution(array):\n",
    "    asc = sorted(array)\n",
    "\n",
    "    if len(asc) % 2 == 0:\n",
    "        i_median = (len(asc)) // 2\n",
    "    else:\n",
    "        i_median = (len(asc)-1) // 2 \n",
    "        answer = acs[i_median]\n",
    "        return answer\n",
    "\n",
    "    answer = 0\n",
    "    return answer"
   ]
  },
  {
   "cell_type": "code",
   "execution_count": null,
   "id": "cb051166",
   "metadata": {},
   "outputs": [],
   "source": []
  }
 ],
 "metadata": {
  "kernelspec": {
   "display_name": "Python 3",
   "language": "python",
   "name": "python3"
  },
  "language_info": {
   "codemirror_mode": {
    "name": "ipython",
    "version": 3
   },
   "file_extension": ".py",
   "mimetype": "text/x-python",
   "name": "python",
   "nbconvert_exporter": "python",
   "pygments_lexer": "ipython3",
   "version": "3.13.9"
  }
 },
 "nbformat": 4,
 "nbformat_minor": 5
}
