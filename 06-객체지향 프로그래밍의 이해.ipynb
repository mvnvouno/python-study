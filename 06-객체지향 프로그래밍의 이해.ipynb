{
 "cells": [
  {
   "cell_type": "markdown",
   "id": "c2e664a0",
   "metadata": {},
   "source": [
    "### 01. 클래스와 객체"
   ]
  },
  {
   "cell_type": "code",
   "execution_count": 18,
   "id": "daeae137",
   "metadata": {},
   "outputs": [],
   "source": [
    "# 객체: '변수(=데이터, 명사적 특성) + 함수(=기능, 동사적 특성)' 내장하는 특수 변수\n",
    "    # 현실세계에 존재하는 것\n",
    "    # 객체(object)끼리는 각각 독립적으로 존재, 활동\n",
    "    # 객체지향 언어: 객체가 중심 되는 코딩\n",
    "        # 현실에 존재하는걸 코딩\n",
    "    # 구성단위:\n",
    "        # 명사역할: 멤버변수 = 속성(property)\n",
    "        # 동사역할: 메서드 = 함수 = 기능 \n",
    "\n",
    "    # class: 객체 설계 프로그램 소스 (like 객체 설계 manual)\n",
    "        # class 구조\n",
    "            # class 클래스이름:\n",
    "                # 멤버변수 = 값 (기본값은 None으로 지정)\n",
    "                # def 메서드이름(self [,파라미터...]):\n",
    "                    #...\n",
    "                    # [return 값] -> 반드시 가짐"
   ]
  },
  {
   "cell_type": "code",
   "execution_count": 19,
   "id": "97164d8e",
   "metadata": {},
   "outputs": [
    {
     "name": "stdout",
     "output_type": "stream",
     "text": [
      "dg1: speed: 10, hp: 100, attack: 20, defense: 5\n",
      "speed: 11, hp: 100, attack: 22, defense: 6\n"
     ]
    }
   ],
   "source": [
    "# 실습 (멤버변수: variables of members)\n",
    "\n",
    "# define a class (case: only composed w/ members)\n",
    "class Dragon:       \n",
    "    speed = None    # define members(noun) of class\n",
    "    hp = None\n",
    "    attack = None\n",
    "    defense = None\n",
    "\n",
    "# create an object(객체) from the class\n",
    "dg1 = Dragon()      # define object\n",
    "# set up properties(속성) of the object\n",
    "dg1.speed = 10      \n",
    "dg1.hp = 100\n",
    "dg1.attack = 20\n",
    "dg1.defense = 5\n",
    "\n",
    "# print properties of dg1\n",
    "tpl = \"speed: {0}, hp: {1}, attack: {2}, defense: {3}\"\n",
    "print(\"dg1:\", tpl.format(dg1.speed, dg1.hp, dg1.attack, dg1.defense))\n",
    "\n",
    "# change the values of defined member\n",
    "    # case: level up\n",
    "dg1.speed = dg1.speed + 1      \n",
    "dg1.hp += 10\n",
    "dg1.attack += 2\n",
    "dg1.defense += 1\n",
    "\n",
    "    # case: attacked\n",
    "dg1.hp -= 10\n",
    "\n",
    "# print changed properties of dg1\n",
    "tpl = \"speed: {0}, hp: {1}, attack: {2}, defense: {3}\"\n",
    "print(tpl.format(dg1.speed, dg1.hp, dg1.attack, dg1.defense))"
   ]
  },
  {
   "cell_type": "code",
   "execution_count": 20,
   "id": "f592d03d",
   "metadata": {},
   "outputs": [
    {
     "name": "stdout",
     "output_type": "stream",
     "text": [
      "dg2: speed: 12, hp: 120, attack: 22, defense: 7\n"
     ]
    }
   ],
   "source": [
    "# re-use the class\n",
    "dg2 = Dragon()\n",
    "\n",
    "dg2.speed = 12\n",
    "dg2.hp = 120\n",
    "dg2.attack = 22\n",
    "dg2.defense = 7\n",
    "\n",
    "tpl = \"speed: {0}, hp: {1}, attack: {2}, defense: {3}\" # tpl은 출력 할 때마다 새로 써야하는건가봥\n",
    "print(\"dg2:\", tpl.format(dg2.speed, dg2.hp, dg2.attack, dg2.defense))"
   ]
  },
  {
   "cell_type": "code",
   "execution_count": null,
   "id": "d498bda1",
   "metadata": {},
   "outputs": [
    {
     "name": "stdout",
     "output_type": "stream",
     "text": [
      "좌표 (10, 10)로 이동합니다.\n",
      "광물을 채집합니다. (+10)\n",
      "광물을 채집합니다. (+10)\n",
      "광물을 채집합니다. (+10)\n",
      "가스를 채집합니다. (+5)\n",
      "가스를 채집합니다. (+5)\n",
      "채취된 광물: 30, 채취된 가스: 10\n"
     ]
    }
   ],
   "source": [
    "# define a class (case: composed only w/ methods)\n",
    "class Probe:\n",
    "    def move(self, x, y):   # define a method\n",
    "        # always start w/ a term 'self'!!\n",
    "        print(\"좌표 ({0}, {1})로 이동합니다.\".format(x, y))\n",
    "    \n",
    "    def mineral(self):      # define a method \n",
    "        print(\"광물을 채집합니다. (+10)\")\n",
    "        return 10\n",
    "\n",
    "    def gas(self):\n",
    "        print(\"가스를 채집합니다. (+5)\")\n",
    "        return 5\n",
    "\n",
    "# create an object from the class\n",
    "probe1 = Probe()    # probe1 = self\n",
    "probe1.move(10, 10)\n",
    "\n",
    "# use defined properties of method(mineral) and member(probe1)\n",
    "# to define my_mineral \n",
    "my_mineral = 0\n",
    "my_mineral += probe1.mineral()\n",
    "my_mineral += probe1.mineral()\n",
    "my_mineral += probe1.mineral()\n",
    "# to define my_gas\n",
    "my_gas = 0\n",
    "my_gas += probe1.gas()\n",
    "my_gas += probe1.gas()\n",
    "\n",
    "print(\"채취된 광물: {0}, 채취된 가스: {1}\".format(my_mineral, my_gas))"
   ]
  },
  {
   "cell_type": "markdown",
   "id": "aa96c16b",
   "metadata": {},
   "source": [
    "### 02. Self와 생성자"
   ]
  },
  {
   "cell_type": "code",
   "execution_count": null,
   "id": "a88903c3",
   "metadata": {},
   "outputs": [],
   "source": [
    "# 초기화: 변수를 처음 설정하는거\n",
    "# 생성자 (initiator)\n",
    "    # 사용 목적: for 코딩 축약, 멤버변수 초기화\n",
    "        # 객체생성과 각 객체당 성질을 정의할 때는\n",
    "        # 생성자 없이는 각 변수당 기본 3줄 이상 코딩이 필요함\n",
    "        # -> 생성자 쓰면 각 변수당 코딩 한줄만 쓰면 됨\n",
    "    # 값 return 안함\n",
    "    # 효과: 생성자의 멤버변수 초기화 = 클래스의 멤버변수 초기화"
   ]
  },
  {
   "cell_type": "code",
   "execution_count": 36,
   "id": "c3ef458f",
   "metadata": {},
   "outputs": [
    {
     "name": "stdout",
     "output_type": "stream",
     "text": [
      "상태확인 >>> hp: 100, dps: 20\n",
      "------------------------------\n",
      "적의 공격을 받아 hp: 70이 됩니다.\n",
      "상태확인 >>> hp: 70, dps: 20\n",
      "------------------------------\n",
      "레엘업을 하여 체력(+10), 공격력(+2)이 증가합니다.\n",
      "상태확인 >>> hp: 80, dps: 22\n"
     ]
    }
   ],
   "source": [
    "# 실습\n",
    "# w/o 생성자\n",
    "# zealot 클래스 정의하기\n",
    "class Zealot:       # class 정의\n",
    "    hp = None       # 멤버변수 정의 \n",
    "    dps = None      # (초기값 = None)   # 멤버 한마리 생성하는데 변수가 3개나 적힘!\n",
    " # (damage per second)\n",
    "\n",
    "    def state(self):\n",
    "        print(\"상태확인 >>> hp: {0}, dps: {1}\".format(self.hp, self.dps))\n",
    "\n",
    "    def level_up(self):\n",
    "        self.hp = self.hp + 10\n",
    "        self.dps = self.dps + 2\n",
    "        print(\"레엘업을 하여 체력(+10), 공격력(+2)이 증가합니다.\")\n",
    "    \n",
    "    def attacked(self, enemy_attack): # 새로운 멤버변수가 등장했으니 괄호 안에 기입하자!\n",
    "        self.hp -= enemy_attack       # enemy_attack: enemy당 깎는 체력량\n",
    "        print(\"적의 공격을 받아 hp: {0}이 됩니다.\".format(self.hp))\n",
    "    \n",
    "zealot1 = Zealot() # 들여쓰기 하면 출력 안됨!(이유: 아직 class 정의과정 안에 있다고 판단하기 떄문)\n",
    "zealot1.hp = 100\n",
    "zealot1.dps = 20\n",
    "# -> 클래스 안에 객체 생성할 때 출력멘트 지정하는 법은 아래 생성자 코딩 case에서 같이 다룰 예정.\n",
    "\n",
    "zealot1.state()\n",
    "print(\"-\" * 30)\n",
    "zealot1.attacked(30) # 30 = enemy_attack\n",
    "zealot1.state()\n",
    "print(\"-\" * 30)\n",
    "zealot1.level_up()\n",
    "zealot1.state()\n",
    "\n"
   ]
  },
  {
   "cell_type": "code",
   "execution_count": null,
   "id": "b5d494e7",
   "metadata": {},
   "outputs": [
    {
     "name": "stdout",
     "output_type": "stream",
     "text": [
      "[마린이] You wanna piece of me, bro? (hp:100, lv.0)\n",
      "[마린돌이] You wanna piece of me, bro? (hp:100, lv.0)\n",
      "[마린이] hp: 100, lv.0\n",
      "[마린돌이] hp: 100, lv.0\n",
      "------------------------------\n",
      "[마린이] 적의 공격을 받아 hp가 30 감소합니다.\n",
      "[마린돌이] 적의 공격을 받아 hp가 20 감소합니다.\n",
      "[마린이] hp: 70, lv.0\n",
      "[마린돌이] hp: 80, lv.0\n",
      "------------------------------\n",
      "[마린이] (lv.1) 레벨업(+1)을 하여 체력(+5)이 증가합니다.\n",
      "[마린돌이] (lv.1) 레벨업(+1)을 하여 체력(+5)이 증가합니다.\n",
      "[마린이] hp: 75, lv.1\n",
      "[마린돌이] hp: 85, lv.1\n",
      "------------------------------\n"
     ]
    }
   ],
   "source": [
    "# w/ 생성자\n",
    "# 마린 클래스 정의하기\n",
    "class Marine:\n",
    "    name = None\n",
    "    hp = None   \n",
    "    level = None    # (초기값 = None)\n",
    "\n",
    "    def __init__(self, name, hp, level):   # 생성자 (객체 생성 시 객체속성들을 '초기화')\n",
    "        self.name = name # 생성자로 객체 생성 시 객체속성들은 앞에 self. 붙임\n",
    "        self.hp = hp                # (self.: 멤버변수 값 들이 초기화 되었다는 의미)\n",
    "        self.level = level\n",
    "        print(\"[{0}] You wanna piece of me, bro? (hp:{1}, lv.{2})\".format(self.name, self.hp, self.level))\n",
    "        # 처음 마린 캐릭터 '생성'했을 때 뜨는 문구\n",
    "    \n",
    "    def state(self):\n",
    "        print(\"[{0}] hp: {1}, lv.{2}\".format(self.name, self.hp, self.level))\n",
    "    \n",
    "    def level_up(self):\n",
    "        self.level += 1\n",
    "        self.hp += 5\n",
    "        print(\"[{0}] (lv.{1}) 레벨업(+1)을 하여 체력(+5)이 증가합니다.\".format(self.name, self.level))\n",
    "\n",
    "    def attacked(self, enemy_attack):\n",
    "        self.hp -= enemy_attack     # enemy_attack: 깎이는 체력 량\n",
    "        print(\"[{0}] 적의 공격을 받아 hp가 {1} 감소합니다.\".format(self.name, enemy_attack))\n",
    "\n",
    "# 객체 생성\n",
    "m1 = Marine(\"마린이\", 100, 0)  # 생성자 안에서 정의한 초기멘트가 호출된다.\n",
    "m2 = Marine(\"마린돌이\", 100, 0)\n",
    "\n",
    "# 출력\n",
    "m1.state()\n",
    "m2.state()\n",
    "print(\"-\" * 30)\n",
    "\n",
    "m1.attacked(30)\n",
    "m2.attacked(20)\n",
    "m1.state()\n",
    "m2.state()\n",
    "print(\"-\" * 30)\n",
    "\n",
    "m1.level_up()\n",
    "m2.level_up()\n",
    "m1.state()\n",
    "m2.state()\n",
    "print(\"-\" * 30)"
   ]
  },
  {
   "cell_type": "markdown",
   "id": "ba631264",
   "metadata": {},
   "source": [
    "### 03. 정보은닉 (캡슐화)"
   ]
  },
  {
   "cell_type": "code",
   "execution_count": null,
   "id": "4fd8db0a",
   "metadata": {},
   "outputs": [],
   "source": [
    "# 목적: \n",
    "    # 객체의 코드로 노출된 개인정보 은닉\n",
    "    # 은닉된 정보(멤버변수, 메서드) 값이 적절한지 사전에 검사\n",
    "    # 잘못된 데이터 저장으로 인한 코드 오작동 방지\n",
    "# 효과: 객체를 통한 접근이 에러남\n",
    "# 캡슐화 방법\n",
    "    # 고전적인 캡슐화 방법 ('getter, setter' method pair 사용)\n",
    "        # setter: 멤버변수\n",
    "            # .set변수이름(self, value):\n",
    "            # if문으로 사전에 파라미터(value) 검증할 수 있다\n",
    "        # getter: 함수\n",
    "            # 'return self.변수이름' 으로 끝남\n",
    "    # 접근 한정자('__이름') 사용\n",
    "        # '__변수이름', '__메서드이름'\n",
    "# 캡슐화된 정보 접근법\n",
    "    # 은닉된 멤버변수:\n",
    "        # 프로퍼티 사용 (@property): 'getter-setter' pair로 구성된 '메서드'\n",
    "            # getter: 캡슐화된 '멤버변수' 값을 return. \n",
    "                # setter보다 먼저 정의하기!\n",
    "            # setter: 파라미터(value)를 멤버변수로 대입!\n",
    "                # if문으로 사전에 파라미터(value) 검증 가능\n",
    "            # getter-setter pair는 생성자 코딩 전에 정의하기\n",
    "                # -> 생성자 역할이 'setter 호출'로 바뀜 (원래는 역할이 직접 값을 초기화 시킴)\n",
    "            # 각 변수 당 프로퍼티 구문 입력\n"
   ]
  },
  {
   "cell_type": "code",
   "execution_count": null,
   "id": "91d1242d",
   "metadata": {},
   "outputs": [
    {
     "name": "stdout",
     "output_type": "stream",
     "text": [
      "[벌쳐1] Alright! Bring it on!\n",
      "[벌쳐2] Alright! Bring it on!\n",
      "[벌쳐1] hp: 100, dps: 1\n",
      "[벌쳐2] hp: 100, dps: 20\n",
      "------------------------------\n",
      "[벌쳐1] 적의 공격을 받아 hp가 30 감소합니다.\n",
      "[벌쳐2] 적의 공격을 받아 hp가 20 감소합니다.\n",
      "[벌쳐1] hp: 70, dps: 1\n",
      "[벌쳐2] hp: 80, dps: 20\n",
      "------------------------------\n",
      "[벌쳐1] 레벨업을 하여 체력(+5), 공격력(+1)이 증가합니다.\n",
      "[벌쳐2] 레벨업을 하여 체력(+5), 공격력(+1)이 증가합니다.\n",
      "[벌쳐1] hp: 75, dps: 2\n",
      "[벌쳐2] hp: 85, dps: 21\n",
      "------------------------------\n",
      "[벌쳐1] 적1에게 초당 2 만큼의 데미지 공격을 가합니다.\n",
      "[벌쳐2] 적2에게 초당 21 만큼의 데미지 공격을 가합니다.\n"
     ]
    }
   ],
   "source": [
    "# 실습\n",
    "class Vulture:\n",
    "    __name = None\n",
    "    __hp = None\n",
    "    __dps = None\n",
    "\n",
    "    # getter-setter property 정의\n",
    "    @property       # 프로퍼티 pair 시작\n",
    "    def name(self):     # __name 변수의 getter 정의\n",
    "        return self.__name\n",
    "    @name.setter        # __name 변수의 getter 정의\n",
    "    def name(self, value):\n",
    "        self.__name = value\n",
    "\n",
    "\n",
    "    @property       \n",
    "    def hp(self):     # __hp 변수의 getter\n",
    "        return self.__hp\n",
    "    @hp.setter        # __hp 변수의 getter\n",
    "    def hp(self, value):\n",
    "        if value < 1:\n",
    "            value = 1\n",
    "        self.__hp = value\n",
    "\n",
    "    \n",
    "    @property       \n",
    "    def dps(self):     # __dps 변수의 getter\n",
    "        return self.__dps\n",
    "    @dps.setter        # __dps 변수의 getter\n",
    "    def dps(self, value):\n",
    "        if value < 1:\n",
    "            value = 1\n",
    "        self.__dps = value\n",
    "\n",
    "# 생성자 정의\n",
    "    def __init__(self, name = None, hp = 0, dps = 0):\n",
    "        self.name = name    # self.name: '변수' 아님! 위에서 정의한 setter를 호출하는 method임!!\n",
    "        self.hp = hp        # 이때, 호출된 setter가 생성자의 기본값 dps=0을 강제로 dps=1로 바꿈\n",
    "        self.dps = dps      # 각각의 setter들에게 '생성자의 파라미터' 전달해서 멤버변수 초기화\n",
    "        print(\"[{0}] Alright! Bring it on!\".format(self.name)) \n",
    "\n",
    "    def state(self):\n",
    "        print(\"[{0}] hp: {1}, dps: {2}\".format(self.name, self.hp, self.dps))\n",
    "        \n",
    "    def level_up(self):\n",
    "        self.hp += 5    # 여기서의 += : getter를 호출\n",
    "        self.dps += 1\n",
    "\n",
    "    def level_up(self):\n",
    "        self.dps += 1\n",
    "        self.hp += 5\n",
    "        print(\"[{0}] 레벨업을 하여 체력(+5), 공격력(+1)이 증가합니다.\".format(self.name))\n",
    "\n",
    "    def attacked(self, enemy_attack):\n",
    "        self.hp -= enemy_attack     # enemy_attack: 상대의 공격력 만큼 hp 감소\n",
    "        print(\"[{0}] 적의 공격을 받아 hp가 {1} 감소합니다.\".format(self.name, enemy_attack))\n",
    "    \n",
    "    def attack(self, target):\n",
    "        print(\"[{0}] {1}에게 초당 {2} 만큼의 데미지 공격을 가합니다.\".format(self.name, target, self.dps))\n",
    "\n",
    "\n",
    "# Vulture 클래스의 객체 생성\n",
    "v1 = Vulture(\"벌쳐1\", 100) # 여기 dps가 setter로 인해 (초기값≠0), 기본값 1로 설정될 예정\n",
    "v2 = Vulture(\"벌쳐2\", 100, 20)\n",
    "\n",
    "# 출력\n",
    "v1.state()\n",
    "v2.state()\n",
    "print(\"-\" * 30)\n",
    "\n",
    "v1.attacked(30)\n",
    "v2.attacked(20)\n",
    "\n",
    "v1.state()\n",
    "v2.state()\n",
    "print(\"-\" * 30)\n",
    "\n",
    "v1.level_up()\n",
    "v2.level_up()\n",
    "\n",
    "v1.state()\n",
    "v2.state()\n",
    "print(\"-\" * 30)\n",
    "\n",
    "v1.attack(\"적1\")\n",
    "v2.attack(\"적2\")"
   ]
  },
  {
   "cell_type": "markdown",
   "id": "fc0f79f8",
   "metadata": {},
   "source": [
    "### 04. 클래스 상속 (1)"
   ]
  },
  {
   "cell_type": "code",
   "execution_count": null,
   "id": "daddab83",
   "metadata": {},
   "outputs": [],
   "source": [
    "# ex) 엄빠 재산은 나한테로 온다\n",
    "# 부모 클래스가 자식 클래스한테 멤버변수, 메서드 상속함\n",
    "# 기존 부모 클래스 원본은 유지됨!\n",
    "# 캡슐화된 정보는 상속되지 않음!\n",
    "# 화살표 주의: 부모 <-- 자식 (상습관계 표현법)\n",
    "# 부모 클래스 기능 확장하기 (a.k.a. 상속받기)\n",
    "    # 자식 클래스 정의할 때:\n",
    "        # 'class 자식클래스이름(부모클래스이름):'\n",
    "        # 추가기능도 기입가능\n",
    "    # 부모 클래스에 접근할 때:\n",
    "        # 부모 클래스의 내장함수를 직접 호출\n",
    "            # 자식 클래스의 메서드에서 'super().부모메서드이름()' 쓰기"
   ]
  },
  {
   "cell_type": "code",
   "execution_count": null,
   "id": "03b575a7",
   "metadata": {},
   "outputs": [
    {
     "name": "stdout",
     "output_type": "stream",
     "text": [
      "[마린1] HP: 45\n",
      "[마린1] 총을 쏘아 100의 데미지를 입혔습니다.\n"
     ]
    }
   ],
   "source": [
    "# 실습\n",
    "class Terran:\n",
    "    name = None\n",
    "    hp = None\n",
    "\n",
    "    def __init__(self, name, hp):\n",
    "        self.name = name\n",
    "        self.hp = hp\n",
    "    \n",
    "    def info(self):\n",
    "        return \"[%s] HP: %d\" % (self.name, self.hp)\n",
    "    \n",
    "\n",
    "class Marine(Terran):   # Marine이 Terran의 클래스를 상속받는다\n",
    "    # 부모: Terran, 자식: Marine\n",
    "    def shoot(self, attack):   # 상속받는 기능 이외의 메서드 추가\n",
    "        return \"[%s] 총을 쏘아 %d의 데미지를 입혔습니다.\" % (self.name, attack)\n",
    "\n",
    "\n",
    "m = Marine('마린1', 45)\n",
    "print(m.info())\n",
    "print(m.shoot(100))"
   ]
  },
  {
   "cell_type": "code",
   "execution_count": null,
   "id": "687fa763",
   "metadata": {},
   "outputs": [
    {
     "name": "stdout",
     "output_type": "stream",
     "text": [
      "[메딕1] HP: 30, Mana: 100\n",
      "[메딕1] 마린1의 체력을 회복시킵니다. (mana: -5)\n"
     ]
    }
   ],
   "source": [
    "class Medic(Terran):\n",
    "    mana = None     # 상속받은 변수 이외의 추가변수\n",
    "\n",
    "    def __init__(self, name, hp, mana):  # 본인 생성자에 변수 추가할 땐 (override중 하나)\n",
    "        super().__init__(name, hp)  # 부모 생성자 호출\n",
    "        self.mana = mana        # 추가했던 변수 속성 정의\n",
    "        # -> 자식클래스 안에서 기능하는 부모생성자 초기화함 (부모 원본 유지!)\n",
    "\n",
    "    def info_ex(self):          # 상속받은 기능에 기능 추가방법\n",
    "        info_msg = super().info()   #'부모 클래스의 info 메서드' 호출\n",
    "        info_msg = info_msg + \", Mana: %d\" % self.mana  # 매서드 재정의\n",
    "        return info_msg                         # (문자열 끼리 덧셈 가능)\n",
    "    \n",
    "    def heel(self, target):     # 상속받는 기능 이외의 메서드 추가\n",
    "        self.mana -= 5\n",
    "        return \"[%s] %s의 체력을 회복시킵니다. (mana: -5)\" % (self.name, target)\n",
    "\n",
    "md = Medic('메딕1', 30, 100)\n",
    "print(md.info_ex())\n",
    "print(md.heel('마린1'))\n"
   ]
  },
  {
   "cell_type": "markdown",
   "id": "15291491",
   "metadata": {},
   "source": [
    "### 05. 클래스 상속 (2)"
   ]
  },
  {
   "cell_type": "code",
   "execution_count": null,
   "id": "9dddb24b",
   "metadata": {},
   "outputs": [],
   "source": [
    "# override: 상속받은 기능을 조작할 때\n",
    "    # 부모클래스 원본은 유지됨!\n",
    "    # 상속받은 기능을 수정할 때 \n",
    "        # 출력부분만 다르게 입력\n",
    "    # 재정의 되기 전 부모 기능에 기능 추가할 때 \n",
    "        # super().부모기능() -> 재정의 전 부모 기능 호출\n",
    "        # if 불러온 부모기능에 출력이 포함되어 있으면\n",
    "            # 부모기능과 추가기능 둘 다 출력될 수 있다\n",
    "\n",
    "# 다중상속: 부모가 두개 이상 있을 때!\n",
    "    # 표현: class A(B, C, D): \n",
    "    # 부모 기능을 '부품화'\n",
    "        # ex. 부모: (가) - 기능: a, b, c, d \n",
    "        # 이 중 상속할 기능들이 들어있는 부품들만 자식에게 상속\n",
    "            # ex) 자식: (나) - 기능: a, b, d (상속ed)\n",
    "            # ex) 자식: (다) - 기능: b, c, d (상속ed)"
   ]
  },
  {
   "cell_type": "code",
   "execution_count": null,
   "id": "31b2324d",
   "metadata": {},
   "outputs": [
    {
     "name": "stdout",
     "output_type": "stream",
     "text": [
      "[탱크1] HP: 150, 상태:아머드모드\n",
      "[탱크1] HP: 150, 상태:시즈모드\n"
     ]
    }
   ],
   "source": [
    "# 실습\n",
    "class SiegeTank(Terran):        # 부모클래스 상속받음 (복붙 개념)\n",
    "    siege_mode = None           # 추가 변수 정의\n",
    "\n",
    "    def __init__(self, name, hp=150, siege_mode=False):\n",
    "        super().__init__(name, hp) # 부모 생성자 호출\n",
    "        self.siege_mode = siege_mode # 복붙한 생성자에 변수 추가, 기능 초기화\n",
    "    \n",
    "    def set_siege(self, on):    # 상속기능 이외에 고유기능 추가\n",
    "        self.siege_mode = bool(on) \n",
    "    \n",
    "    def info(self):     # 복붙한 부모클래스의 info 기능 재정의 (기능 수정)\n",
    "        base = super().info() # 부모클래스의 info기능 호출\n",
    "\n",
    "        if self.siege_mode:   # 기능 수정\n",
    "            mode = \"시즈모드\"\n",
    "        else:\n",
    "            mode = \"아머드모드\"\n",
    "        \n",
    "        return base + \", 상태:\" + mode\n",
    "\n",
    "    # 객체 생성)\n",
    "t = SiegeTank('탱크1')\n",
    "print(t.info())    # 출력\n",
    "\n",
    "t.set_siege(True)\n",
    "print(t.info())"
   ]
  }
 ],
 "metadata": {
  "kernelspec": {
   "display_name": "Python 3",
   "language": "python",
   "name": "python3"
  },
  "language_info": {
   "codemirror_mode": {
    "name": "ipython",
    "version": 3
   },
   "file_extension": ".py",
   "mimetype": "text/x-python",
   "name": "python",
   "nbconvert_exporter": "python",
   "pygments_lexer": "ipython3",
   "version": "3.13.9"
  }
 },
 "nbformat": 4,
 "nbformat_minor": 5
}
