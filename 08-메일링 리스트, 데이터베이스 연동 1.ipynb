{
 "cells": [
  {
   "cell_type": "markdown",
   "id": "077a95da",
   "metadata": {},
   "source": [
    "## # 01. 메일 발송 모듈 제작"
   ]
  },
  {
   "cell_type": "markdown",
   "id": "7096c8b2",
   "metadata": {},
   "source": [
    "###### 앞으로 코드 한 줄의 의미가 이전 수업 보단 더 깊어짐..\n",
    "###### 지난 시간에 만들었던 메일 발송 모듈 재 사용 실습"
   ]
  },
  {
   "cell_type": "code",
   "execution_count": 7,
   "id": "5af0278e",
   "metadata": {},
   "outputs": [],
   "source": [
    "# 실습\n",
    "# 구글 앱비밀번호: uirh ysyy jfia ktlr\n",
    "\n",
    "# 참조할 라이브러리 정의\n",
    "import os\n",
    "from smtplib import SMTP\n",
    "from email.mime.text import MIMEText\n",
    "from email.mime.application import MIMEApplication\n",
    "from email.mime.multipart import MIMEMultipart\n",
    "\n",
    "#--------------------------------------------\n",
    "# 메일 발송 함수 만들기 (함수(및 이름) 정의)\n",
    "#--------------------------------------------\n",
    "def sendMail(from_addr, to_addr, subject, content, files=[]):\n",
    "    content_type = \"plain\"\n",
    "\n",
    "    username = \"29alsdud@gmail.com\"\n",
    "    password = \"uirh ysyy jfia ktlr\"    # (구글 앱 비밀번호)\n",
    "\n",
    "    smtp = \"smtp.gmail.com\"\n",
    "    port = 587\n",
    "\n",
    "    msg = MIMEMultipart()\n",
    "\n",
    "    msg['Subject'] = subject\n",
    "    msg['From'] = from_addr\n",
    "    msg['To'] = to_addr\n",
    "\n",
    "    msg.attach(MIMEText(content, content_type))\n",
    "\n",
    "    if files: # 여기서 file은 리스트임!\n",
    "        for file_item in files:\n",
    "            if os.path.exists(file_item):\n",
    "                with open(file_item, 'rb') as f:\n",
    "                    basename = os.path.basename(file_item)\n",
    "                    part = MIMEApplication(f.read(), Name=basename)\n",
    "\n",
    "                    part['Content-Disposition'] = 'attachment; filename=\"%s\"' % basename\n",
    "                    msg.attach(part)\n",
    "\n",
    "                    print(basename, \"(이)가 첨부 되었습니다.\")\n",
    "\n",
    "\n",
    "    mail = SMTP(smtp)\n",
    "    mail.ehlo()\n",
    "    mail.starttls()\n",
    "    mail.login(username, password)\n",
    "    mail.sendmail(from_addr, to_addr, msg.as_string())\n",
    "    mail.quit()"
   ]
  },
  {
   "cell_type": "code",
   "execution_count": 9,
   "id": "0e85f29a",
   "metadata": {},
   "outputs": [],
   "source": [
    "#--------------------------------------------\n",
    "# 테스트 코드\n",
    "#--------------------------------------------\n",
    "if __name__ == \"__main__\":\n",
    "\n",
    "    sendMail(\"29alsdud@gmail.com\", \"29alsdud@gmail.com\", \"오늘 점심 메뉴 추천이욥\", \"아아, mike check mike check, ok\")"
   ]
  },
  {
   "cell_type": "markdown",
   "id": "761eeb5e",
   "metadata": {},
   "source": [
    "## # 02. 메일링 리스트 구현"
   ]
  },
  {
   "cell_type": "code",
   "execution_count": 15,
   "id": "a989db64",
   "metadata": {},
   "outputs": [],
   "source": [
    "# .strip(): 줄 마다 있는 줄바꿈 /n 및 공백 제거\n",
    "# 앞으로 룰: \n",
    "    #print(): 코딩 중간 점검용 \n",
    "        # 일단 해당 줄 까지 코딩 후 출력 해보고\n",
    "        # 출력 잘 되면 print 앞에 주석 처리 후 쭉 코딩하기"
   ]
  },
  {
   "cell_type": "markdown",
   "id": "a66e5da3",
   "metadata": {},
   "source": [
    "#### 메일 발송 준비"
   ]
  },
  {
   "cell_type": "code",
   "execution_count": 2,
   "id": "9f3129f3",
   "metadata": {},
   "outputs": [
    {
     "name": "stdout",
     "output_type": "stream",
     "text": [
      "2025 10 27\n"
     ]
    }
   ],
   "source": [
    "# 모듈 참조\n",
    "from mylibrary import MyMailer\n",
    "import datetime as dt\n",
    "\n",
    "# 날짜 성분값 초기화\n",
    "today = dt.datetime.now()\n",
    "year = today.year\n",
    "month = today.month\n",
    "day = today.day\n",
    "print(year, month, day)"
   ]
  },
  {
   "cell_type": "markdown",
   "id": "012fe3fc",
   "metadata": {},
   "source": [
    "#### 보내는 사람, 메일 제목"
   ]
  },
  {
   "cell_type": "code",
   "execution_count": 3,
   "id": "e51cb2a9",
   "metadata": {},
   "outputs": [],
   "source": [
    "# 메일 발신자 정보\n",
    "fromAddr = \"운영지원팀 <29alsdud@gmail.com>\"\n",
    "\n",
    "# 메일 제목을 위한 템플릿\n",
    "subjectTmpl = \"{name}님의 {yy}년 {mm}월 급여명세서 입니다.\""
   ]
  },
  {
   "cell_type": "markdown",
   "id": "74382491",
   "metadata": {},
   "source": [
    "#### 메일 본문 가져오기"
   ]
  },
  {
   "cell_type": "code",
   "execution_count": 4,
   "id": "7a6bd702",
   "metadata": {},
   "outputs": [
    {
     "name": "stdout",
     "output_type": "stream",
     "text": [
      "안녕하세요 {name}님\n",
      "\n",
      "{yy}년도 {mm}월 급여명세서와 결산보고서 보내드립니다.\n",
      "\n",
      "귀하의 노고에 감사드립니다.\n",
      "\n",
      "- {yy}년 {mm}월 {dd}일 / 운영지원팀 드림\n"
     ]
    }
   ],
   "source": [
    "with open('mail/content.txt', 'r', encoding='utf-8') as f:\n",
    "    contentTmpl = f.read()       # .txt 파일은 utf-8임\n",
    "    print(contentTmpl)"
   ]
  },
  {
   "cell_type": "markdown",
   "id": "0e4d7334",
   "metadata": {},
   "source": [
    "#### 수신자 목록 CSV에 대한 반복처리"
   ]
  },
  {
   "cell_type": "code",
   "execution_count": 5,
   "id": "e38a125c",
   "metadata": {},
   "outputs": [
    {
     "name": "stdout",
     "output_type": "stream",
     "text": [
      "document.pptx (이)가 첨부 되었습니다.\n",
      "pay1.xlsx (이)가 첨부 되었습니다.\n",
      "document.pptx (이)가 첨부 되었습니다.\n",
      "pay2.xlsx (이)가 첨부 되었습니다.\n",
      "document.pptx (이)가 첨부 되었습니다.\n",
      "pay3.xlsx (이)가 첨부 되었습니다.\n",
      "document.pptx (이)가 첨부 되었습니다.\n",
      "pay4.xlsx (이)가 첨부 되었습니다.\n",
      "document.pptx (이)가 첨부 되었습니다.\n",
      "pay5.xlsx (이)가 첨부 되었습니다.\n"
     ]
    }
   ],
   "source": [
    "with open('mail/mail_list.csv', 'r', encoding='utf-8') as f:\n",
    "    csv = f.readlines()            # .csv 파일은 utf-8임\n",
    "\n",
    "    # csv의 라인 수 만큼 반복\n",
    "    for line in csv:\n",
    "\n",
    "        # 한 줄 안의 내용 분리\n",
    "        name, email, file1, file2 = line.strip().split(\",\")\n",
    "        #print(name, email, file1, file2)\n",
    "\n",
    "        toAddr = \"{name} <{email}>\".format(name = name, email = email)\n",
    "        #print(toAddr)\n",
    "\n",
    "        # 메일 제목\n",
    "        subject = subjectTmpl.format(name = name, yy = year, mm = month)\n",
    "        #print(subject)\n",
    "\n",
    "        # 메일 내용\n",
    "        content = contentTmpl.format(name = name, yy = year, mm = month, dd = day)\n",
    "        #print(content)\n",
    "\n",
    "        # 메일 보내기\n",
    "        MyMailer.sendMail(fromAddr, toAddr, subject, content, [file1, file2])"
   ]
  },
  {
   "cell_type": "markdown",
   "id": "22eb6707",
   "metadata": {},
   "source": [
    "## # 03. 비동기 처리"
   ]
  },
  {
   "cell_type": "markdown",
   "id": "976be67a",
   "metadata": {},
   "source": [
    "##### 추후 작업할 crowling 작업을 위한 개념"
   ]
  },
  {
   "cell_type": "code",
   "execution_count": 6,
   "id": "6bf7d6e1",
   "metadata": {},
   "outputs": [],
   "source": [
    "# 동기 처리는 step-by-step 처리 -> 시간 겁나 소요\n",
    "# -> 비동기 처리: 다 작업 한번에 start -> 제일 오래 걸리는 작업의 소요 시간이 마지막 작업시간\n",
    "# -> by .ThreadPollExecutor()\n",
    "    # ThreadPollExecutor 함수는 .futures() 객체의 내장함수임\n",
    "    # 동시다발적인 ThreadPollExecutor 작업이 끝나기 전 까지 with문 안에서 대기함."
   ]
  },
  {
   "cell_type": "markdown",
   "id": "f93c9949",
   "metadata": {},
   "source": [
    "##### 실습: 메일 발송에 필요한 변수 초기화"
   ]
  },
  {
   "cell_type": "code",
   "execution_count": 9,
   "id": "935817a5",
   "metadata": {},
   "outputs": [],
   "source": [
    "# 이전 단원의 소스코드 재사용\n",
    "today = dt.datetime.now()\n",
    "year = today.year\n",
    "month = today.month\n",
    "day = today.day\n",
    "\n",
    "fromAddr = \"운영지원팀 <29alsdud@gmail.com>\"\n",
    "subjectTmpl = \"{name}님의 {yy}년 {mm}월 급여명세서 입니다.\"\n",
    "\n",
    "with open('mail/content.txt', 'r', encoding='utf-8') as f:\n",
    "    contentTmpl = f.read()"
   ]
  },
  {
   "cell_type": "markdown",
   "id": "29287a80",
   "metadata": {},
   "source": [
    "##### 동기식 메일 발송"
   ]
  },
  {
   "cell_type": "code",
   "execution_count": 11,
   "id": "d180875e",
   "metadata": {},
   "outputs": [
    {
     "name": "stdout",
     "output_type": "stream",
     "text": [
      "document.pptx (이)가 첨부 되었습니다.\n",
      "pay1.xlsx (이)가 첨부 되었습니다.\n",
      "document.pptx (이)가 첨부 되었습니다.\n",
      "pay2.xlsx (이)가 첨부 되었습니다.\n",
      "document.pptx (이)가 첨부 되었습니다.\n",
      "pay3.xlsx (이)가 첨부 되었습니다.\n",
      "document.pptx (이)가 첨부 되었습니다.\n",
      "pay4.xlsx (이)가 첨부 되었습니다.\n",
      "document.pptx (이)가 첨부 되었습니다.\n",
      "pay5.xlsx (이)가 첨부 되었습니다.\n",
      "작업에 소요된 시간은 총 19초 입니다.\n"
     ]
    }
   ],
   "source": [
    "startTime = dt.datetime.now()\n",
    "\n",
    "with open('mail/mail_list.csv', 'r', encoding='utf-8') as f:\n",
    "    csv = f.readlines()\n",
    "\n",
    "    for line in csv:\n",
    "        name, email, file1, file2 = line.strip().split(\",\")\n",
    "        toAddr = \"{name} <{email}>\".format(name = name, email = email)\n",
    "        subject = subjectTmpl.format(name = name, yy = year, mm = month)\n",
    "        content = contentTmpl.format(name = name, yy = year, mm = month, dd = day)\n",
    "\n",
    "        MyMailer.sendMail(fromAddr, toAddr, subject, content, [file1, file2])\n",
    "\n",
    "endTime = dt.datetime.now()\n",
    "workTime = endTime - startTime\n",
    "print(\"작업에 소요된 시간은 총 %s초 입니다.\" % workTime.seconds)"
   ]
  },
  {
   "cell_type": "markdown",
   "id": "68384bb2",
   "metadata": {},
   "source": [
    "##### 비동기식 메일 발송"
   ]
  },
  {
   "cell_type": "code",
   "execution_count": null,
   "id": "24b75bee",
   "metadata": {},
   "outputs": [
    {
     "name": "stdout",
     "output_type": "stream",
     "text": [
      "document.pptx (이)가 첨부 되었습니다.\n",
      "pay1.xlsx (이)가 첨부 되었습니다.\n",
      "document.pptxdocument.pptx (이)가 첨부 되었습니다.\n",
      " (이)가 첨부 되었습니다.\n",
      "pay2.xlsx (이)가 첨부 되었습니다.\n",
      "pay1.xlsx (이)가 첨부 되었습니다.\n",
      "document.pptxdocument.pptx (이)가 첨부 되었습니다.\n",
      " (이)가 첨부 되었습니다.\n",
      "pay2.xlsx (이)가 첨부 되었습니다.\n",
      "pay3.xlsx (이)가 첨부 되었습니다.\n",
      "document.pptx (이)가 첨부 되었습니다.\n",
      "document.pptx (이)가 첨부 되었습니다.\n",
      "pay3.xlsx (이)가 첨부 되었습니다.\n",
      "pay4.xlsx (이)가 첨부 되었습니다.\n",
      "document.pptx (이)가 첨부 되었습니다.\n",
      "document.pptx (이)가 첨부 되었습니다.\n",
      "pay5.xlsx (이)가 첨부 되었습니다.\n",
      "pay4.xlsx (이)가 첨부 되었습니다.\n",
      "document.pptx (이)가 첨부 되었습니다.\n",
      "pay5.xlsx (이)가 첨부 되었습니다.\n",
      "작업에 소요된 시간은 총 23초 입니다.\n"
     ]
    }
   ],
   "source": [
    "import concurrent.futures as futures\n",
    "# 동시 메일 발송 처리\n",
    "\n",
    "startTime = dt.datetime.now()\n",
    "\n",
    "with open('mail/mail_list.csv', 'r', encoding='utf-8') as f:\n",
    "    csv = f.readlines()\n",
    "\n",
    "    with futures.ThreadPoolExecutor(max_workers=10) as executor:\n",
    "        for line in csv:\n",
    "            name, email, file1, file2 = line.strip().split(\",\")\n",
    "            toAddr = \"{name} <{email}>\".format(name = name, email = email)\n",
    "            subject = subjectTmpl.format(name = name, yy = year, mm = month)\n",
    "            content = contentTmpl.format(name = name, yy = year, mm = month, dd = day)\n",
    "\n",
    "            MyMailer.sendMail(fromAddr, toAddr, subject, content, [file1, file2])\n",
    "            executor.submit(MyMailer.sendMail, fromAddr, toAddr, subject, content, [file1, file2])\n",
    "\n",
    "endTime = dt.datetime.now()\n",
    "workTime = endTime - startTime\n",
    "print(\"작업에 소요된 시간은 총 %s초 입니다.\" % workTime.seconds)"
   ]
  },
  {
   "cell_type": "markdown",
   "id": "4996d853",
   "metadata": {},
   "source": [
    "## # 04. 비동기리턴 / 예외처리"
   ]
  },
  {
   "cell_type": "markdown",
   "id": "d23f8929",
   "metadata": {},
   "source": [
    "### 비동기 리턴"
   ]
  },
  {
   "cell_type": "code",
   "execution_count": null,
   "id": "3b1210ac",
   "metadata": {},
   "outputs": [],
   "source": [
    "# 비동기 리턴문 템플릿:\n",
    "    # 1. '빈 리스트' 만들고\n",
    "    # 2. '반복문'에서 조건 충족되는거 줍줍하면서\n",
    "    # 3. 리스트에 조건축종 원소 '쌓는것'"
   ]
  },
  {
   "cell_type": "code",
   "execution_count": null,
   "id": "f5e01fd0",
   "metadata": {},
   "outputs": [],
   "source": [
    "# What to focus from now on when coding:\n",
    "    # 1. 사용하는 변수, 객체의 '출처'를 확인하자\n",
    "    # 2. 결과값의 내용을 확인하자 by 결과 line마다\n",
    "        # '#print(\"result=\", 변수)'"
   ]
  },
  {
   "cell_type": "markdown",
   "id": "d80637c5",
   "metadata": {},
   "source": [
    "### 비동기 호출 시 에러처리 방법"
   ]
  },
  {
   "cell_type": "code",
   "execution_count": null,
   "id": "1b86d7b6",
   "metadata": {},
   "outputs": [],
   "source": [
    "# 05. 딕셔너리의 3.예외처리 참고\n",
    "\n",
    "# for later: 선택적 crolling\n",
    "    # chrome browser를 python이 제어한다\n",
    "    # ex. web-site crolling\n",
    "    # 중간에 error 났을 때 뻗지 말라고 예외(에러)처리 하는거임\n",
    "\n",
    "# 데이터 크롤링 작업 때 필수 코드!"
   ]
  },
  {
   "cell_type": "markdown",
   "id": "abb62739",
   "metadata": {},
   "source": [
    "#### (∴) 비동기 리턴 w/ 예외처리 = 크롤링 = 빅데이터 수집"
   ]
  },
  {
   "cell_type": "markdown",
   "id": "72fd9e29",
   "metadata": {},
   "source": [
    "##### 실습예제: 비동기 호출로 인한 리턴값 받기"
   ]
  },
  {
   "cell_type": "code",
   "execution_count": 41,
   "id": "a9e7479a",
   "metadata": {},
   "outputs": [],
   "source": [
    "def mywork(n):\n",
    "    # 비동기로 호출되는 함수가 리턴값을 받을 경우\n",
    "    processes = []\n",
    "    # 비동기 프로세스를 저장할 빈 리스트\n",
    "    with futures.ThreadPoolExecuter(max_workers=3) as executor:\n",
    "        for n in range(10):\n",
    "            pro = executor.submit(mywork, n)\n",
    "            # executor.submit(): 함수를 실행하고, 비동기적 결과를 반환하는 futures 객체를 반환한다.\n",
    "            processes.append(pro)\n",
    "            # 비동기 프로세스를 준비한 빈리스트에 저장한다\n",
    "        \n",
    "        for p in processes:\n",
    "            result = p.result()\n",
    "            # 비동기 처리된 리턴값을 받는다."
   ]
  },
  {
   "cell_type": "markdown",
   "id": "8ee14414",
   "metadata": {},
   "source": [
    "##### 실습1-1: 비동기 작업을 위함 함수 정의"
   ]
  },
  {
   "cell_type": "code",
   "execution_count": 42,
   "id": "48f5f02f",
   "metadata": {},
   "outputs": [],
   "source": [
    "import random\n",
    "# 내장함수임\n",
    "# random module: provides functions for generating pseudo-random numbers and performing random selections.\n",
    "\n",
    "def randomwork(name):\n",
    "    randomSecond = random.randrange(1, 9)\n",
    "    # random.randrange(start, stop, step): This function returns a randomly selected element from range(start, stop, step). The step argument is optional.\n",
    "\n",
    "    print(\"[%s] 작업을 %d초 동안 수행합니다.\" %(name, randomSecond))\n",
    "\n",
    "    for i in range(0, randomSecond):\n",
    "        time.sleep(1)\n",
    "        print(\"[%s] 작업을 %d초 동안 수행합니다.\" %(name, i + 1))\n",
    "\n",
    "    print(\"[%s] 작업이 종료 되었습니다..\" % name)\n",
    "\n",
    "    return randomSecond\n",
    "    # 실제로 몇초동안 작업 했는지 리턴"
   ]
  },
  {
   "cell_type": "markdown",
   "id": "321742ae",
   "metadata": {},
   "source": [
    "##### 실습1-2: 비동기 작업 처리 결과 후 결과값 리턴 받기"
   ]
  },
  {
   "cell_type": "code",
   "execution_count": null,
   "id": "3a6f2ecf",
   "metadata": {},
   "outputs": [
    {
     "name": "stdout",
     "output_type": "stream",
     "text": [
      "[Lee] 작업을 3초 동안 수행합니다.\n",
      "[Kim] 작업을 1초 동안 수행합니다.\n",
      "[Hong] 작업을 3초 동안 수행합니다.\n",
      "[Lee] 작업을 1초 동안 수행합니다.\n",
      "[Hong] 작업을 1초 동안 수행합니다.\n",
      "[Kim] 작업을 1초 동안 수행합니다.\n",
      "[Kim] 작업이 종료 되었습니다..\n",
      "[Park] 작업을 3초 동안 수행합니다.\n",
      "[Lee] 작업을 2초 동안 수행합니다.\n",
      "[Hong] 작업을 2초 동안 수행합니다.\n",
      "[Park] 작업을 1초 동안 수행합니다.\n",
      "[Lee] 작업을 3초 동안 수행합니다.[Hong] 작업을 3초 동안 수행합니다.\n",
      "[Hong] 작업이 종료 되었습니다..\n",
      "[Nam] 작업을 5초 동안 수행합니다.\n",
      "[Park] 작업을 2초 동안 수행합니다.\n",
      "\n",
      "[Lee] 작업이 종료 되었습니다..\n",
      "[Nam] 작업을 1초 동안 수행합니다.[Park] 작업을 3초 동안 수행합니다.\n",
      "[Park] 작업이 종료 되었습니다..\n",
      "\n",
      "[Nam] 작업을 2초 동안 수행합니다.\n",
      "[Nam] 작업을 3초 동안 수행합니다.\n",
      "[Nam] 작업을 4초 동안 수행합니다.\n",
      "[Nam] 작업을 5초 동안 수행합니다.\n",
      "[Nam] 작업이 종료 되었습니다..\n",
      "비동기 처리가 총 15초의 작업을 수행 하였습니다.\n",
      "작업에 소요된 시간은 총 8초 입니다.\n"
     ]
    }
   ],
   "source": [
    "startTime = dt.datetime.now()\n",
    "\n",
    "names = ['Lee', \"Kim\", 'Hong', \"Park\", 'Nam']\n",
    "processes = []\n",
    "#비동기 프로세스를 저장할 껍데기\n",
    "resultSet = []\n",
    "# 비동기 작업 결과를 저장할 껍데기\n",
    "\n",
    "with futures.ThreadPoolExecutor(max_workers=3) as executor:\n",
    "    for n in names:\n",
    "        pro = executor.submit(randomwork, n)\n",
    "        # 비동기 작업 생성\n",
    "        processes.append(pro)\n",
    "    #print(\"result=\", processes)\n",
    "\n",
    "    for p in processes:\n",
    "        result = p.result()\n",
    "        # 비동기 작업한 randomWork 함수의 결과값 리턴받음\n",
    "        resultSet.append(result)\n",
    "    #print(\"result=\", reultSet)\n",
    "\n",
    "print(\"비동기 처리가 총 %d초의 작업을 수행 하였습니다.\" % sum(resultSet))\n",
    "# 동기처리 했을 때를 가정한 실행시간 출력\n",
    "\n",
    "endTime = dt.datetime.now()\n",
    "workTime = endTime - startTime\n",
    "print(\"작업에 소요된 시간은 총 %s초 입니다.\" % workTime.seconds)\n",
    "# 실제 실행시간 (비동기 처리) 출력"
   ]
  },
  {
   "cell_type": "markdown",
   "id": "b2d5af00",
   "metadata": {},
   "source": [
    "##### 실습 2-1: 비동기 '예외'처리"
   ]
  },
  {
   "cell_type": "code",
   "execution_count": null,
   "id": "fcb7719d",
   "metadata": {},
   "outputs": [],
   "source": [
    "# 예외(=에러)를 발생시키는 함수 정의\n",
    "\n",
    "import random\n",
    "seasons = ['봄', '여름', '가을', '겨울']\n",
    "\n",
    "def seasonWork(name):\n",
    "    randomSecond = random.randrange(1, 9)\n",
    "    # 내장함수\n",
    "    # random.randrange(start, stop, step): This function returns a randomly selected element from range(start, stop, step). The step argument is optional.\n",
    "\n",
    "    print(\"[%s] 작업을 %d초 동안 수행합니다.\" %(name, randomSecond))\n",
    "\n",
    "    for i in range(0, randomSecond):\n",
    "        time.sleep(1)\n",
    "        print(\"[%s] 지금은 <%s>입니다.\" %(name, seasons[i]))\n",
    "        # 에러사항을 위한 모델임 (i가 4 이상부터 에러발생)\n",
    "\n",
    "    print(\"[%s] 작업이 종료 되었습니다.\" % name)\n",
    "\n",
    "    return [name, randomSecond]"
   ]
  },
  {
   "cell_type": "markdown",
   "id": "b2de3373",
   "metadata": {},
   "source": [
    "##### 실습2-2: 에러를 포함한 작업 처리 결과 후 결과값 리턴 받기"
   ]
  },
  {
   "cell_type": "code",
   "execution_count": 44,
   "id": "d4e7a093",
   "metadata": {},
   "outputs": [
    {
     "name": "stdout",
     "output_type": "stream",
     "text": [
      "[Lee] 작업을 8초 동안 수행합니다.\n",
      "[Kim] 작업을 1초 동안 수행합니다.\n",
      "[Hong] 작업을 6초 동안 수행합니다.\n",
      "[Park] 작업을 8초 동안 수행합니다.\n",
      "[Nam] 작업을 3초 동안 수행합니다.\n",
      "[Hong] 작업을 1초 동안 수행합니다.\n",
      "[Park] 작업을 1초 동안 수행합니다.\n",
      "[Nam] 작업을 1초 동안 수행합니다.\n",
      "[Lee] 작업을 1초 동안 수행합니다.\n",
      "[Kim] 작업을 1초 동안 수행합니다.\n",
      "[Kim] 작업이 종료 되었습니다..\n",
      "[Hong] 작업을 2초 동안 수행합니다.[Park] 작업을 2초 동안 수행합니다.\n",
      "\n",
      "[Nam] 작업을 2초 동안 수행합니다.\n",
      "[Lee] 작업을 2초 동안 수행합니다.\n",
      "[Park] 작업을 3초 동안 수행합니다.\n",
      "[Lee] 작업을 3초 동안 수행합니다.\n",
      "[Nam] 작업을 3초 동안 수행합니다.\n",
      "[Nam] 작업이 종료 되었습니다..\n",
      "[Hong] 작업을 3초 동안 수행합니다.\n",
      "[Park] 작업을 4초 동안 수행합니다.\n",
      "[Lee] 작업을 4초 동안 수행합니다.\n",
      "[Hong] 작업을 4초 동안 수행합니다.\n",
      "[Park] 작업을 5초 동안 수행합니다.\n",
      "[Hong] 작업을 5초 동안 수행합니다.\n",
      "[Lee] 작업을 5초 동안 수행합니다.\n",
      "[Park] 작업을 6초 동안 수행합니다.\n",
      "[Lee] 작업을 6초 동안 수행합니다.\n",
      "[Hong] 작업을 6초 동안 수행합니다.\n",
      "[Hong] 작업이 종료 되었습니다..\n",
      "[Park] 작업을 7초 동안 수행합니다.\n",
      "[Lee] 작업을 7초 동안 수행합니다.\n",
      "[Park] 작업을 8초 동안 수행합니다.\n",
      "[Park] 작업이 종료 되었습니다..\n",
      "[Lee] 작업을 8초 동안 수행합니다.\n",
      "[Lee] 작업이 종료 되었습니다..\n",
      "cannot unpack non-iterable int object\n",
      "cannot unpack non-iterable int object\n",
      "cannot unpack non-iterable int object\n",
      "cannot unpack non-iterable int object\n",
      "cannot unpack non-iterable int object\n",
      "작업에 소요된 시간은 총 8초 입니다.\n"
     ]
    }
   ],
   "source": [
    "startTime = dt.datetime.now()\n",
    "\n",
    "names = ['Lee', \"Kim\", 'Hong', \"Park\", 'Nam']\n",
    "processes = []\n",
    "nameSet = []\n",
    "timeSet = []\n",
    "\n",
    "with futures.ThreadPoolExecutor(max_workers=len(names)) as executor:\n",
    "    for n in names:\n",
    "        pro = executor.submit(randomwork, n)\n",
    "        processes.append(pro)\n",
    "    #print(\"result=\", processes)\n",
    "\n",
    "#-----------------------------------------------------\n",
    "# 에러 대비용 try ~ except 구문!\n",
    "#-----------------------------------------------------\n",
    "    for p in processes:\n",
    "        try:\n",
    "            name, n = p.result()\n",
    "            nameSet.append(name)\n",
    "            timeSet.append(n)\n",
    "            print(\"%s의 작업이 완료 되었습니다.\" % name)\n",
    "        except Exception as e:\n",
    "            print(e)\n",
    "#-----------------------------------------------------\n",
    "endTime = dt.datetime.now()\n",
    "workTime = endTime - startTime\n",
    "print(\"작업에 소요된 시간은 총 %s초 입니다.\" % workTime.seconds)"
   ]
  },
  {
   "cell_type": "code",
   "execution_count": null,
   "id": "3751f48a",
   "metadata": {},
   "outputs": [],
   "source": []
  }
 ],
 "metadata": {
  "kernelspec": {
   "display_name": "Python 3",
   "language": "python",
   "name": "python3"
  },
  "language_info": {
   "codemirror_mode": {
    "name": "ipython",
    "version": 3
   },
   "file_extension": ".py",
   "mimetype": "text/x-python",
   "name": "python",
   "nbconvert_exporter": "python",
   "pygments_lexer": "ipython3",
   "version": "3.13.9"
  }
 },
 "nbformat": 4,
 "nbformat_minor": 5
}
