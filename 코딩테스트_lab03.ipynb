{
 "cells": [
  {
   "cell_type": "code",
   "execution_count": null,
   "id": "ec69c28e",
   "metadata": {},
   "outputs": [],
   "source": [
    "def solution(n):\n",
    "    answer = 2\n",
    "    for a in range(1, n//2):\n",
    "        if a**2 == n:\n",
    "            answer = 1\n",
    "            break\n",
    "\n",
    "    return answer"
   ]
  },
  {
   "cell_type": "code",
   "execution_count": 28,
   "id": "3c5649fd",
   "metadata": {},
   "outputs": [
    {
     "name": "stdout",
     "output_type": "stream",
     "text": [
      "*\n",
      "**\n",
      "***\n",
      "****\n",
      "*****\n"
     ]
    }
   ],
   "source": [
    "n = int(input())\n",
    "for i in range(0, n):   # -> i는 2차원 리스트에서 행을 뜻함\n",
    "    star = \"\"\n",
    "    for j in range(0, i+1): # -> j는 2차원 리스트에서 열을 뜻함\n",
    "        star = star + \"*\"\n",
    "    print(star)"
   ]
  },
  {
   "cell_type": "code",
   "execution_count": 29,
   "id": "a70ca069",
   "metadata": {},
   "outputs": [],
   "source": [
    "def solution(n):\n",
    "    answer = 0\n",
    "    for i in range(0, n+1):\n",
    "        if i%2 == 0:\n",
    "            answer = answer + i\n",
    "    return answer"
   ]
  },
  {
   "cell_type": "code",
   "execution_count": 45,
   "id": "24f597f3",
   "metadata": {},
   "outputs": [],
   "source": [
    "def solution(n):\n",
    "    factorial = 1\n",
    "    answer = 0\n",
    "    for i in range(1, n+1):\n",
    "        factorial = factorial * i\n",
    "        if factorial <= n:\n",
    "            answer = answer + 1\n",
    "            continue\n",
    "        if factorial > n:\n",
    "            break\n",
    "    return answer"
   ]
  },
  {
   "cell_type": "code",
   "execution_count": 37,
   "id": "8128b51b",
   "metadata": {},
   "outputs": [
    {
     "data": {
      "text/plain": [
       "10"
      ]
     },
     "execution_count": 37,
     "metadata": {},
     "output_type": "execute_result"
    }
   ],
   "source": [
    "solution(3628800)"
   ]
  },
  {
   "cell_type": "code",
   "execution_count": 38,
   "id": "8cdb4474",
   "metadata": {},
   "outputs": [
    {
     "data": {
      "text/plain": [
       "3"
      ]
     },
     "execution_count": 38,
     "metadata": {},
     "output_type": "execute_result"
    }
   ],
   "source": [
    "solution(7)"
   ]
  },
  {
   "cell_type": "code",
   "execution_count": 52,
   "id": "0c9430b2",
   "metadata": {},
   "outputs": [],
   "source": [
    "def solution(n):\n",
    "    count = 0\n",
    "\n",
    "    for i in range(1, n+1):\n",
    "        if n % i == 0:\n",
    "            count = count + 1\n",
    "    return count"
   ]
  },
  {
   "cell_type": "code",
   "execution_count": null,
   "id": "8ffad612",
   "metadata": {},
   "outputs": [],
   "source": [
    "def solution(n):\n",
    "    pizza = 1\n",
    "    for i in range(1, n):\n",
    "        if pizza * 6 % n != 0:\n",
    "            pizza = pizza + 1\n",
    "    return pizza"
   ]
  },
  {
   "cell_type": "code",
   "execution_count": null,
   "id": "8d1197de",
   "metadata": {},
   "outputs": [],
   "source": [
    "def solution(n):\n",
    "    count = 0\n",
    "    i = 1\n",
    "    j = 1\n",
    "    for i, j in range(1, n+1):\n",
    "        i * j == n\n",
    "        if i != 1:\n",
    "            if j != 1:\n",
    "                count = count + 1\n",
    "    return count\n"
   ]
  },
  {
   "cell_type": "code",
   "execution_count": null,
   "id": "82015aa8",
   "metadata": {},
   "outputs": [],
   "source": [
    "def solution(n):\n",
    "    for i in range(1, n+1):    \n",
    "        count = 0\n",
    "        \n",
    "        for j in range(2, n+1):\n",
    "            i * j <= n\n",
    "            if i * j != j:\n",
    "                count = count + 1\n",
    "    return count\n",
    "\n",
    "def solution(n):\n",
    "    count = 0\n",
    "    for i in range(2,n):\n",
    "        n % i == 0\n",
    "        if j in range(2, n):\n",
    "            count = count + 1\n",
    "    return count"
   ]
  },
  {
   "cell_type": "code",
   "execution_count": null,
   "id": "37497b76",
   "metadata": {},
   "outputs": [],
   "source": []
  }
 ],
 "metadata": {
  "kernelspec": {
   "display_name": "Python 3",
   "language": "python",
   "name": "python3"
  },
  "language_info": {
   "codemirror_mode": {
    "name": "ipython",
    "version": 3
   },
   "file_extension": ".py",
   "mimetype": "text/x-python",
   "name": "python",
   "nbconvert_exporter": "python",
   "pygments_lexer": "ipython3",
   "version": "3.13.9"
  }
 },
 "nbformat": 4,
 "nbformat_minor": 5
}
