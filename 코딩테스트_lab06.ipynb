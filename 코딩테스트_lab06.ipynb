{
 "cells": [
  {
   "cell_type": "code",
   "execution_count": null,
   "id": "456dcdc9",
   "metadata": {},
   "outputs": [],
   "source": [
    "def solution(array):\n",
    "    answer = 0\n",
    "    return answer"
   ]
  },
  {
   "cell_type": "code",
   "execution_count": null,
   "id": "9ef6d152",
   "metadata": {},
   "outputs": [],
   "source": [
    "def solution(s1, s2):\n",
    "    s3 = s1 + s2\n",
    "    count = 0\n",
    "    \n",
    "    for i in s3:\n",
    "        c = s3.count(i)\n",
    "        if c >= 2:\n",
    "            count += 1\n",
    "    \n",
    "    if count != 0:\n",
    "        count = count ** 0.5\n",
    "    \n",
    "    return count"
   ]
  },
  {
   "cell_type": "code",
   "execution_count": 2,
   "id": "e6a0cbda",
   "metadata": {},
   "outputs": [
    {
     "data": {
      "text/plain": [
       "2"
      ]
     },
     "execution_count": 2,
     "metadata": {},
     "output_type": "execute_result"
    }
   ],
   "source": [
    "solution([\"a\", \"b\", \"c\"], [\"com\", \"b\", \"d\", \"p\", \"c\"])"
   ]
  },
  {
   "cell_type": "code",
   "execution_count": null,
   "id": "3605090c",
   "metadata": {},
   "outputs": [],
   "source": [
    "def solution(s1, s2):\n",
    "    list1 = s1.split(\",\")\n",
    "    list2 = s2.split(\",\")\n",
    "    list3 = list1.extend(list2)\n",
    "\n",
    "    count = 0\n",
    "    for i in list3:\n",
    "        c = list3.count(i)\n",
    "        if c >= 2:\n",
    "            count += 1\n",
    "    \n",
    "     return count\n",
    "\n",
    "    if count != 0:\n",
    "        count = count ** 5\n",
    "    \n",
    "    return count"
   ]
  }
 ],
 "metadata": {
  "kernelspec": {
   "display_name": "Python 3",
   "language": "python",
   "name": "python3"
  },
  "language_info": {
   "codemirror_mode": {
    "name": "ipython",
    "version": 3
   },
   "file_extension": ".py",
   "mimetype": "text/x-python",
   "name": "python",
   "nbconvert_exporter": "python",
   "pygments_lexer": "ipython3",
   "version": "3.13.9"
  }
 },
 "nbformat": 4,
 "nbformat_minor": 5
}
