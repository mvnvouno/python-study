{
 "cells": [
  {
   "cell_type": "code",
   "execution_count": null,
   "id": "456dcdc9",
   "metadata": {},
   "outputs": [],
   "source": [
    "sdsd"
   ]
  }
 ],
 "metadata": {
  "language_info": {
   "name": "python"
  }
 },
 "nbformat": 4,
 "nbformat_minor": 5
}
